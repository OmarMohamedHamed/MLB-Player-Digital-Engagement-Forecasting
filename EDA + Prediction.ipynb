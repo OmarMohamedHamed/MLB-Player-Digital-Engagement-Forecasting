{
 "cells": [
  {
   "cell_type": "code",
   "execution_count": 1,
   "id": "minimal-reflection",
   "metadata": {
    "execution": {
     "iopub.execute_input": "2021-07-18T16:15:27.568802Z",
     "iopub.status.busy": "2021-07-18T16:15:27.566970Z",
     "iopub.status.idle": "2021-07-18T16:15:28.588038Z",
     "shell.execute_reply": "2021-07-18T16:15:28.587415Z",
     "shell.execute_reply.started": "2021-07-18T14:38:49.540116Z"
    },
    "papermill": {
     "duration": 1.079892,
     "end_time": "2021-07-18T16:15:28.588227",
     "exception": false,
     "start_time": "2021-07-18T16:15:27.508335",
     "status": "completed"
    },
    "tags": []
   },
   "outputs": [],
   "source": [
    "import numpy as np\n",
    "import pandas as pd\n",
    "\n",
    "import matplotlib.pyplot as plt\n",
    "import seaborn as sns\n",
    "import ipywidgets as widgets\n",
    "from sklearn.preprocessing import StandardScaler\n",
    "import gc\n",
    "from pathlib import Path"
   ]
  },
  {
   "cell_type": "code",
   "execution_count": 2,
   "id": "mediterranean-planning",
   "metadata": {
    "execution": {
     "iopub.execute_input": "2021-07-18T16:15:28.718951Z",
     "iopub.status.busy": "2021-07-18T16:15:28.717109Z",
     "iopub.status.idle": "2021-07-18T16:15:28.887949Z",
     "shell.execute_reply": "2021-07-18T16:15:28.887347Z",
     "shell.execute_reply.started": "2021-07-18T14:38:50.680147Z"
    },
    "papermill": {
     "duration": 0.256601,
     "end_time": "2021-07-18T16:15:28.888083",
     "exception": false,
     "start_time": "2021-07-18T16:15:28.631482",
     "status": "completed"
    },
    "tags": []
   },
   "outputs": [
    {
     "data": {
      "application/vnd.jupyter.widget-view+json": {
       "model_id": "9c0dbfc50dbc488f9f612e6f95d8bd26",
       "version_major": 2,
       "version_minor": 0
      },
      "text/plain": [
       "Tab(children=(Output(), Output(), Output(), Output()), _titles={'0': 'seasons', '1': 'teams', '2': 'players', …"
      ]
     },
     "metadata": {},
     "output_type": "display_data"
    }
   ],
   "source": [
    "# Start with input file path\n",
    "input_file_path = Path('/kaggle/input/mlb-player-digital-engagement-forecasting/')\n",
    "\n",
    "\n",
    "# Create table with list of CSV files to be read in, w/ corresponding df name\n",
    "# This does include large 'train' data set (read in separately)\n",
    "csv_and_df_names = pd.DataFrame(data = {\n",
    "  'csv_name': ['seasons', 'teams', 'players', 'awards'],\n",
    "  'df_name': ['seasons', 'teams', 'players', 'awards_pre2018'] \n",
    "  })\n",
    "\n",
    "# Set up for tabbed output\n",
    "kaggle_data_tabs = widgets.Tab()\n",
    "\n",
    "# Add Output widgets for each (eventual) DF as tabs' children\n",
    "kaggle_data_tabs.children = list([widgets.Output() for df_name \n",
    "  in csv_and_df_names['df_name']])\n",
    "\n",
    "for index, row in csv_and_df_names.iterrows():\n",
    "    \n",
    "    csv_name = row['csv_name']\n",
    "    df_name = row['df_name']\n",
    "    \n",
    "    # Read from CSV and create df with specified name in environment\n",
    "    globals()[df_name] = pd.read_csv(input_file_path / f\"{csv_name}.csv\")\n",
    "\n",
    "    # Set tab title to df name\n",
    "    kaggle_data_tabs.set_title(index, df_name)\n",
    "    \n",
    "    # Display corresponding table output for this tab name\n",
    "    with kaggle_data_tabs.children[index]:\n",
    "        display(eval(df_name))\n",
    "\n",
    "display(kaggle_data_tabs)"
   ]
  },
  {
   "cell_type": "code",
   "execution_count": 3,
   "id": "motivated-vacuum",
   "metadata": {
    "execution": {
     "iopub.execute_input": "2021-07-18T16:15:28.982452Z",
     "iopub.status.busy": "2021-07-18T16:15:28.981871Z",
     "iopub.status.idle": "2021-07-18T16:16:43.097678Z",
     "shell.execute_reply": "2021-07-18T16:16:43.098180Z",
     "shell.execute_reply.started": "2021-07-18T14:38:51.494263Z"
    },
    "papermill": {
     "duration": 74.165067,
     "end_time": "2021-07-18T16:16:43.098364",
     "exception": false,
     "start_time": "2021-07-18T16:15:28.933297",
     "status": "completed"
    },
    "tags": []
   },
   "outputs": [
    {
     "name": "stdout",
     "output_type": "stream",
     "text": [
      "<class 'pandas.core.frame.DataFrame'>\n",
      "RangeIndex: 1216 entries, 0 to 1215\n",
      "Data columns (total 12 columns):\n",
      " #   Column                   Non-Null Count  Dtype         \n",
      "---  ------                   --------------  -----         \n",
      " 0   date                     1216 non-null   datetime64[ns]\n",
      " 1   nextDayPlayerEngagement  1216 non-null   object        \n",
      " 2   games                    639 non-null    object        \n",
      " 3   rosters                  1216 non-null   object        \n",
      " 4   playerBoxScores          538 non-null    object        \n",
      " 5   teamBoxScores            538 non-null    object        \n",
      " 6   transactions             1103 non-null   object        \n",
      " 7   standings                531 non-null    object        \n",
      " 8   awards                   294 non-null    object        \n",
      " 9   events                   536 non-null    object        \n",
      " 10  playerTwitterFollowers   40 non-null     object        \n",
      " 11  teamTwitterFollowers     40 non-null     object        \n",
      "dtypes: datetime64[ns](1), object(11)\n",
      "memory usage: 114.1+ KB\n"
     ]
    },
    {
     "data": {
      "text/plain": [
       "None"
      ]
     },
     "metadata": {},
     "output_type": "display_data"
    },
    {
     "data": {
      "text/html": [
       "<div>\n",
       "<style scoped>\n",
       "    .dataframe tbody tr th:only-of-type {\n",
       "        vertical-align: middle;\n",
       "    }\n",
       "\n",
       "    .dataframe tbody tr th {\n",
       "        vertical-align: top;\n",
       "    }\n",
       "\n",
       "    .dataframe thead th {\n",
       "        text-align: right;\n",
       "    }\n",
       "</style>\n",
       "<table border=\"1\" class=\"dataframe\">\n",
       "  <thead>\n",
       "    <tr style=\"text-align: right;\">\n",
       "      <th></th>\n",
       "      <th>date</th>\n",
       "      <th>nextDayPlayerEngagement</th>\n",
       "      <th>games</th>\n",
       "      <th>rosters</th>\n",
       "      <th>playerBoxScores</th>\n",
       "      <th>teamBoxScores</th>\n",
       "      <th>transactions</th>\n",
       "      <th>standings</th>\n",
       "      <th>awards</th>\n",
       "      <th>events</th>\n",
       "      <th>playerTwitterFollowers</th>\n",
       "      <th>teamTwitterFollowers</th>\n",
       "    </tr>\n",
       "  </thead>\n",
       "  <tbody>\n",
       "    <tr>\n",
       "      <th>0</th>\n",
       "      <td>2018-01-01</td>\n",
       "      <td>[{\"engagementMetricsDate\":\"2018-01-02\",\"player...</td>\n",
       "      <td>NaN</td>\n",
       "      <td>[{\"playerId\":400121,\"gameDate\":\"2018-01-01\",\"t...</td>\n",
       "      <td>NaN</td>\n",
       "      <td>NaN</td>\n",
       "      <td>[{\"transactionId\":340732,\"playerId\":547348,\"pl...</td>\n",
       "      <td>NaN</td>\n",
       "      <td>NaN</td>\n",
       "      <td>NaN</td>\n",
       "      <td>[{\"date\":\"2018-01-01\",\"playerId\":545361,\"playe...</td>\n",
       "      <td>[{\"date\":\"2018-01-01\",\"teamId\":147,\"teamName\":...</td>\n",
       "    </tr>\n",
       "    <tr>\n",
       "      <th>1</th>\n",
       "      <td>2018-01-02</td>\n",
       "      <td>[{\"engagementMetricsDate\":\"2018-01-03\",\"player...</td>\n",
       "      <td>NaN</td>\n",
       "      <td>[{\"playerId\":134181,\"gameDate\":\"2018-01-02\",\"t...</td>\n",
       "      <td>NaN</td>\n",
       "      <td>NaN</td>\n",
       "      <td>[{\"transactionId\":339458,\"playerId\":621173,\"pl...</td>\n",
       "      <td>NaN</td>\n",
       "      <td>NaN</td>\n",
       "      <td>NaN</td>\n",
       "      <td>NaN</td>\n",
       "      <td>NaN</td>\n",
       "    </tr>\n",
       "    <tr>\n",
       "      <th>2</th>\n",
       "      <td>2018-01-03</td>\n",
       "      <td>[{\"engagementMetricsDate\":\"2018-01-04\",\"player...</td>\n",
       "      <td>NaN</td>\n",
       "      <td>[{\"playerId\":425492,\"gameDate\":\"2018-01-03\",\"t...</td>\n",
       "      <td>NaN</td>\n",
       "      <td>NaN</td>\n",
       "      <td>[{\"transactionId\":347527,\"playerId\":572389,\"pl...</td>\n",
       "      <td>NaN</td>\n",
       "      <td>NaN</td>\n",
       "      <td>NaN</td>\n",
       "      <td>NaN</td>\n",
       "      <td>NaN</td>\n",
       "    </tr>\n",
       "    <tr>\n",
       "      <th>3</th>\n",
       "      <td>2018-01-04</td>\n",
       "      <td>[{\"engagementMetricsDate\":\"2018-01-05\",\"player...</td>\n",
       "      <td>NaN</td>\n",
       "      <td>[{\"playerId\":282332,\"gameDate\":\"2018-01-04\",\"t...</td>\n",
       "      <td>NaN</td>\n",
       "      <td>NaN</td>\n",
       "      <td>[{\"transactionId\":339549,\"playerId\":545343,\"pl...</td>\n",
       "      <td>NaN</td>\n",
       "      <td>NaN</td>\n",
       "      <td>NaN</td>\n",
       "      <td>NaN</td>\n",
       "      <td>NaN</td>\n",
       "    </tr>\n",
       "    <tr>\n",
       "      <th>4</th>\n",
       "      <td>2018-01-05</td>\n",
       "      <td>[{\"engagementMetricsDate\":\"2018-01-06\",\"player...</td>\n",
       "      <td>NaN</td>\n",
       "      <td>[{\"playerId\":282332,\"gameDate\":\"2018-01-05\",\"t...</td>\n",
       "      <td>NaN</td>\n",
       "      <td>NaN</td>\n",
       "      <td>[{\"transactionId\":341195,\"playerId\":628336,\"pl...</td>\n",
       "      <td>NaN</td>\n",
       "      <td>NaN</td>\n",
       "      <td>NaN</td>\n",
       "      <td>NaN</td>\n",
       "      <td>NaN</td>\n",
       "    </tr>\n",
       "    <tr>\n",
       "      <th>...</th>\n",
       "      <td>...</td>\n",
       "      <td>...</td>\n",
       "      <td>...</td>\n",
       "      <td>...</td>\n",
       "      <td>...</td>\n",
       "      <td>...</td>\n",
       "      <td>...</td>\n",
       "      <td>...</td>\n",
       "      <td>...</td>\n",
       "      <td>...</td>\n",
       "      <td>...</td>\n",
       "      <td>...</td>\n",
       "    </tr>\n",
       "    <tr>\n",
       "      <th>1211</th>\n",
       "      <td>2021-04-26</td>\n",
       "      <td>[{\"engagementMetricsDate\":\"2021-04-27\",\"player...</td>\n",
       "      <td>[{\"gamePk\":634374,\"gameType\":\"R\",\"season\":2021...</td>\n",
       "      <td>[{\"playerId\":405395,\"gameDate\":\"2021-04-26\",\"t...</td>\n",
       "      <td>[{\"home\":1,\"gamePk\":634377,\"gameDate\":\"2021-04...</td>\n",
       "      <td>[{\"home\":1,\"teamId\":139,\"gamePk\":634343,\"gameD...</td>\n",
       "      <td>[{\"transactionId\":480386,\"playerId\":543685,\"pl...</td>\n",
       "      <td>[{\"season\":2021,\"gameDate\":\"2021-04-26\",\"divis...</td>\n",
       "      <td>NaN</td>\n",
       "      <td>[{\"gamePk\":634433,\"gameDate\":\"2021-04-26\",\"gam...</td>\n",
       "      <td>NaN</td>\n",
       "      <td>NaN</td>\n",
       "    </tr>\n",
       "    <tr>\n",
       "      <th>1212</th>\n",
       "      <td>2021-04-27</td>\n",
       "      <td>[{\"engagementMetricsDate\":\"2021-04-28\",\"player...</td>\n",
       "      <td>[{\"gamePk\":634318,\"gameType\":\"R\",\"season\":2021...</td>\n",
       "      <td>[{\"playerId\":443558,\"gameDate\":\"2021-04-27\",\"t...</td>\n",
       "      <td>[{\"home\":1,\"gamePk\":634320,\"gameDate\":\"2021-04...</td>\n",
       "      <td>[{\"home\":1,\"teamId\":117,\"gamePk\":634333,\"gameD...</td>\n",
       "      <td>[{\"transactionId\":480456,\"playerId\":642162,\"pl...</td>\n",
       "      <td>[{\"season\":2021,\"gameDate\":\"2021-04-27\",\"divis...</td>\n",
       "      <td>NaN</td>\n",
       "      <td>[{\"gamePk\":634332,\"gameDate\":\"2021-04-27\",\"gam...</td>\n",
       "      <td>NaN</td>\n",
       "      <td>NaN</td>\n",
       "    </tr>\n",
       "    <tr>\n",
       "      <th>1213</th>\n",
       "      <td>2021-04-28</td>\n",
       "      <td>[{\"engagementMetricsDate\":\"2021-04-29\",\"player...</td>\n",
       "      <td>[{\"gamePk\":634309,\"gameType\":\"R\",\"season\":2021...</td>\n",
       "      <td>[{\"playerId\":429722,\"gameDate\":\"2021-04-28\",\"t...</td>\n",
       "      <td>[{\"home\":1,\"gamePk\":634310,\"gameDate\":\"2021-04...</td>\n",
       "      <td>[{\"home\":0,\"teamId\":111,\"gamePk\":634310,\"gameD...</td>\n",
       "      <td>[{\"transactionId\":480728,\"playerId\":545358,\"pl...</td>\n",
       "      <td>[{\"season\":2021,\"gameDate\":\"2021-04-28\",\"divis...</td>\n",
       "      <td>NaN</td>\n",
       "      <td>[{\"gamePk\":634317,\"gameDate\":\"2021-04-28\",\"gam...</td>\n",
       "      <td>NaN</td>\n",
       "      <td>NaN</td>\n",
       "    </tr>\n",
       "    <tr>\n",
       "      <th>1214</th>\n",
       "      <td>2021-04-29</td>\n",
       "      <td>[{\"engagementMetricsDate\":\"2021-04-30\",\"player...</td>\n",
       "      <td>[{\"gamePk\":634330,\"gameType\":\"R\",\"season\":2021...</td>\n",
       "      <td>[{\"playerId\":405395,\"gameDate\":\"2021-04-29\",\"t...</td>\n",
       "      <td>[{\"home\":1,\"gamePk\":634330,\"gameDate\":\"2021-04...</td>\n",
       "      <td>[{\"home\":0,\"teamId\":119,\"gamePk\":634346,\"gameD...</td>\n",
       "      <td>[{\"transactionId\":480993,\"playerId\":606965,\"pl...</td>\n",
       "      <td>[{\"season\":2021,\"gameDate\":\"2021-04-29\",\"divis...</td>\n",
       "      <td>NaN</td>\n",
       "      <td>[{\"gamePk\":634346,\"gameDate\":\"2021-04-29\",\"gam...</td>\n",
       "      <td>NaN</td>\n",
       "      <td>NaN</td>\n",
       "    </tr>\n",
       "    <tr>\n",
       "      <th>1215</th>\n",
       "      <td>2021-04-30</td>\n",
       "      <td>[{\"engagementMetricsDate\":\"2021-05-01\",\"player...</td>\n",
       "      <td>[{\"gamePk\":634287,\"gameType\":\"R\",\"season\":2021...</td>\n",
       "      <td>[{\"playerId\":405395,\"gameDate\":\"2021-04-30\",\"t...</td>\n",
       "      <td>[{\"home\":1,\"gamePk\":634305,\"gameDate\":\"2021-04...</td>\n",
       "      <td>[{\"home\":1,\"teamId\":135,\"gamePk\":634303,\"gameD...</td>\n",
       "      <td>NaN</td>\n",
       "      <td>[{\"season\":2021,\"gameDate\":\"2021-04-30\",\"divis...</td>\n",
       "      <td>[{\"awardId\":\"NLRRELMON\",\"awardName\":\"NL Reliev...</td>\n",
       "      <td>[{\"gamePk\":634327,\"gameDate\":\"2021-04-30\",\"gam...</td>\n",
       "      <td>NaN</td>\n",
       "      <td>NaN</td>\n",
       "    </tr>\n",
       "  </tbody>\n",
       "</table>\n",
       "<p>1216 rows × 12 columns</p>\n",
       "</div>"
      ],
      "text/plain": [
       "           date                            nextDayPlayerEngagement  \\\n",
       "0    2018-01-01  [{\"engagementMetricsDate\":\"2018-01-02\",\"player...   \n",
       "1    2018-01-02  [{\"engagementMetricsDate\":\"2018-01-03\",\"player...   \n",
       "2    2018-01-03  [{\"engagementMetricsDate\":\"2018-01-04\",\"player...   \n",
       "3    2018-01-04  [{\"engagementMetricsDate\":\"2018-01-05\",\"player...   \n",
       "4    2018-01-05  [{\"engagementMetricsDate\":\"2018-01-06\",\"player...   \n",
       "...         ...                                                ...   \n",
       "1211 2021-04-26  [{\"engagementMetricsDate\":\"2021-04-27\",\"player...   \n",
       "1212 2021-04-27  [{\"engagementMetricsDate\":\"2021-04-28\",\"player...   \n",
       "1213 2021-04-28  [{\"engagementMetricsDate\":\"2021-04-29\",\"player...   \n",
       "1214 2021-04-29  [{\"engagementMetricsDate\":\"2021-04-30\",\"player...   \n",
       "1215 2021-04-30  [{\"engagementMetricsDate\":\"2021-05-01\",\"player...   \n",
       "\n",
       "                                                  games  \\\n",
       "0                                                   NaN   \n",
       "1                                                   NaN   \n",
       "2                                                   NaN   \n",
       "3                                                   NaN   \n",
       "4                                                   NaN   \n",
       "...                                                 ...   \n",
       "1211  [{\"gamePk\":634374,\"gameType\":\"R\",\"season\":2021...   \n",
       "1212  [{\"gamePk\":634318,\"gameType\":\"R\",\"season\":2021...   \n",
       "1213  [{\"gamePk\":634309,\"gameType\":\"R\",\"season\":2021...   \n",
       "1214  [{\"gamePk\":634330,\"gameType\":\"R\",\"season\":2021...   \n",
       "1215  [{\"gamePk\":634287,\"gameType\":\"R\",\"season\":2021...   \n",
       "\n",
       "                                                rosters  \\\n",
       "0     [{\"playerId\":400121,\"gameDate\":\"2018-01-01\",\"t...   \n",
       "1     [{\"playerId\":134181,\"gameDate\":\"2018-01-02\",\"t...   \n",
       "2     [{\"playerId\":425492,\"gameDate\":\"2018-01-03\",\"t...   \n",
       "3     [{\"playerId\":282332,\"gameDate\":\"2018-01-04\",\"t...   \n",
       "4     [{\"playerId\":282332,\"gameDate\":\"2018-01-05\",\"t...   \n",
       "...                                                 ...   \n",
       "1211  [{\"playerId\":405395,\"gameDate\":\"2021-04-26\",\"t...   \n",
       "1212  [{\"playerId\":443558,\"gameDate\":\"2021-04-27\",\"t...   \n",
       "1213  [{\"playerId\":429722,\"gameDate\":\"2021-04-28\",\"t...   \n",
       "1214  [{\"playerId\":405395,\"gameDate\":\"2021-04-29\",\"t...   \n",
       "1215  [{\"playerId\":405395,\"gameDate\":\"2021-04-30\",\"t...   \n",
       "\n",
       "                                        playerBoxScores  \\\n",
       "0                                                   NaN   \n",
       "1                                                   NaN   \n",
       "2                                                   NaN   \n",
       "3                                                   NaN   \n",
       "4                                                   NaN   \n",
       "...                                                 ...   \n",
       "1211  [{\"home\":1,\"gamePk\":634377,\"gameDate\":\"2021-04...   \n",
       "1212  [{\"home\":1,\"gamePk\":634320,\"gameDate\":\"2021-04...   \n",
       "1213  [{\"home\":1,\"gamePk\":634310,\"gameDate\":\"2021-04...   \n",
       "1214  [{\"home\":1,\"gamePk\":634330,\"gameDate\":\"2021-04...   \n",
       "1215  [{\"home\":1,\"gamePk\":634305,\"gameDate\":\"2021-04...   \n",
       "\n",
       "                                          teamBoxScores  \\\n",
       "0                                                   NaN   \n",
       "1                                                   NaN   \n",
       "2                                                   NaN   \n",
       "3                                                   NaN   \n",
       "4                                                   NaN   \n",
       "...                                                 ...   \n",
       "1211  [{\"home\":1,\"teamId\":139,\"gamePk\":634343,\"gameD...   \n",
       "1212  [{\"home\":1,\"teamId\":117,\"gamePk\":634333,\"gameD...   \n",
       "1213  [{\"home\":0,\"teamId\":111,\"gamePk\":634310,\"gameD...   \n",
       "1214  [{\"home\":0,\"teamId\":119,\"gamePk\":634346,\"gameD...   \n",
       "1215  [{\"home\":1,\"teamId\":135,\"gamePk\":634303,\"gameD...   \n",
       "\n",
       "                                           transactions  \\\n",
       "0     [{\"transactionId\":340732,\"playerId\":547348,\"pl...   \n",
       "1     [{\"transactionId\":339458,\"playerId\":621173,\"pl...   \n",
       "2     [{\"transactionId\":347527,\"playerId\":572389,\"pl...   \n",
       "3     [{\"transactionId\":339549,\"playerId\":545343,\"pl...   \n",
       "4     [{\"transactionId\":341195,\"playerId\":628336,\"pl...   \n",
       "...                                                 ...   \n",
       "1211  [{\"transactionId\":480386,\"playerId\":543685,\"pl...   \n",
       "1212  [{\"transactionId\":480456,\"playerId\":642162,\"pl...   \n",
       "1213  [{\"transactionId\":480728,\"playerId\":545358,\"pl...   \n",
       "1214  [{\"transactionId\":480993,\"playerId\":606965,\"pl...   \n",
       "1215                                                NaN   \n",
       "\n",
       "                                              standings  \\\n",
       "0                                                   NaN   \n",
       "1                                                   NaN   \n",
       "2                                                   NaN   \n",
       "3                                                   NaN   \n",
       "4                                                   NaN   \n",
       "...                                                 ...   \n",
       "1211  [{\"season\":2021,\"gameDate\":\"2021-04-26\",\"divis...   \n",
       "1212  [{\"season\":2021,\"gameDate\":\"2021-04-27\",\"divis...   \n",
       "1213  [{\"season\":2021,\"gameDate\":\"2021-04-28\",\"divis...   \n",
       "1214  [{\"season\":2021,\"gameDate\":\"2021-04-29\",\"divis...   \n",
       "1215  [{\"season\":2021,\"gameDate\":\"2021-04-30\",\"divis...   \n",
       "\n",
       "                                                 awards  \\\n",
       "0                                                   NaN   \n",
       "1                                                   NaN   \n",
       "2                                                   NaN   \n",
       "3                                                   NaN   \n",
       "4                                                   NaN   \n",
       "...                                                 ...   \n",
       "1211                                                NaN   \n",
       "1212                                                NaN   \n",
       "1213                                                NaN   \n",
       "1214                                                NaN   \n",
       "1215  [{\"awardId\":\"NLRRELMON\",\"awardName\":\"NL Reliev...   \n",
       "\n",
       "                                                 events  \\\n",
       "0                                                   NaN   \n",
       "1                                                   NaN   \n",
       "2                                                   NaN   \n",
       "3                                                   NaN   \n",
       "4                                                   NaN   \n",
       "...                                                 ...   \n",
       "1211  [{\"gamePk\":634433,\"gameDate\":\"2021-04-26\",\"gam...   \n",
       "1212  [{\"gamePk\":634332,\"gameDate\":\"2021-04-27\",\"gam...   \n",
       "1213  [{\"gamePk\":634317,\"gameDate\":\"2021-04-28\",\"gam...   \n",
       "1214  [{\"gamePk\":634346,\"gameDate\":\"2021-04-29\",\"gam...   \n",
       "1215  [{\"gamePk\":634327,\"gameDate\":\"2021-04-30\",\"gam...   \n",
       "\n",
       "                                 playerTwitterFollowers  \\\n",
       "0     [{\"date\":\"2018-01-01\",\"playerId\":545361,\"playe...   \n",
       "1                                                   NaN   \n",
       "2                                                   NaN   \n",
       "3                                                   NaN   \n",
       "4                                                   NaN   \n",
       "...                                                 ...   \n",
       "1211                                                NaN   \n",
       "1212                                                NaN   \n",
       "1213                                                NaN   \n",
       "1214                                                NaN   \n",
       "1215                                                NaN   \n",
       "\n",
       "                                   teamTwitterFollowers  \n",
       "0     [{\"date\":\"2018-01-01\",\"teamId\":147,\"teamName\":...  \n",
       "1                                                   NaN  \n",
       "2                                                   NaN  \n",
       "3                                                   NaN  \n",
       "4                                                   NaN  \n",
       "...                                                 ...  \n",
       "1211                                                NaN  \n",
       "1212                                                NaN  \n",
       "1213                                                NaN  \n",
       "1214                                                NaN  \n",
       "1215                                                NaN  \n",
       "\n",
       "[1216 rows x 12 columns]"
      ]
     },
     "metadata": {},
     "output_type": "display_data"
    }
   ],
   "source": [
    "train = pd.read_csv(input_file_path /'train.csv')\n",
    "\n",
    "# Convert training data date field to pandas datetime type\n",
    "train['date'] = pd.to_datetime(train['date'], format = \"%Y%m%d\")\n",
    "\n",
    "display(train.info())\n",
    "\n",
    "display(train)"
   ]
  },
  {
   "cell_type": "code",
   "execution_count": 4,
   "id": "discrete-subject",
   "metadata": {
    "execution": {
     "iopub.execute_input": "2021-07-18T16:16:43.203918Z",
     "iopub.status.busy": "2021-07-18T16:16:43.200459Z",
     "iopub.status.idle": "2021-07-18T16:21:25.093093Z",
     "shell.execute_reply": "2021-07-18T16:21:25.093608Z",
     "shell.execute_reply.started": "2021-07-18T14:39:59.821608Z"
    },
    "papermill": {
     "duration": 281.949942,
     "end_time": "2021-07-18T16:21:25.093948",
     "exception": false,
     "start_time": "2021-07-18T16:16:43.144006",
     "status": "completed"
    },
    "tags": []
   },
   "outputs": [
    {
     "data": {
      "application/vnd.jupyter.widget-view+json": {
       "model_id": "0fc0419ee02d44c888577b4216e986bb",
       "version_major": 2,
       "version_minor": 0
      },
      "text/plain": [
       "Tab(children=(Output(), Output(), Output(), Output(), Output(), Output(), Output(), Output(), Output(), Output…"
      ]
     },
     "metadata": {},
     "output_type": "display_data"
    }
   ],
   "source": [
    "# Get names of all \"nested\" data frames in daily training set\n",
    "daily_data_nested_df_names = train.drop('date', axis = 1).columns.values.tolist()\n",
    "\n",
    "for df_name in daily_data_nested_df_names:\n",
    "    date_nested_table = train[['date', df_name]]\n",
    "\n",
    "    date_nested_table = (date_nested_table[\n",
    "      ~pd.isna(date_nested_table[df_name])\n",
    "      ].\n",
    "      reset_index(drop = True)\n",
    "      )\n",
    "    \n",
    "    daily_dfs_collection = []\n",
    "    \n",
    "    for date_index, date_row in date_nested_table.iterrows():\n",
    "        daily_df = pd.read_json(date_row[df_name])\n",
    "        \n",
    "        daily_df['dailyDataDate'] = date_row['date']\n",
    "        \n",
    "        daily_dfs_collection = daily_dfs_collection + [daily_df]\n",
    "\n",
    "    # Concatenate all daily dfs into single df for each row\n",
    "    unnested_table = (pd.concat(daily_dfs_collection,\n",
    "      ignore_index = True).\n",
    "      # Set and reset index to move 'dailyDataDate' to front of df\n",
    "      set_index('dailyDataDate').\n",
    "      reset_index()\n",
    "      )\n",
    "    \n",
    "    # Creates 1 pandas df per unnested df from daily data read in, with same name\n",
    "    globals()[df_name] = unnested_table    \n",
    "    \n",
    "    # Clean up tables and collection of daily data frames for this df\n",
    "    del(date_nested_table, daily_dfs_collection, unnested_table)\n",
    "\n",
    "# Set up for tabbed output\n",
    "daily_data_unnested_tabs = widgets.Tab()\n",
    "\n",
    "# Add Output widgets for each (eventual) DF as tabs' children\n",
    "daily_data_unnested_tabs.children = list([widgets.Output() \n",
    "  for df_name in daily_data_nested_df_names])\n",
    "\n",
    "for index in range(0, len(daily_data_nested_df_names)):\n",
    "    df_name = daily_data_nested_df_names[index]\n",
    "    \n",
    "    # Rename tab bar titles to df names\n",
    "    daily_data_unnested_tabs.set_title(index, df_name)\n",
    "\n",
    "    # Display corresponding table output for this tab name\n",
    "    with daily_data_unnested_tabs.children[index]:\n",
    "        display(eval(df_name))\n",
    "\n",
    "display(daily_data_unnested_tabs)"
   ]
  },
  {
   "cell_type": "code",
   "execution_count": 5,
   "id": "useful-contrast",
   "metadata": {
    "execution": {
     "iopub.execute_input": "2021-07-18T16:21:25.396497Z",
     "iopub.status.busy": "2021-07-18T16:21:25.206159Z",
     "iopub.status.idle": "2021-07-18T16:21:25.400223Z",
     "shell.execute_reply": "2021-07-18T16:21:25.400756Z",
     "shell.execute_reply.started": "2021-07-18T14:43:55.962436Z"
    },
    "papermill": {
     "duration": 0.25496,
     "end_time": "2021-07-18T16:21:25.400964",
     "exception": false,
     "start_time": "2021-07-18T16:21:25.146004",
     "status": "completed"
    },
    "tags": []
   },
   "outputs": [
    {
     "data": {
      "text/plain": [
       "284"
      ]
     },
     "execution_count": 5,
     "metadata": {},
     "output_type": "execute_result"
    }
   ],
   "source": [
    "del(train)\n",
    "\n",
    "gc.collect()"
   ]
  },
  {
   "cell_type": "markdown",
   "id": "traditional-bishop",
   "metadata": {
    "papermill": {
     "duration": 0.047994,
     "end_time": "2021-07-18T16:21:25.498670",
     "exception": false,
     "start_time": "2021-07-18T16:21:25.450676",
     "status": "completed"
    },
    "tags": []
   },
   "source": [
    "**Correlation between targets**"
   ]
  },
  {
   "cell_type": "code",
   "execution_count": 6,
   "id": "ignored-vancouver",
   "metadata": {
    "execution": {
     "iopub.execute_input": "2021-07-18T16:21:25.617732Z",
     "iopub.status.busy": "2021-07-18T16:21:25.616994Z",
     "iopub.status.idle": "2021-07-18T16:21:26.070584Z",
     "shell.execute_reply": "2021-07-18T16:21:26.069961Z",
     "shell.execute_reply.started": "2021-07-18T14:43:56.168551Z"
    },
    "papermill": {
     "duration": 0.524456,
     "end_time": "2021-07-18T16:21:26.070784",
     "exception": false,
     "start_time": "2021-07-18T16:21:25.546328",
     "status": "completed"
    },
    "tags": []
   },
   "outputs": [
    {
     "data": {
      "image/png": "[encoded data removed]",
      "text/plain": [
       "<Figure size 576x432 with 2 Axes>"
      ]
     },
     "metadata": {
      "needs_background": "light"
     },
     "output_type": "display_data"
    }
   ],
   "source": [
    "plt.figure(figsize=(8,6))\n",
    "cor = nextDayPlayerEngagement[['target1','target2','target3','target4']].corr()\n",
    "sns.heatmap(cor, annot=True, cmap=plt.cm.Reds)\n",
    "plt.show()"
   ]
  },
  {
   "cell_type": "markdown",
   "id": "limited-grass",
   "metadata": {
    "papermill": {
     "duration": 0.046664,
     "end_time": "2021-07-18T16:21:26.166620",
     "exception": false,
     "start_time": "2021-07-18T16:21:26.119956",
     "status": "completed"
    },
    "tags": []
   },
   "source": [
    "**Relationship between important player-level stats with our target**"
   ]
  },
  {
   "cell_type": "markdown",
   "id": "parental-filing",
   "metadata": {
    "papermill": {
     "duration": 0.046777,
     "end_time": "2021-07-18T16:21:26.261067",
     "exception": false,
     "start_time": "2021-07-18T16:21:26.214290",
     "status": "completed"
    },
    "tags": []
   },
   "source": [
    "*Compute averagre of the four targets*"
   ]
  },
  {
   "cell_type": "code",
   "execution_count": 7,
   "id": "operating-beginning",
   "metadata": {
    "execution": {
     "iopub.execute_input": "2021-07-18T16:21:26.361580Z",
     "iopub.status.busy": "2021-07-18T16:21:26.360958Z",
     "iopub.status.idle": "2021-07-18T16:21:26.519199Z",
     "shell.execute_reply": "2021-07-18T16:21:26.518426Z",
     "shell.execute_reply.started": "2021-07-18T14:43:56.634442Z"
    },
    "papermill": {
     "duration": 0.210714,
     "end_time": "2021-07-18T16:21:26.519351",
     "exception": false,
     "start_time": "2021-07-18T16:21:26.308637",
     "status": "completed"
    },
    "tags": []
   },
   "outputs": [],
   "source": [
    "player_eng_info = nextDayPlayerEngagement.copy()\n",
    "player_eng_info['target1To4Avg'] = np.mean(\n",
    "  player_eng_info[['target1', 'target2', 'target3', 'target4']],\n",
    "  axis = 1)"
   ]
  },
  {
   "cell_type": "code",
   "execution_count": 8,
   "id": "dressed-thumb",
   "metadata": {
    "execution": {
     "iopub.execute_input": "2021-07-18T16:21:26.622121Z",
     "iopub.status.busy": "2021-07-18T16:21:26.621494Z",
     "iopub.status.idle": "2021-07-18T16:21:27.437904Z",
     "shell.execute_reply": "2021-07-18T16:21:27.438433Z",
     "shell.execute_reply.started": "2021-07-18T14:43:56.794428Z"
    },
    "papermill": {
     "duration": 0.871868,
     "end_time": "2021-07-18T16:21:27.438628",
     "exception": false,
     "start_time": "2021-07-18T16:21:26.566760",
     "status": "completed"
    },
    "tags": []
   },
   "outputs": [],
   "source": [
    "player_eng_info = player_eng_info[player_eng_info['dailyDataDate'] >='2018-03-29']\n",
    "player_eng_info = pd.merge(\n",
    "  player_eng_info,\n",
    "  playerBoxScores[['dailyDataDate','playerId','gamePk','teamId', 'playerName', 'runsScored', 'atBats', 'homeRuns','flyOuts','hits','strikes',\n",
    "                   'balks','errors','chances','rbi']],\n",
    "   on = ['dailyDataDate','playerId'],\n",
    "   how = 'inner'\n",
    "   )\n"
   ]
  },
  {
   "cell_type": "code",
   "execution_count": 9,
   "id": "moving-waste",
   "metadata": {
    "execution": {
     "iopub.execute_input": "2021-07-18T16:21:27.566197Z",
     "iopub.status.busy": "2021-07-18T16:21:27.558022Z",
     "iopub.status.idle": "2021-07-18T16:21:27.582386Z",
     "shell.execute_reply": "2021-07-18T16:21:27.581871Z",
     "shell.execute_reply.started": "2021-07-18T14:43:57.608894Z"
    },
    "papermill": {
     "duration": 0.094048,
     "end_time": "2021-07-18T16:21:27.582527",
     "exception": false,
     "start_time": "2021-07-18T16:21:27.488479",
     "status": "completed"
    },
    "tags": []
   },
   "outputs": [
    {
     "data": {
      "text/html": [
       "<div>\n",
       "<style scoped>\n",
       "    .dataframe tbody tr th:only-of-type {\n",
       "        vertical-align: middle;\n",
       "    }\n",
       "\n",
       "    .dataframe tbody tr th {\n",
       "        vertical-align: top;\n",
       "    }\n",
       "\n",
       "    .dataframe thead th {\n",
       "        text-align: right;\n",
       "    }\n",
       "</style>\n",
       "<table border=\"1\" class=\"dataframe\">\n",
       "  <thead>\n",
       "    <tr style=\"text-align: right;\">\n",
       "      <th></th>\n",
       "      <th>dailyDataDate</th>\n",
       "      <th>engagementMetricsDate</th>\n",
       "      <th>playerId</th>\n",
       "      <th>target1</th>\n",
       "      <th>target2</th>\n",
       "      <th>target3</th>\n",
       "      <th>target4</th>\n",
       "      <th>target1To4Avg</th>\n",
       "      <th>gamePk</th>\n",
       "      <th>teamId</th>\n",
       "      <th>...</th>\n",
       "      <th>runsScored</th>\n",
       "      <th>atBats</th>\n",
       "      <th>homeRuns</th>\n",
       "      <th>flyOuts</th>\n",
       "      <th>hits</th>\n",
       "      <th>strikes</th>\n",
       "      <th>balks</th>\n",
       "      <th>errors</th>\n",
       "      <th>chances</th>\n",
       "      <th>rbi</th>\n",
       "    </tr>\n",
       "  </thead>\n",
       "  <tbody>\n",
       "    <tr>\n",
       "      <th>0</th>\n",
       "      <td>2018-03-29</td>\n",
       "      <td>2018-03-30</td>\n",
       "      <td>608365</td>\n",
       "      <td>2.040838</td>\n",
       "      <td>7.893376</td>\n",
       "      <td>0.052359</td>\n",
       "      <td>2.599964</td>\n",
       "      <td>3.146634</td>\n",
       "      <td>529407</td>\n",
       "      <td>112</td>\n",
       "      <td>...</td>\n",
       "      <td>1.0</td>\n",
       "      <td>3.0</td>\n",
       "      <td>0.0</td>\n",
       "      <td>0.0</td>\n",
       "      <td>2.0</td>\n",
       "      <td>NaN</td>\n",
       "      <td>NaN</td>\n",
       "      <td>1.0</td>\n",
       "      <td>9.0</td>\n",
       "      <td>0.0</td>\n",
       "    </tr>\n",
       "    <tr>\n",
       "      <th>1</th>\n",
       "      <td>2018-03-29</td>\n",
       "      <td>2018-03-30</td>\n",
       "      <td>502624</td>\n",
       "      <td>1.068945</td>\n",
       "      <td>5.105543</td>\n",
       "      <td>2.722191</td>\n",
       "      <td>0.918550</td>\n",
       "      <td>2.453807</td>\n",
       "      <td>529413</td>\n",
       "      <td>158</td>\n",
       "      <td>...</td>\n",
       "      <td>1.0</td>\n",
       "      <td>2.0</td>\n",
       "      <td>0.0</td>\n",
       "      <td>0.0</td>\n",
       "      <td>1.0</td>\n",
       "      <td>61.0</td>\n",
       "      <td>0.0</td>\n",
       "      <td>0.0</td>\n",
       "      <td>0.0</td>\n",
       "      <td>0.0</td>\n",
       "    </tr>\n",
       "    <tr>\n",
       "      <th>2</th>\n",
       "      <td>2018-03-29</td>\n",
       "      <td>2018-03-30</td>\n",
       "      <td>643338</td>\n",
       "      <td>0.385945</td>\n",
       "      <td>5.368812</td>\n",
       "      <td>0.074404</td>\n",
       "      <td>0.565661</td>\n",
       "      <td>1.598706</td>\n",
       "      <td>529415</td>\n",
       "      <td>147</td>\n",
       "      <td>...</td>\n",
       "      <td>NaN</td>\n",
       "      <td>NaN</td>\n",
       "      <td>NaN</td>\n",
       "      <td>NaN</td>\n",
       "      <td>NaN</td>\n",
       "      <td>14.0</td>\n",
       "      <td>0.0</td>\n",
       "      <td>0.0</td>\n",
       "      <td>1.0</td>\n",
       "      <td>NaN</td>\n",
       "    </tr>\n",
       "    <tr>\n",
       "      <th>3</th>\n",
       "      <td>2018-03-29</td>\n",
       "      <td>2018-03-30</td>\n",
       "      <td>570560</td>\n",
       "      <td>0.131860</td>\n",
       "      <td>6.200931</td>\n",
       "      <td>0.002296</td>\n",
       "      <td>0.181634</td>\n",
       "      <td>1.629180</td>\n",
       "      <td>529408</td>\n",
       "      <td>145</td>\n",
       "      <td>...</td>\n",
       "      <td>1.0</td>\n",
       "      <td>4.0</td>\n",
       "      <td>0.0</td>\n",
       "      <td>0.0</td>\n",
       "      <td>1.0</td>\n",
       "      <td>NaN</td>\n",
       "      <td>NaN</td>\n",
       "      <td>0.0</td>\n",
       "      <td>5.0</td>\n",
       "      <td>3.0</td>\n",
       "    </tr>\n",
       "    <tr>\n",
       "      <th>4</th>\n",
       "      <td>2018-03-29</td>\n",
       "      <td>2018-03-30</td>\n",
       "      <td>523260</td>\n",
       "      <td>0.011800</td>\n",
       "      <td>9.933713</td>\n",
       "      <td>6.076820</td>\n",
       "      <td>0.978230</td>\n",
       "      <td>4.250141</td>\n",
       "      <td>529406</td>\n",
       "      <td>111</td>\n",
       "      <td>...</td>\n",
       "      <td>NaN</td>\n",
       "      <td>NaN</td>\n",
       "      <td>NaN</td>\n",
       "      <td>NaN</td>\n",
       "      <td>NaN</td>\n",
       "      <td>13.0</td>\n",
       "      <td>0.0</td>\n",
       "      <td>NaN</td>\n",
       "      <td>NaN</td>\n",
       "      <td>NaN</td>\n",
       "    </tr>\n",
       "  </tbody>\n",
       "</table>\n",
       "<p>5 rows × 21 columns</p>\n",
       "</div>"
      ],
      "text/plain": [
       "  dailyDataDate engagementMetricsDate  playerId   target1   target2   target3  \\\n",
       "0    2018-03-29            2018-03-30    608365  2.040838  7.893376  0.052359   \n",
       "1    2018-03-29            2018-03-30    502624  1.068945  5.105543  2.722191   \n",
       "2    2018-03-29            2018-03-30    643338  0.385945  5.368812  0.074404   \n",
       "3    2018-03-29            2018-03-30    570560  0.131860  6.200931  0.002296   \n",
       "4    2018-03-29            2018-03-30    523260  0.011800  9.933713  6.076820   \n",
       "\n",
       "    target4  target1To4Avg  gamePk  teamId  ... runsScored  atBats  homeRuns  \\\n",
       "0  2.599964       3.146634  529407     112  ...        1.0     3.0       0.0   \n",
       "1  0.918550       2.453807  529413     158  ...        1.0     2.0       0.0   \n",
       "2  0.565661       1.598706  529415     147  ...        NaN     NaN       NaN   \n",
       "3  0.181634       1.629180  529408     145  ...        1.0     4.0       0.0   \n",
       "4  0.978230       4.250141  529406     111  ...        NaN     NaN       NaN   \n",
       "\n",
       "   flyOuts  hits  strikes  balks  errors  chances  rbi  \n",
       "0      0.0   2.0      NaN    NaN     1.0      9.0  0.0  \n",
       "1      0.0   1.0     61.0    0.0     0.0      0.0  0.0  \n",
       "2      NaN   NaN     14.0    0.0     0.0      1.0  NaN  \n",
       "3      0.0   1.0      NaN    NaN     0.0      5.0  3.0  \n",
       "4      NaN   NaN     13.0    0.0     NaN      NaN  NaN  \n",
       "\n",
       "[5 rows x 21 columns]"
      ]
     },
     "execution_count": 9,
     "metadata": {},
     "output_type": "execute_result"
    }
   ],
   "source": [
    "player_eng_info.head()"
   ]
  },
  {
   "cell_type": "markdown",
   "id": "stopped-sitting",
   "metadata": {
    "papermill": {
     "duration": 0.047857,
     "end_time": "2021-07-18T16:21:27.681235",
     "exception": false,
     "start_time": "2021-07-18T16:21:27.633378",
     "status": "completed"
    },
    "tags": []
   },
   "source": [
    "**Correlation matrix between them**"
   ]
  },
  {
   "cell_type": "code",
   "execution_count": 10,
   "id": "sudden-stadium",
   "metadata": {
    "execution": {
     "iopub.execute_input": "2021-07-18T16:21:27.786648Z",
     "iopub.status.busy": "2021-07-18T16:21:27.786020Z",
     "iopub.status.idle": "2021-07-18T16:21:28.733742Z",
     "shell.execute_reply": "2021-07-18T16:21:28.733118Z",
     "shell.execute_reply.started": "2021-07-18T14:43:57.643202Z"
    },
    "papermill": {
     "duration": 1.0041,
     "end_time": "2021-07-18T16:21:28.733888",
     "exception": false,
     "start_time": "2021-07-18T16:21:27.729788",
     "status": "completed"
    },
    "tags": []
   },
   "outputs": [
    {
     "data": {
      "image/png": "[encoded data removed]",
      "text/plain": [
       "<Figure size 720x576 with 2 Axes>"
      ]
     },
     "metadata": {
      "needs_background": "light"
     },
     "output_type": "display_data"
    }
   ],
   "source": [
    "plt.figure(figsize=(10,8))\n",
    "cor = player_eng_info[['target1To4Avg','runsScored','atBats','homeRuns','flyOuts','hits','strikes',\n",
    "                   'balks','errors','chances','rbi']].corr()\n",
    "sns.heatmap(cor, annot=True, cmap=plt.cm.Reds)\n",
    "plt.show()"
   ]
  },
  {
   "cell_type": "markdown",
   "id": "raised-period",
   "metadata": {
    "papermill": {
     "duration": 0.051911,
     "end_time": "2021-07-18T16:21:28.837600",
     "exception": false,
     "start_time": "2021-07-18T16:21:28.785689",
     "status": "completed"
    },
    "tags": []
   },
   "source": [
    "*note : There are some features highly correlated with each other and we may choose only one from them and neglect the other*"
   ]
  },
  {
   "cell_type": "code",
   "execution_count": 11,
   "id": "advisory-repository",
   "metadata": {
    "execution": {
     "iopub.execute_input": "2021-07-18T16:21:28.949328Z",
     "iopub.status.busy": "2021-07-18T16:21:28.948590Z",
     "iopub.status.idle": "2021-07-18T16:21:29.067621Z",
     "shell.execute_reply": "2021-07-18T16:21:29.067052Z",
     "shell.execute_reply.started": "2021-07-18T14:43:58.525504Z"
    },
    "papermill": {
     "duration": 0.177654,
     "end_time": "2021-07-18T16:21:29.067771",
     "exception": false,
     "start_time": "2021-07-18T16:21:28.890117",
     "status": "completed"
    },
    "tags": []
   },
   "outputs": [],
   "source": [
    "standings_stats = pd.merge(\n",
    "  player_eng_info,\n",
    "  standings[['dailyDataDate','teamId','wins','losses','pct','xWinLossPct','divisionRank',\n",
    "             'leagueRank','wildCardRank','lastTenWins','lastTenLosses']],\n",
    "   on = ['dailyDataDate','teamId'],\n",
    "   how = 'inner'\n",
    "   )"
   ]
  },
  {
   "cell_type": "markdown",
   "id": "convenient-citizenship",
   "metadata": {
    "papermill": {
     "duration": 0.052007,
     "end_time": "2021-07-18T16:21:29.172556",
     "exception": false,
     "start_time": "2021-07-18T16:21:29.120549",
     "status": "completed"
    },
    "tags": []
   },
   "source": [
    "**Correlation between important stats from standings data and target**"
   ]
  },
  {
   "cell_type": "code",
   "execution_count": 12,
   "id": "requested-opinion",
   "metadata": {
    "execution": {
     "iopub.execute_input": "2021-07-18T16:21:29.285821Z",
     "iopub.status.busy": "2021-07-18T16:21:29.285172Z",
     "iopub.status.idle": "2021-07-18T16:21:30.114093Z",
     "shell.execute_reply": "2021-07-18T16:21:30.114615Z",
     "shell.execute_reply.started": "2021-07-18T14:43:58.652842Z"
    },
    "papermill": {
     "duration": 0.8896,
     "end_time": "2021-07-18T16:21:30.114921",
     "exception": false,
     "start_time": "2021-07-18T16:21:29.225321",
     "status": "completed"
    },
    "tags": []
   },
   "outputs": [
    {
     "data": {
      "image/png": "[encoded data removed]",
      "text/plain": [
       "<Figure size 576x432 with 2 Axes>"
      ]
     },
     "metadata": {
      "needs_background": "light"
     },
     "output_type": "display_data"
    }
   ],
   "source": [
    "plt.figure(figsize=(8,6))\n",
    "cor = standings_stats[['target1To4Avg','wins','losses','pct','xWinLossPct','divisionRank',\n",
    "                       'leagueRank','wildCardRank','lastTenWins','lastTenLosses']].corr()\n",
    "sns.heatmap(cor, annot=True, cmap=plt.cm.Reds)\n",
    "plt.show()"
   ]
  },
  {
   "cell_type": "code",
   "execution_count": 13,
   "id": "sporting-rouge",
   "metadata": {
    "execution": {
     "iopub.execute_input": "2021-07-18T16:21:30.233540Z",
     "iopub.status.busy": "2021-07-18T16:21:30.232873Z",
     "iopub.status.idle": "2021-07-18T16:21:30.259285Z",
     "shell.execute_reply": "2021-07-18T16:21:30.258647Z",
     "shell.execute_reply.started": "2021-07-18T14:43:59.438191Z"
    },
    "papermill": {
     "duration": 0.089199,
     "end_time": "2021-07-18T16:21:30.259435",
     "exception": false,
     "start_time": "2021-07-18T16:21:30.170236",
     "status": "completed"
    },
    "tags": []
   },
   "outputs": [],
   "source": [
    "averaged_data = standings_stats.groupby('dailyDataDate', as_index=True)[['target1To4Avg','runsScored','atBats','homeRuns','flyOuts','hits','strikes',\n",
    "                   'balks','errors','chances','rbi','pct','xWinLossPct','divisionRank','leagueRank','wildCardRank','lastTenWins','lastTenLosses']].mean()"
   ]
  },
  {
   "cell_type": "code",
   "execution_count": 14,
   "id": "pointed-connection",
   "metadata": {
    "execution": {
     "iopub.execute_input": "2021-07-18T16:21:30.389742Z",
     "iopub.status.busy": "2021-07-18T16:21:30.380295Z",
     "iopub.status.idle": "2021-07-18T16:21:30.397907Z",
     "shell.execute_reply": "2021-07-18T16:21:30.397427Z",
     "shell.execute_reply.started": "2021-07-18T14:43:59.467256Z"
    },
    "papermill": {
     "duration": 0.082605,
     "end_time": "2021-07-18T16:21:30.398041",
     "exception": false,
     "start_time": "2021-07-18T16:21:30.315436",
     "status": "completed"
    },
    "tags": []
   },
   "outputs": [
    {
     "data": {
      "text/html": [
       "<div>\n",
       "<style scoped>\n",
       "    .dataframe tbody tr th:only-of-type {\n",
       "        vertical-align: middle;\n",
       "    }\n",
       "\n",
       "    .dataframe tbody tr th {\n",
       "        vertical-align: top;\n",
       "    }\n",
       "\n",
       "    .dataframe thead th {\n",
       "        text-align: right;\n",
       "    }\n",
       "</style>\n",
       "<table border=\"1\" class=\"dataframe\">\n",
       "  <thead>\n",
       "    <tr style=\"text-align: right;\">\n",
       "      <th></th>\n",
       "      <th>target1To4Avg</th>\n",
       "      <th>runsScored</th>\n",
       "      <th>atBats</th>\n",
       "      <th>homeRuns</th>\n",
       "      <th>flyOuts</th>\n",
       "      <th>hits</th>\n",
       "      <th>strikes</th>\n",
       "      <th>balks</th>\n",
       "      <th>errors</th>\n",
       "      <th>chances</th>\n",
       "      <th>rbi</th>\n",
       "      <th>pct</th>\n",
       "      <th>xWinLossPct</th>\n",
       "      <th>divisionRank</th>\n",
       "      <th>leagueRank</th>\n",
       "      <th>wildCardRank</th>\n",
       "      <th>lastTenWins</th>\n",
       "      <th>lastTenLosses</th>\n",
       "    </tr>\n",
       "    <tr>\n",
       "      <th>dailyDataDate</th>\n",
       "      <th></th>\n",
       "      <th></th>\n",
       "      <th></th>\n",
       "      <th></th>\n",
       "      <th></th>\n",
       "      <th></th>\n",
       "      <th></th>\n",
       "      <th></th>\n",
       "      <th></th>\n",
       "      <th></th>\n",
       "      <th></th>\n",
       "      <th></th>\n",
       "      <th></th>\n",
       "      <th></th>\n",
       "      <th></th>\n",
       "      <th></th>\n",
       "      <th></th>\n",
       "      <th></th>\n",
       "    </tr>\n",
       "  </thead>\n",
       "  <tbody>\n",
       "    <tr>\n",
       "      <th>2018-03-29</th>\n",
       "      <td>3.157729</td>\n",
       "      <td>0.339286</td>\n",
       "      <td>2.654762</td>\n",
       "      <td>0.098214</td>\n",
       "      <td>0.309524</td>\n",
       "      <td>0.622024</td>\n",
       "      <td>18.805970</td>\n",
       "      <td>0.007463</td>\n",
       "      <td>0.038328</td>\n",
       "      <td>3.407666</td>\n",
       "      <td>0.324405</td>\n",
       "      <td>0.498765</td>\n",
       "      <td>0.148148</td>\n",
       "      <td>3.014815</td>\n",
       "      <td>8.014815</td>\n",
       "      <td>7.769821</td>\n",
       "      <td>0.498765</td>\n",
       "      <td>0.501235</td>\n",
       "    </tr>\n",
       "    <tr>\n",
       "      <th>2018-03-30</th>\n",
       "      <td>4.732392</td>\n",
       "      <td>0.288136</td>\n",
       "      <td>2.783051</td>\n",
       "      <td>0.050847</td>\n",
       "      <td>0.474576</td>\n",
       "      <td>0.606780</td>\n",
       "      <td>20.618182</td>\n",
       "      <td>0.000000</td>\n",
       "      <td>0.081081</td>\n",
       "      <td>3.498069</td>\n",
       "      <td>0.274576</td>\n",
       "      <td>0.494135</td>\n",
       "      <td>0.071848</td>\n",
       "      <td>3.190616</td>\n",
       "      <td>8.164223</td>\n",
       "      <td>7.080128</td>\n",
       "      <td>0.897361</td>\n",
       "      <td>0.914956</td>\n",
       "    </tr>\n",
       "    <tr>\n",
       "      <th>2018-03-31</th>\n",
       "      <td>3.004417</td>\n",
       "      <td>0.398281</td>\n",
       "      <td>2.742120</td>\n",
       "      <td>0.091691</td>\n",
       "      <td>0.389685</td>\n",
       "      <td>0.693410</td>\n",
       "      <td>21.544715</td>\n",
       "      <td>0.008130</td>\n",
       "      <td>0.051118</td>\n",
       "      <td>3.182109</td>\n",
       "      <td>0.381089</td>\n",
       "      <td>0.500410</td>\n",
       "      <td>0.155597</td>\n",
       "      <td>3.014742</td>\n",
       "      <td>7.958231</td>\n",
       "      <td>7.492063</td>\n",
       "      <td>1.326781</td>\n",
       "      <td>1.319410</td>\n",
       "    </tr>\n",
       "    <tr>\n",
       "      <th>2018-04-01</th>\n",
       "      <td>4.292756</td>\n",
       "      <td>0.368421</td>\n",
       "      <td>3.003759</td>\n",
       "      <td>0.105263</td>\n",
       "      <td>0.473684</td>\n",
       "      <td>0.714286</td>\n",
       "      <td>22.432990</td>\n",
       "      <td>0.000000</td>\n",
       "      <td>0.019920</td>\n",
       "      <td>3.390438</td>\n",
       "      <td>0.349624</td>\n",
       "      <td>0.502517</td>\n",
       "      <td>0.137477</td>\n",
       "      <td>3.078550</td>\n",
       "      <td>8.063444</td>\n",
       "      <td>6.778146</td>\n",
       "      <td>1.761329</td>\n",
       "      <td>1.746224</td>\n",
       "    </tr>\n",
       "    <tr>\n",
       "      <th>2018-04-02</th>\n",
       "      <td>3.682376</td>\n",
       "      <td>0.312903</td>\n",
       "      <td>2.683871</td>\n",
       "      <td>0.096774</td>\n",
       "      <td>0.354839</td>\n",
       "      <td>0.641935</td>\n",
       "      <td>21.453704</td>\n",
       "      <td>0.009259</td>\n",
       "      <td>0.048148</td>\n",
       "      <td>3.355556</td>\n",
       "      <td>0.306452</td>\n",
       "      <td>0.500866</td>\n",
       "      <td>0.259721</td>\n",
       "      <td>2.911681</td>\n",
       "      <td>7.857550</td>\n",
       "      <td>6.809886</td>\n",
       "      <td>2.165242</td>\n",
       "      <td>2.128205</td>\n",
       "    </tr>\n",
       "  </tbody>\n",
       "</table>\n",
       "</div>"
      ],
      "text/plain": [
       "               target1To4Avg  runsScored    atBats  homeRuns   flyOuts  \\\n",
       "dailyDataDate                                                            \n",
       "2018-03-29          3.157729    0.339286  2.654762  0.098214  0.309524   \n",
       "2018-03-30          4.732392    0.288136  2.783051  0.050847  0.474576   \n",
       "2018-03-31          3.004417    0.398281  2.742120  0.091691  0.389685   \n",
       "2018-04-01          4.292756    0.368421  3.003759  0.105263  0.473684   \n",
       "2018-04-02          3.682376    0.312903  2.683871  0.096774  0.354839   \n",
       "\n",
       "                   hits    strikes     balks    errors   chances       rbi  \\\n",
       "dailyDataDate                                                                \n",
       "2018-03-29     0.622024  18.805970  0.007463  0.038328  3.407666  0.324405   \n",
       "2018-03-30     0.606780  20.618182  0.000000  0.081081  3.498069  0.274576   \n",
       "2018-03-31     0.693410  21.544715  0.008130  0.051118  3.182109  0.381089   \n",
       "2018-04-01     0.714286  22.432990  0.000000  0.019920  3.390438  0.349624   \n",
       "2018-04-02     0.641935  21.453704  0.009259  0.048148  3.355556  0.306452   \n",
       "\n",
       "                    pct  xWinLossPct  divisionRank  leagueRank  wildCardRank  \\\n",
       "dailyDataDate                                                                  \n",
       "2018-03-29     0.498765     0.148148      3.014815    8.014815      7.769821   \n",
       "2018-03-30     0.494135     0.071848      3.190616    8.164223      7.080128   \n",
       "2018-03-31     0.500410     0.155597      3.014742    7.958231      7.492063   \n",
       "2018-04-01     0.502517     0.137477      3.078550    8.063444      6.778146   \n",
       "2018-04-02     0.500866     0.259721      2.911681    7.857550      6.809886   \n",
       "\n",
       "               lastTenWins  lastTenLosses  \n",
       "dailyDataDate                              \n",
       "2018-03-29        0.498765       0.501235  \n",
       "2018-03-30        0.897361       0.914956  \n",
       "2018-03-31        1.326781       1.319410  \n",
       "2018-04-01        1.761329       1.746224  \n",
       "2018-04-02        2.165242       2.128205  "
      ]
     },
     "execution_count": 14,
     "metadata": {},
     "output_type": "execute_result"
    }
   ],
   "source": [
    "averaged_data.head()"
   ]
  },
  {
   "cell_type": "markdown",
   "id": "presidential-lebanon",
   "metadata": {
    "papermill": {
     "duration": 0.054868,
     "end_time": "2021-07-18T16:21:30.507285",
     "exception": false,
     "start_time": "2021-07-18T16:21:30.452417",
     "status": "completed"
    },
    "tags": []
   },
   "source": [
    "**Plot Average of targets of all players for each day across time and compare it with average of strikes**"
   ]
  },
  {
   "cell_type": "code",
   "execution_count": 15,
   "id": "registered-charity",
   "metadata": {
    "execution": {
     "iopub.execute_input": "2021-07-18T16:21:30.623979Z",
     "iopub.status.busy": "2021-07-18T16:21:30.623372Z",
     "iopub.status.idle": "2021-07-18T16:21:30.907735Z",
     "shell.execute_reply": "2021-07-18T16:21:30.907079Z",
     "shell.execute_reply.started": "2021-07-18T14:43:59.491687Z"
    },
    "papermill": {
     "duration": 0.344339,
     "end_time": "2021-07-18T16:21:30.907876",
     "exception": false,
     "start_time": "2021-07-18T16:21:30.563537",
     "status": "completed"
    },
    "tags": []
   },
   "outputs": [
    {
     "data": {
      "image/png": "[encoded data removed]",
      "text/plain": [
       "<Figure size 432x288 with 1 Axes>"
      ]
     },
     "metadata": {
      "needs_background": "light"
     },
     "output_type": "display_data"
    }
   ],
   "source": [
    "averaged_data[['target1To4Avg','strikes']].plot()\n",
    "plt.show()"
   ]
  },
  {
   "cell_type": "markdown",
   "id": "distinguished-column",
   "metadata": {
    "papermill": {
     "duration": 0.054342,
     "end_time": "2021-07-18T16:21:31.017686",
     "exception": false,
     "start_time": "2021-07-18T16:21:30.963344",
     "status": "completed"
    },
    "tags": []
   },
   "source": [
    "*note : There is some similarity in their behavior across time*"
   ]
  },
  {
   "cell_type": "markdown",
   "id": "italic-breed",
   "metadata": {
    "papermill": {
     "duration": 0.054383,
     "end_time": "2021-07-18T16:21:31.127541",
     "exception": false,
     "start_time": "2021-07-18T16:21:31.073158",
     "status": "completed"
    },
    "tags": []
   },
   "source": [
    "**Plot Average of targets of all players for each day across time and compare it with average of atBats**"
   ]
  },
  {
   "cell_type": "code",
   "execution_count": 16,
   "id": "modified-check",
   "metadata": {
    "execution": {
     "iopub.execute_input": "2021-07-18T16:21:31.242819Z",
     "iopub.status.busy": "2021-07-18T16:21:31.242197Z",
     "iopub.status.idle": "2021-07-18T16:21:31.245623Z",
     "shell.execute_reply": "2021-07-18T16:21:31.244989Z",
     "shell.execute_reply.started": "2021-07-18T14:43:59.744138Z"
    },
    "papermill": {
     "duration": 0.063275,
     "end_time": "2021-07-18T16:21:31.245777",
     "exception": false,
     "start_time": "2021-07-18T16:21:31.182502",
     "status": "completed"
    },
    "tags": []
   },
   "outputs": [],
   "source": [
    "averaged_data['atBats'] = averaged_data['atBats']*10"
   ]
  },
  {
   "cell_type": "code",
   "execution_count": 17,
   "id": "after-chinese",
   "metadata": {
    "execution": {
     "iopub.execute_input": "2021-07-18T16:21:31.382883Z",
     "iopub.status.busy": "2021-07-18T16:21:31.382256Z",
     "iopub.status.idle": "2021-07-18T16:21:31.630998Z",
     "shell.execute_reply": "2021-07-18T16:21:31.630477Z",
     "shell.execute_reply.started": "2021-07-18T14:43:59.751639Z"
    },
    "papermill": {
     "duration": 0.329965,
     "end_time": "2021-07-18T16:21:31.631133",
     "exception": false,
     "start_time": "2021-07-18T16:21:31.301168",
     "status": "completed"
    },
    "tags": []
   },
   "outputs": [
    {
     "data": {
      "image/png": "[encoded data removed]",
      "text/plain": [
       "<Figure size 432x288 with 1 Axes>"
      ]
     },
     "metadata": {
      "needs_background": "light"
     },
     "output_type": "display_data"
    }
   ],
   "source": [
    "averaged_data[['target1To4Avg','atBats']].plot()\n",
    "plt.show()"
   ]
  },
  {
   "cell_type": "markdown",
   "id": "apparent-memphis",
   "metadata": {
    "papermill": {
     "duration": 0.056257,
     "end_time": "2021-07-18T16:21:31.743551",
     "exception": false,
     "start_time": "2021-07-18T16:21:31.687294",
     "status": "completed"
    },
    "tags": []
   },
   "source": [
    "*note : There is some similarity in their behavior across time*"
   ]
  },
  {
   "cell_type": "markdown",
   "id": "congressional-therapy",
   "metadata": {
    "papermill": {
     "duration": 0.055971,
     "end_time": "2021-07-18T16:21:31.855766",
     "exception": false,
     "start_time": "2021-07-18T16:21:31.799795",
     "status": "completed"
    },
    "tags": []
   },
   "source": [
    "**Plot Average of targets of all players for each day across time and compare it with average of xWinLossPct**"
   ]
  },
  {
   "cell_type": "code",
   "execution_count": 18,
   "id": "backed-annual",
   "metadata": {
    "execution": {
     "iopub.execute_input": "2021-07-18T16:21:31.972818Z",
     "iopub.status.busy": "2021-07-18T16:21:31.972177Z",
     "iopub.status.idle": "2021-07-18T16:21:32.164997Z",
     "shell.execute_reply": "2021-07-18T16:21:32.165460Z",
     "shell.execute_reply.started": "2021-07-18T14:43:59.995555Z"
    },
    "papermill": {
     "duration": 0.253815,
     "end_time": "2021-07-18T16:21:32.165633",
     "exception": false,
     "start_time": "2021-07-18T16:21:31.911818",
     "status": "completed"
    },
    "tags": []
   },
   "outputs": [
    {
     "name": "stderr",
     "output_type": "stream",
     "text": [
      "/opt/conda/lib/python3.7/site-packages/seaborn/distributions.py:2557: FutureWarning: `distplot` is a deprecated function and will be removed in a future version. Please adapt your code to use either `displot` (a figure-level function with similar flexibility) or `histplot` (an axes-level function for histograms).\n",
      "  warnings.warn(msg, FutureWarning)\n"
     ]
    },
    {
     "data": {
      "image/png": "[encoded data removed]",
      "text/plain": [
       "<Figure size 432x288 with 1 Axes>"
      ]
     },
     "metadata": {
      "needs_background": "light"
     },
     "output_type": "display_data"
    }
   ],
   "source": [
    "sns.distplot(averaged_data['xWinLossPct'])\n",
    "plt.show()"
   ]
  },
  {
   "cell_type": "code",
   "execution_count": 19,
   "id": "divine-closure",
   "metadata": {
    "execution": {
     "iopub.execute_input": "2021-07-18T16:21:32.286890Z",
     "iopub.status.busy": "2021-07-18T16:21:32.285783Z",
     "iopub.status.idle": "2021-07-18T16:21:32.288522Z",
     "shell.execute_reply": "2021-07-18T16:21:32.288972Z",
     "shell.execute_reply.started": "2021-07-18T14:44:00.176271Z"
    },
    "papermill": {
     "duration": 0.065869,
     "end_time": "2021-07-18T16:21:32.289137",
     "exception": false,
     "start_time": "2021-07-18T16:21:32.223268",
     "status": "completed"
    },
    "tags": []
   },
   "outputs": [],
   "source": [
    "averaged_data['xWinLossPct'] = averaged_data['xWinLossPct']*50"
   ]
  },
  {
   "cell_type": "code",
   "execution_count": 20,
   "id": "comic-margin",
   "metadata": {
    "execution": {
     "iopub.execute_input": "2021-07-18T16:21:32.436591Z",
     "iopub.status.busy": "2021-07-18T16:21:32.432414Z",
     "iopub.status.idle": "2021-07-18T16:21:32.704510Z",
     "shell.execute_reply": "2021-07-18T16:21:32.703958Z",
     "shell.execute_reply.started": "2021-07-18T14:44:00.183046Z"
    },
    "papermill": {
     "duration": 0.357892,
     "end_time": "2021-07-18T16:21:32.704661",
     "exception": false,
     "start_time": "2021-07-18T16:21:32.346769",
     "status": "completed"
    },
    "tags": []
   },
   "outputs": [
    {
     "data": {
      "image/png": "[encoded data removed]",
      "text/plain": [
       "<Figure size 432x288 with 1 Axes>"
      ]
     },
     "metadata": {
      "needs_background": "light"
     },
     "output_type": "display_data"
    }
   ],
   "source": [
    "averaged_data[['target1To4Avg','xWinLossPct']].plot()\n",
    "plt.show()"
   ]
  },
  {
   "cell_type": "markdown",
   "id": "looking-serum",
   "metadata": {
    "papermill": {
     "duration": 0.058661,
     "end_time": "2021-07-18T16:21:32.822977",
     "exception": false,
     "start_time": "2021-07-18T16:21:32.764316",
     "status": "completed"
    },
    "tags": []
   },
   "source": [
    "*note : There is some similarity in their behavior across time*"
   ]
  },
  {
   "cell_type": "code",
   "execution_count": 21,
   "id": "hungarian-porter",
   "metadata": {
    "execution": {
     "iopub.execute_input": "2021-07-18T16:21:32.949489Z",
     "iopub.status.busy": "2021-07-18T16:21:32.948812Z",
     "iopub.status.idle": "2021-07-18T16:21:34.374943Z",
     "shell.execute_reply": "2021-07-18T16:21:34.375467Z",
     "shell.execute_reply.started": "2021-07-18T14:44:00.425972Z"
    },
    "papermill": {
     "duration": 1.492978,
     "end_time": "2021-07-18T16:21:34.375640",
     "exception": false,
     "start_time": "2021-07-18T16:21:32.882662",
     "status": "completed"
    },
    "tags": []
   },
   "outputs": [
    {
     "data": {
      "image/png": "[encoded data removed]",
      "text/plain": [
       "<Figure size 864x720 with 2 Axes>"
      ]
     },
     "metadata": {
      "needs_background": "light"
     },
     "output_type": "display_data"
    }
   ],
   "source": [
    "plt.figure(figsize=(12,10))\n",
    "cor = averaged_data[['target1To4Avg','runsScored','atBats','homeRuns','hits',\n",
    "        'balks','chances','rbi','pct','xWinLossPct','divisionRank','leagueRank','wildCardRank','lastTenWins','lastTenLosses']].corr()\n",
    "sns.heatmap(cor, annot=True, cmap=plt.cm.Reds)\n",
    "plt.show()"
   ]
  },
  {
   "cell_type": "markdown",
   "id": "uniform-arlington",
   "metadata": {
    "papermill": {
     "duration": 0.063181,
     "end_time": "2021-07-18T16:21:34.502288",
     "exception": false,
     "start_time": "2021-07-18T16:21:34.439107",
     "status": "completed"
    },
    "tags": []
   },
   "source": [
    "**We see here that 'pct' variable has strong positive correlation with target variable after computing averages of them per every unique day**\n",
    "\n",
    "**'lastTenWins' variable has strong positive correlation with target and of course 'lastTenLosses' has negative correlation with target also**\n",
    "\n",
    "**Also 'divisionRank' variable has strong negative correlation with target**\n",
    "\n",
    "**'leagueRank' variable has strong negative correlation with target**\n",
    "\n",
    "**'wildCardRank' variable has strong negative correlation with target**\n",
    "\n",
    "\n",
    "*Before grouping data by unique days and computing averages of variables, the correlation between target and 'pct' was only **0.16** and was **-0.16** with 'divisionRank'*"
   ]
  },
  {
   "cell_type": "markdown",
   "id": "sealed-polish",
   "metadata": {
    "papermill": {
     "duration": 0.063016,
     "end_time": "2021-07-18T16:21:34.628727",
     "exception": false,
     "start_time": "2021-07-18T16:21:34.565711",
     "status": "completed"
    },
    "tags": []
   },
   "source": [
    "**We can also see here that 'divisionRank' variable has completely opposite behavior compared to target across time **"
   ]
  },
  {
   "cell_type": "code",
   "execution_count": 22,
   "id": "pleased-confidence",
   "metadata": {
    "execution": {
     "iopub.execute_input": "2021-07-18T16:21:34.761315Z",
     "iopub.status.busy": "2021-07-18T16:21:34.760414Z",
     "iopub.status.idle": "2021-07-18T16:21:34.762946Z",
     "shell.execute_reply": "2021-07-18T16:21:34.763437Z",
     "shell.execute_reply.started": "2021-07-18T14:44:01.783972Z"
    },
    "papermill": {
     "duration": 0.071679,
     "end_time": "2021-07-18T16:21:34.763600",
     "exception": false,
     "start_time": "2021-07-18T16:21:34.691921",
     "status": "completed"
    },
    "tags": []
   },
   "outputs": [],
   "source": [
    "averaged_data['divisionRank'] = averaged_data['divisionRank']*10"
   ]
  },
  {
   "cell_type": "code",
   "execution_count": 23,
   "id": "complex-program",
   "metadata": {
    "execution": {
     "iopub.execute_input": "2021-07-18T16:21:34.917455Z",
     "iopub.status.busy": "2021-07-18T16:21:34.915813Z",
     "iopub.status.idle": "2021-07-18T16:21:35.165709Z",
     "shell.execute_reply": "2021-07-18T16:21:35.165082Z",
     "shell.execute_reply.started": "2021-07-18T14:44:01.792814Z"
    },
    "papermill": {
     "duration": 0.338707,
     "end_time": "2021-07-18T16:21:35.165904",
     "exception": false,
     "start_time": "2021-07-18T16:21:34.827197",
     "status": "completed"
    },
    "tags": []
   },
   "outputs": [
    {
     "data": {
      "image/png": "[encoded data removed]",
      "text/plain": [
       "<Figure size 432x288 with 1 Axes>"
      ]
     },
     "metadata": {
      "needs_background": "light"
     },
     "output_type": "display_data"
    }
   ],
   "source": [
    "averaged_data[['target1To4Avg','divisionRank']].plot()\n",
    "plt.show()"
   ]
  },
  {
   "cell_type": "markdown",
   "id": "spiritual-killing",
   "metadata": {
    "papermill": {
     "duration": 0.067573,
     "end_time": "2021-07-18T16:21:35.298590",
     "exception": false,
     "start_time": "2021-07-18T16:21:35.231017",
     "status": "completed"
    },
    "tags": []
   },
   "source": [
    "**And here we see that 'Current winning percentage' or 'pct' variable has almost the same behavior as target**"
   ]
  },
  {
   "cell_type": "code",
   "execution_count": 24,
   "id": "committed-dressing",
   "metadata": {
    "execution": {
     "iopub.execute_input": "2021-07-18T16:21:35.436407Z",
     "iopub.status.busy": "2021-07-18T16:21:35.435417Z",
     "iopub.status.idle": "2021-07-18T16:21:35.438001Z",
     "shell.execute_reply": "2021-07-18T16:21:35.438465Z",
     "shell.execute_reply.started": "2021-07-18T14:44:02.042521Z"
    },
    "papermill": {
     "duration": 0.0738,
     "end_time": "2021-07-18T16:21:35.438635",
     "exception": false,
     "start_time": "2021-07-18T16:21:35.364835",
     "status": "completed"
    },
    "tags": []
   },
   "outputs": [],
   "source": [
    "averaged_data['pct'] = averaged_data['pct']*50"
   ]
  },
  {
   "cell_type": "code",
   "execution_count": 25,
   "id": "apparent-spank",
   "metadata": {
    "execution": {
     "iopub.execute_input": "2021-07-18T16:21:35.599965Z",
     "iopub.status.busy": "2021-07-18T16:21:35.598956Z",
     "iopub.status.idle": "2021-07-18T16:21:35.844329Z",
     "shell.execute_reply": "2021-07-18T16:21:35.843805Z",
     "shell.execute_reply.started": "2021-07-18T14:44:02.049928Z"
    },
    "papermill": {
     "duration": 0.341147,
     "end_time": "2021-07-18T16:21:35.844474",
     "exception": false,
     "start_time": "2021-07-18T16:21:35.503327",
     "status": "completed"
    },
    "tags": []
   },
   "outputs": [
    {
     "data": {
      "image/png": "[encoded data removed]",
      "text/plain": [
       "<Figure size 432x288 with 1 Axes>"
      ]
     },
     "metadata": {
      "needs_background": "light"
     },
     "output_type": "display_data"
    }
   ],
   "source": [
    "averaged_data[['target1To4Avg','pct']].plot()\n",
    "plt.show()"
   ]
  },
  {
   "cell_type": "code",
   "execution_count": 26,
   "id": "governing-classics",
   "metadata": {
    "execution": {
     "iopub.execute_input": "2021-07-18T16:21:35.989030Z",
     "iopub.status.busy": "2021-07-18T16:21:35.983997Z",
     "iopub.status.idle": "2021-07-18T16:21:36.896857Z",
     "shell.execute_reply": "2021-07-18T16:21:36.897339Z",
     "shell.execute_reply.started": "2021-07-18T15:49:55.815784Z"
    },
    "papermill": {
     "duration": 0.98761,
     "end_time": "2021-07-18T16:21:36.897672",
     "exception": false,
     "start_time": "2021-07-18T16:21:35.910062",
     "status": "completed"
    },
    "tags": []
   },
   "outputs": [],
   "source": [
    "final_data = standings_stats.drop(['engagementMetricsDate','target1To4Avg'],axis=1)\n",
    "\n",
    "final_data = pd.merge(\n",
    "  final_data,\n",
    "  awards[['dailyDataDate','awardName','playerId']],\n",
    "   on = ['dailyDataDate','playerId'],\n",
    "   how = 'left'\n",
    "   )\n",
    "\n",
    "final_data = final_data.fillna(0)\n",
    "\n",
    "final_data['awardName'] = [1 if x!=0 else 0 for x in final_data['awardName'] ]\n",
    "\n",
    "final_data = pd.merge(\n",
    "  final_data,\n",
    "  playerTwitterFollowers[['dailyDataDate','numberOfFollowers','playerId']],\n",
    "   on = ['dailyDataDate','playerId'],\n",
    "   how = 'left'\n",
    "   )\n",
    "\n",
    "final_data = pd.merge(\n",
    "  final_data,\n",
    "  teamTwitterFollowers[['dailyDataDate','numberOfFollowers','teamId']],\n",
    "   on = ['dailyDataDate','teamId'],\n",
    "   how = 'left'\n",
    "   )\n",
    "\n",
    "final_data = pd.merge(\n",
    "  final_data,\n",
    "  games[['dailyDataDate','gamePk','isTie','gamesInSeries','seriesDescription','homeWinPct','awayWinPct','homeId','awayId']],\n",
    "   on = ['dailyDataDate','gamePk'],\n",
    "   how = 'left'\n",
    "   )\n",
    "\n",
    "final_data['pct_diff'] = (final_data['homeWinPct'] - final_data['awayWinPct']).abs()\n",
    "\n",
    "final_data = pd.merge(\n",
    "  final_data,\n",
    "  standings[['dailyDataDate','teamId','divisionRank', 'leagueRank','wildCardRank']],\n",
    "   left_on = ['dailyDataDate','homeId'],\n",
    "   right_on= ['dailyDataDate','teamId'],\n",
    "   how = 'left'\n",
    "   )\n",
    "\n",
    "final_data = pd.merge(\n",
    "  final_data,\n",
    "  standings[['dailyDataDate','teamId','divisionRank', 'leagueRank','wildCardRank']],\n",
    "   left_on = ['dailyDataDate','awayId'],\n",
    "   right_on= ['dailyDataDate','teamId'],\n",
    "   how = 'left'\n",
    "   )\n",
    "\n",
    "final_data = final_data.rename(columns={'divisionRank_x': 'player_divisionRank', 'divisionRank_y': 'home_divisionRank', \n",
    "                                       'divisionRank' : 'away_divisionRank'})\n",
    "final_data = final_data.rename(columns={'leagueRank_x': 'player_leagueRank', 'leagueRank_y': 'home_leagueRank', \n",
    "                                       'leagueRank' : 'away_leagueRank'})\n",
    "final_data = final_data.rename(columns={'wildCardRank_x': 'player_wildCardRank', 'wildCardRank_y': 'home_wildCardRank', \n",
    "                                       'wildCardRank' : 'away_wildCardRank'})\n",
    "\n",
    "final_data['divisionRank_diff'] = (final_data['home_divisionRank'] - final_data['away_divisionRank']).abs()\n",
    "final_data['leagueRank_diff'] = (final_data['home_leagueRank'] - final_data['away_leagueRank']).abs()\n",
    "final_data['wildCardRank_diff'] = (final_data['home_wildCardRank'] - final_data['away_wildCardRank']).abs()\n",
    "\n",
    "final_data = final_data.drop(['playerName','homeId', 'awayId'],axis=1)\n",
    "final_data = final_data.drop(['seriesDescription'],axis=1)\n",
    "final_data = final_data.drop(['teamId_x','teamId_y', 'teamId'],axis=1)\n"
   ]
  },
  {
   "cell_type": "code",
   "execution_count": 27,
   "id": "southern-ordinary",
   "metadata": {
    "execution": {
     "iopub.execute_input": "2021-07-18T16:21:37.031991Z",
     "iopub.status.busy": "2021-07-18T16:21:37.031332Z",
     "iopub.status.idle": "2021-07-18T16:21:37.273756Z",
     "shell.execute_reply": "2021-07-18T16:21:37.274254Z",
     "shell.execute_reply.started": "2021-07-18T16:13:21.807410Z"
    },
    "papermill": {
     "duration": 0.311132,
     "end_time": "2021-07-18T16:21:37.274435",
     "exception": false,
     "start_time": "2021-07-18T16:21:36.963303",
     "status": "completed"
    },
    "tags": []
   },
   "outputs": [],
   "source": [
    "data = final_data.copy()\n",
    "data = pd.merge(\n",
    "  data,\n",
    "  playerBoxScores[['dailyDataDate','playerId','assists', 'balls', 'baseOnBalls',\n",
    "       'baseOnBallsPitching', 'battersFaced', 'battingOrder', 'blownSaves',\n",
    "       'catchersInterference', 'catchersInterferencePitching',\n",
    "       'caughtStealing', 'caughtStealingPitching',\n",
    "       'completeGamesPitching', 'doubles', 'doublesPitching', 'earnedRuns','totalBases', 'triples', 'triplesPitching', 'wildPitches',\n",
    "       'winsPitching']],\n",
    "   on = ['dailyDataDate','playerId'],\n",
    "   how = 'left'\n",
    "   )"
   ]
  },
  {
   "cell_type": "code",
   "execution_count": 28,
   "id": "heavy-southeast",
   "metadata": {
    "execution": {
     "iopub.execute_input": "2021-07-18T16:21:37.413813Z",
     "iopub.status.busy": "2021-07-18T16:21:37.413076Z",
     "iopub.status.idle": "2021-07-18T16:21:37.478904Z",
     "shell.execute_reply": "2021-07-18T16:21:37.478227Z",
     "shell.execute_reply.started": "2021-07-18T16:13:22.837180Z"
    },
    "papermill": {
     "duration": 0.137572,
     "end_time": "2021-07-18T16:21:37.479054",
     "exception": false,
     "start_time": "2021-07-18T16:21:37.341482",
     "status": "completed"
    },
    "tags": []
   },
   "outputs": [],
   "source": [
    "data = data.drop(['gamePk'],axis=1)"
   ]
  },
  {
   "cell_type": "code",
   "execution_count": 29,
   "id": "brilliant-philippines",
   "metadata": {
    "execution": {
     "iopub.execute_input": "2021-07-18T16:21:37.624388Z",
     "iopub.status.busy": "2021-07-18T16:21:37.623772Z",
     "iopub.status.idle": "2021-07-18T16:21:38.176872Z",
     "shell.execute_reply": "2021-07-18T16:21:38.176231Z",
     "shell.execute_reply.started": "2021-07-18T16:13:23.694275Z"
    },
    "papermill": {
     "duration": 0.625007,
     "end_time": "2021-07-18T16:21:38.177012",
     "exception": false,
     "start_time": "2021-07-18T16:21:37.552005",
     "status": "completed"
    },
    "tags": []
   },
   "outputs": [],
   "source": [
    "data = data.fillna(0)\n",
    "feature_columns = [x for x in data.columns[7:]]\n",
    "target_columns = [x for x in data.columns[2:6]]\n",
    "data[feature_columns] = data[feature_columns].astype(np.float32)\n",
    "\n",
    "data = data.fillna(0)"
   ]
  },
  {
   "cell_type": "code",
   "execution_count": 30,
   "id": "hired-optimization",
   "metadata": {
    "execution": {
     "iopub.execute_input": "2021-07-18T16:21:38.315661Z",
     "iopub.status.busy": "2021-07-18T16:21:38.314849Z",
     "iopub.status.idle": "2021-07-18T16:21:38.320700Z",
     "shell.execute_reply": "2021-07-18T16:21:38.320049Z",
     "shell.execute_reply.started": "2021-07-18T16:13:24.545180Z"
    },
    "papermill": {
     "duration": 0.077706,
     "end_time": "2021-07-18T16:21:38.320841",
     "exception": false,
     "start_time": "2021-07-18T16:21:38.243135",
     "status": "completed"
    },
    "tags": []
   },
   "outputs": [
    {
     "data": {
      "text/plain": [
       "['atBats',\n",
       " 'homeRuns',\n",
       " 'flyOuts',\n",
       " 'hits',\n",
       " 'strikes',\n",
       " 'balks',\n",
       " 'errors',\n",
       " 'chances',\n",
       " 'rbi',\n",
       " 'wins',\n",
       " 'losses',\n",
       " 'pct',\n",
       " 'xWinLossPct',\n",
       " 'player_divisionRank',\n",
       " 'player_leagueRank',\n",
       " 'player_wildCardRank',\n",
       " 'lastTenWins',\n",
       " 'lastTenLosses',\n",
       " 'awardName',\n",
       " 'numberOfFollowers_x',\n",
       " 'numberOfFollowers_y',\n",
       " 'isTie',\n",
       " 'gamesInSeries',\n",
       " 'homeWinPct',\n",
       " 'awayWinPct',\n",
       " 'pct_diff',\n",
       " 'home_divisionRank',\n",
       " 'home_leagueRank',\n",
       " 'home_wildCardRank',\n",
       " 'away_divisionRank',\n",
       " 'away_leagueRank',\n",
       " 'away_wildCardRank',\n",
       " 'divisionRank_diff',\n",
       " 'leagueRank_diff',\n",
       " 'wildCardRank_diff',\n",
       " 'assists',\n",
       " 'balls',\n",
       " 'baseOnBalls',\n",
       " 'baseOnBallsPitching',\n",
       " 'battersFaced',\n",
       " 'battingOrder',\n",
       " 'blownSaves',\n",
       " 'catchersInterference',\n",
       " 'catchersInterferencePitching',\n",
       " 'caughtStealing',\n",
       " 'caughtStealingPitching',\n",
       " 'completeGamesPitching',\n",
       " 'doubles',\n",
       " 'doublesPitching',\n",
       " 'earnedRuns',\n",
       " 'totalBases',\n",
       " 'triples',\n",
       " 'triplesPitching',\n",
       " 'wildPitches',\n",
       " 'winsPitching']"
      ]
     },
     "execution_count": 30,
     "metadata": {},
     "output_type": "execute_result"
    }
   ],
   "source": [
    "feature_columns"
   ]
  },
  {
   "cell_type": "code",
   "execution_count": 31,
   "id": "serial-exhibition",
   "metadata": {
    "execution": {
     "iopub.execute_input": "2021-07-18T16:21:38.460286Z",
     "iopub.status.busy": "2021-07-18T16:21:38.459622Z",
     "iopub.status.idle": "2021-07-18T16:21:38.719915Z",
     "shell.execute_reply": "2021-07-18T16:21:38.720497Z",
     "shell.execute_reply.started": "2021-07-18T16:13:25.199191Z"
    },
    "papermill": {
     "duration": 0.332493,
     "end_time": "2021-07-18T16:21:38.720689",
     "exception": false,
     "start_time": "2021-07-18T16:21:38.388196",
     "status": "completed"
    },
    "tags": []
   },
   "outputs": [],
   "source": [
    "def remove_outliers(data):\n",
    "    Q1 = data.quantile(0.25)\n",
    "    Q3 = data.quantile(0.75)\n",
    "    IQR = Q3 - Q1\n",
    "    data = data[~((data < (Q1 - 1.5 * IQR)) | (data > (Q3 + 1.5 * IQR))).any(axis=1)]\n",
    "    \n",
    "remove_outliers(data[feature_columns])"
   ]
  },
  {
   "cell_type": "code",
   "execution_count": 32,
   "id": "basic-vehicle",
   "metadata": {
    "execution": {
     "iopub.execute_input": "2021-07-18T16:21:38.858481Z",
     "iopub.status.busy": "2021-07-18T16:21:38.857801Z",
     "iopub.status.idle": "2021-07-18T16:21:38.861173Z",
     "shell.execute_reply": "2021-07-18T16:21:38.860563Z",
     "shell.execute_reply.started": "2021-07-18T16:13:26.027060Z"
    },
    "papermill": {
     "duration": 0.074207,
     "end_time": "2021-07-18T16:21:38.861322",
     "exception": false,
     "start_time": "2021-07-18T16:21:38.787115",
     "status": "completed"
    },
    "tags": []
   },
   "outputs": [],
   "source": [
    "def log_transform(data,feature_columns):\n",
    "    for x in feature_columns:\n",
    "        data[x] = np.log10(data[x] + 1)"
   ]
  },
  {
   "cell_type": "code",
   "execution_count": 33,
   "id": "acute-bibliography",
   "metadata": {
    "execution": {
     "iopub.execute_input": "2021-07-18T16:21:38.998318Z",
     "iopub.status.busy": "2021-07-18T16:21:38.997364Z",
     "iopub.status.idle": "2021-07-18T16:21:39.137883Z",
     "shell.execute_reply": "2021-07-18T16:21:39.137281Z",
     "shell.execute_reply.started": "2021-07-18T16:13:26.930919Z"
    },
    "papermill": {
     "duration": 0.210523,
     "end_time": "2021-07-18T16:21:39.138023",
     "exception": false,
     "start_time": "2021-07-18T16:21:38.927500",
     "status": "completed"
    },
    "tags": []
   },
   "outputs": [],
   "source": [
    "from sklearn.model_selection import train_test_split            \n",
    "x_train, x_test, y_train, y_test = train_test_split(data[feature_columns],data[target_columns],test_size=0.2, random_state=42)"
   ]
  },
  {
   "cell_type": "code",
   "execution_count": 34,
   "id": "multiple-august",
   "metadata": {
    "execution": {
     "iopub.execute_input": "2021-07-18T16:21:39.277118Z",
     "iopub.status.busy": "2021-07-18T16:21:39.276380Z",
     "iopub.status.idle": "2021-07-18T16:21:39.429494Z",
     "shell.execute_reply": "2021-07-18T16:21:39.428848Z",
     "shell.execute_reply.started": "2021-07-18T16:13:27.652752Z"
    },
    "papermill": {
     "duration": 0.22532,
     "end_time": "2021-07-18T16:21:39.429633",
     "exception": false,
     "start_time": "2021-07-18T16:21:39.204313",
     "status": "completed"
    },
    "tags": []
   },
   "outputs": [],
   "source": [
    "from sklearn.preprocessing import StandardScaler\n",
    "sc = StandardScaler()\n",
    "x_train = sc.fit_transform(x_train)\n",
    "x_test = sc.transform(x_test)"
   ]
  },
  {
   "cell_type": "code",
   "execution_count": 35,
   "id": "worthy-atmosphere",
   "metadata": {
    "execution": {
     "iopub.execute_input": "2021-07-18T16:21:39.567959Z",
     "iopub.status.busy": "2021-07-18T16:21:39.567033Z",
     "iopub.status.idle": "2021-07-18T16:21:39.571336Z",
     "shell.execute_reply": "2021-07-18T16:21:39.570714Z",
     "shell.execute_reply.started": "2021-07-18T16:13:28.669692Z"
    },
    "papermill": {
     "duration": 0.075682,
     "end_time": "2021-07-18T16:21:39.571471",
     "exception": false,
     "start_time": "2021-07-18T16:21:39.495789",
     "status": "completed"
    },
    "tags": []
   },
   "outputs": [
    {
     "data": {
      "text/plain": [
       "(149865, 55)"
      ]
     },
     "execution_count": 35,
     "metadata": {},
     "output_type": "execute_result"
    }
   ],
   "source": [
    "x_train.shape"
   ]
  },
  {
   "cell_type": "code",
   "execution_count": 36,
   "id": "therapeutic-netherlands",
   "metadata": {
    "execution": {
     "iopub.execute_input": "2021-07-18T16:21:39.713287Z",
     "iopub.status.busy": "2021-07-18T16:21:39.712384Z",
     "iopub.status.idle": "2021-07-18T16:21:39.717055Z",
     "shell.execute_reply": "2021-07-18T16:21:39.716534Z",
     "shell.execute_reply.started": "2021-07-17T14:59:00.0831Z"
    },
    "papermill": {
     "duration": 0.079042,
     "end_time": "2021-07-18T16:21:39.717213",
     "exception": false,
     "start_time": "2021-07-18T16:21:39.638171",
     "status": "completed"
    },
    "tags": []
   },
   "outputs": [
    {
     "data": {
      "text/plain": [
       "137091    5.454438\n",
       "83091     9.208370\n",
       "120989    1.481862\n",
       "19735     3.296604\n",
       "128720    3.491299\n",
       "            ...   \n",
       "119879    3.269185\n",
       "103694    2.663755\n",
       "131932    1.476894\n",
       "146867    0.994006\n",
       "121958    3.158631\n",
       "Name: target2, Length: 149865, dtype: float64"
      ]
     },
     "execution_count": 36,
     "metadata": {},
     "output_type": "execute_result"
    }
   ],
   "source": [
    "y_train.iloc[:,1]"
   ]
  },
  {
   "cell_type": "code",
   "execution_count": 37,
   "id": "cardiac-sample",
   "metadata": {
    "execution": {
     "iopub.execute_input": "2021-07-18T16:21:39.855523Z",
     "iopub.status.busy": "2021-07-18T16:21:39.854856Z",
     "iopub.status.idle": "2021-07-18T16:21:39.858526Z",
     "shell.execute_reply": "2021-07-18T16:21:39.857858Z",
     "shell.execute_reply.started": "2021-07-17T15:25:34.316997Z"
    },
    "papermill": {
     "duration": 0.074955,
     "end_time": "2021-07-18T16:21:39.858668",
     "exception": false,
     "start_time": "2021-07-18T16:21:39.783713",
     "status": "completed"
    },
    "tags": []
   },
   "outputs": [
    {
     "data": {
      "text/plain": [
       "'from sklearn.ensemble import GradientBoostingRegressor\\ngb = GradientBoostingRegressor()\\ngb.fit(x_train,y_train.iloc[:,1])\\ngb.score(x_train,y_train.iloc[:,1])'"
      ]
     },
     "execution_count": 37,
     "metadata": {},
     "output_type": "execute_result"
    }
   ],
   "source": [
    "'''from sklearn.ensemble import GradientBoostingRegressor\n",
    "gb = GradientBoostingRegressor()\n",
    "gb.fit(x_train,y_train.iloc[:,1])\n",
    "gb.score(x_train,y_train.iloc[:,1])'''"
   ]
  },
  {
   "cell_type": "code",
   "execution_count": 38,
   "id": "anticipated-style",
   "metadata": {
    "execution": {
     "iopub.execute_input": "2021-07-18T16:21:40.002385Z",
     "iopub.status.busy": "2021-07-18T16:21:40.001704Z",
     "iopub.status.idle": "2021-07-18T16:22:39.972025Z",
     "shell.execute_reply": "2021-07-18T16:22:39.970932Z",
     "shell.execute_reply.started": "2021-07-18T16:13:35.036764Z"
    },
    "papermill": {
     "duration": 60.045741,
     "end_time": "2021-07-18T16:22:39.972280",
     "exception": false,
     "start_time": "2021-07-18T16:21:39.926539",
     "status": "completed"
    },
    "tags": []
   },
   "outputs": [
    {
     "name": "stdout",
     "output_type": "stream",
     "text": [
      "Epoch 1/20\n",
      "1499/1499 [==============================] - 4s 2ms/step - loss: 3.0656 - mae: 3.0656 - val_loss: 2.9624 - val_mae: 2.9624\n",
      "Epoch 2/20\n",
      "1499/1499 [==============================] - 3s 2ms/step - loss: 2.9397 - mae: 2.9397 - val_loss: 2.9374 - val_mae: 2.9374\n",
      "Epoch 3/20\n",
      "1499/1499 [==============================] - 3s 2ms/step - loss: 2.9409 - mae: 2.9409 - val_loss: 2.9379 - val_mae: 2.9379\n",
      "Epoch 4/20\n",
      "1499/1499 [==============================] - 3s 2ms/step - loss: 2.9287 - mae: 2.9287 - val_loss: 2.9233 - val_mae: 2.9233\n",
      "Epoch 5/20\n",
      "1499/1499 [==============================] - 3s 2ms/step - loss: 2.9094 - mae: 2.9094 - val_loss: 2.9283 - val_mae: 2.9283\n",
      "Epoch 6/20\n",
      "1499/1499 [==============================] - 3s 2ms/step - loss: 2.8809 - mae: 2.8809 - val_loss: 2.9158 - val_mae: 2.9158\n",
      "Epoch 7/20\n",
      "1499/1499 [==============================] - 3s 2ms/step - loss: 2.9046 - mae: 2.9046 - val_loss: 2.9143 - val_mae: 2.9143\n",
      "Epoch 8/20\n",
      "1499/1499 [==============================] - 3s 2ms/step - loss: 2.8989 - mae: 2.8989 - val_loss: 2.9102 - val_mae: 2.9102\n",
      "Epoch 9/20\n",
      "1499/1499 [==============================] - 3s 2ms/step - loss: 2.8823 - mae: 2.8823 - val_loss: 2.9043 - val_mae: 2.9043\n",
      "Epoch 10/20\n",
      "1499/1499 [==============================] - 3s 2ms/step - loss: 2.8654 - mae: 2.8654 - val_loss: 2.9160 - val_mae: 2.9160\n",
      "Epoch 11/20\n",
      "1499/1499 [==============================] - 3s 2ms/step - loss: 2.8772 - mae: 2.8772 - val_loss: 2.9058 - val_mae: 2.9058\n",
      "Epoch 12/20\n",
      "1499/1499 [==============================] - 3s 2ms/step - loss: 2.8861 - mae: 2.8861 - val_loss: 2.9010 - val_mae: 2.9010\n",
      "Epoch 13/20\n",
      "1499/1499 [==============================] - 3s 2ms/step - loss: 2.8782 - mae: 2.8782 - val_loss: 2.9006 - val_mae: 2.9006\n",
      "Epoch 14/20\n",
      "1499/1499 [==============================] - 3s 2ms/step - loss: 2.8782 - mae: 2.8782 - val_loss: 2.9028 - val_mae: 2.9028\n",
      "Epoch 15/20\n",
      "1499/1499 [==============================] - 3s 2ms/step - loss: 2.8509 - mae: 2.8509 - val_loss: 2.8997 - val_mae: 2.8997\n",
      "Epoch 16/20\n",
      "1499/1499 [==============================] - 3s 2ms/step - loss: 2.8550 - mae: 2.8550 - val_loss: 2.8993 - val_mae: 2.8993\n",
      "Epoch 17/20\n",
      "1499/1499 [==============================] - 3s 2ms/step - loss: 2.8426 - mae: 2.8426 - val_loss: 2.9099 - val_mae: 2.9099\n",
      "Epoch 18/20\n",
      "1499/1499 [==============================] - 3s 2ms/step - loss: 2.8926 - mae: 2.8926 - val_loss: 2.9261 - val_mae: 2.9261\n",
      "Epoch 19/20\n",
      "1499/1499 [==============================] - 3s 2ms/step - loss: 2.8402 - mae: 2.8402 - val_loss: 2.9104 - val_mae: 2.9104\n",
      "Epoch 20/20\n",
      "1499/1499 [==============================] - 3s 2ms/step - loss: 2.8600 - mae: 2.8600 - val_loss: 2.9041 - val_mae: 2.9041\n"
     ]
    }
   ],
   "source": [
    "from tensorflow.python.keras.models import Sequential\n",
    "from tensorflow.python.keras.layers import Dense\n",
    "from keras.layers import Dense, Conv1D, Flatten\n",
    "from keras import backend as K\n",
    "\n",
    "#_train = x_train.reshape(x_train.shape[0],x_train.shape[1],1)\n",
    "#_test=x_test.reshape(x_test.shape[0],x_test.shape[1],1)\n",
    "\n",
    "model = Sequential()\n",
    "model.add(Dense(64,input_dim=55, kernel_initializer='he_uniform', activation='relu'))\n",
    "#odel.add(Conv1D(32,16,activation=\"relu\", input_shape=(59, 1)))\n",
    "#odel.add(Flatten())\n",
    "model.add(Dense(32, activation=\"relu\"))\n",
    "model.add(Dense(16,activation=\"relu\"))\n",
    "model.add(Dense(32, activation=\"relu\"))\n",
    "model.add(Dense(64, activation=\"relu\"))\n",
    "model.add(Dense(4, activation='linear'))\n",
    "\n",
    "model.compile(loss='mae', optimizer='adam',metrics=['mae'])\n",
    "#K.set_value(model.optimizer.learning_rate, 0.001)\n",
    "\n",
    "history = model.fit(x_train, y_train, epochs=20,batch_size=100, verbose=1, validation_data=(x_test,y_test))"
   ]
  },
  {
   "cell_type": "code",
   "execution_count": 39,
   "id": "directed-yemen",
   "metadata": {
    "execution": {
     "iopub.execute_input": "2021-07-18T16:22:40.727880Z",
     "iopub.status.busy": "2021-07-18T16:22:40.726690Z",
     "iopub.status.idle": "2021-07-18T16:22:40.918433Z",
     "shell.execute_reply": "2021-07-18T16:22:40.917004Z",
     "shell.execute_reply.started": "2021-07-18T16:14:26.782894Z"
    },
    "papermill": {
     "duration": 0.586264,
     "end_time": "2021-07-18T16:22:40.918658",
     "exception": false,
     "start_time": "2021-07-18T16:22:40.332394",
     "status": "completed"
    },
    "tags": []
   },
   "outputs": [
    {
     "name": "stdout",
     "output_type": "stream",
     "text": [
      "dict_keys(['loss', 'mae', 'val_loss', 'val_mae'])\n"
     ]
    },
    {
     "data": {
      "image/png": "[encoded data removed]",
      "text/plain": [
       "<Figure size 432x288 with 1 Axes>"
      ]
     },
     "metadata": {
      "needs_background": "light"
     },
     "output_type": "display_data"
    }
   ],
   "source": [
    "print(history.history.keys())\n",
    "# \"Loss\"\n",
    "plt.plot(history.history['loss'])\n",
    "plt.plot(history.history['val_loss'])\n",
    "plt.title('model loss')\n",
    "plt.ylabel('loss')\n",
    "plt.xlabel('epoch')\n",
    "plt.legend(['train', 'validation'], loc='upper left')\n",
    "plt.show()"
   ]
  },
  {
   "cell_type": "code",
   "execution_count": 40,
   "id": "settled-billy",
   "metadata": {
    "execution": {
     "iopub.execute_input": "2021-07-18T16:22:41.699739Z",
     "iopub.status.busy": "2021-07-18T16:22:41.694617Z",
     "iopub.status.idle": "2021-07-18T16:22:46.310871Z",
     "shell.execute_reply": "2021-07-18T16:22:46.311458Z",
     "shell.execute_reply.started": "2021-07-18T16:14:54.827452Z"
    },
    "papermill": {
     "duration": 5.003716,
     "end_time": "2021-07-18T16:22:46.311743",
     "exception": false,
     "start_time": "2021-07-18T16:22:41.308027",
     "status": "completed"
    },
    "tags": []
   },
   "outputs": [
    {
     "name": "stdout",
     "output_type": "stream",
     "text": [
      "This version of the API is not optimized and should not be used to estimate the runtime of your code on the hidden test set.\n"
     ]
    }
   ],
   "source": [
    "import mlb\n",
    "\n",
    "env = mlb.make_env() # initialize the environment\n",
    "iter_test = env.iter_test() # iterator which loops over each date in test set\n",
    "\n",
    "#target_columns = ['target1', 'target2', 'target3', 'target4']\n",
    "\n",
    "for (test_df, sample_prediction_df) in iter_test:\n",
    "    \n",
    "    test_df = test_df.reset_index().rename(columns = {'index':'date'})\n",
    "    sample_prediction_df = sample_prediction_df.reset_index()\n",
    "    sample_prediction_df = sample_prediction_df.rename(columns={'date':'ddate'})\n",
    "    sample_prediction_df['date'] = pd.to_datetime(sample_prediction_df['ddate'], format='%Y%m%d')\n",
    "    sample_prediction_df['playerId'] = sample_prediction_df['date_playerId'].apply(lambda x: x.split('_')[1]).astype(int)\n",
    "\n",
    "    #games\n",
    "    \n",
    "    games_nested_table = test_df[['date','games']]\n",
    "    games_nested_table = (games_nested_table.reset_index(drop = True))\n",
    "    games_test = [] \n",
    "    for date_index, date_row in games_nested_table.iterrows():\n",
    "        daily_df = pd.read_json(date_row['games'])   \n",
    "        daily_df['date'] = date_row['date']\n",
    "        games_test = games_test + [daily_df] \n",
    "        \n",
    "    games_test = (pd.concat(games_test,\n",
    "      ignore_index = True).\n",
    "      reset_index()\n",
    "      )\n",
    "    #games_test['date'] = sample_prediction_df['date']\n",
    "    games_test = games_test[['date','gamePk','isTie','gamesInSeries','seriesDescription',\n",
    "                             'homeWinPct','awayWinPct','homeId','awayId']]\n",
    "    \n",
    "    #players\n",
    "    \n",
    "    players_nested_table = test_df[['date','playerBoxScores']]\n",
    "    players_nested_table = (players_nested_table.reset_index(drop = True))\n",
    "    players_test = []    \n",
    "    for date_index, date_row in players_nested_table.iterrows():\n",
    "        daily_df = pd.read_json(date_row['playerBoxScores'])  \n",
    "        daily_df['date'] = date_row['date']\n",
    "        players_test = players_test + [daily_df]   \n",
    "    players_test = (pd.concat(players_test,\n",
    "      ignore_index = True).\n",
    "      reset_index()\n",
    "      )\n",
    "    #players_test['date'] = sample_prediction_df['date']\n",
    "    players_test = players_test[['date','playerId','gamePk','teamId','runsScored', 'atBats', 'homeRuns',\n",
    "                             'flyOuts','hits','strikes','balks','errors','chances','rbi','assists', 'balls',\n",
    "       'baseOnBalls', 'baseOnBallsPitching', 'battersFaced', 'battingOrder',\n",
    "       'blownSaves', 'catchersInterference', 'catchersInterferencePitching',\n",
    "       'caughtStealing', 'caughtStealingPitching', 'completeGamesPitching',\n",
    "       'doubles', 'doublesPitching', 'earnedRuns', 'totalBases', 'triples',\n",
    "       'triplesPitching', 'wildPitches', 'winsPitching']]\n",
    "\n",
    "    \n",
    "    #standings\n",
    "    \n",
    "    \n",
    "    standings_nested_table = test_df[['date','standings']]\n",
    "    standings_nested_table = (standings_nested_table.reset_index(drop = True))\n",
    "    standings_test = [] \n",
    "    for date_index, date_row in standings_nested_table.iterrows():\n",
    "        daily_df = pd.read_json(date_row['standings']) \n",
    "        daily_df['date'] = date_row['date']\n",
    "        standings_test = standings_test + [daily_df]    \n",
    "    standings_test = (pd.concat(standings_test,\n",
    "      ignore_index = True).\n",
    "      reset_index()\n",
    "      )\n",
    "    #standings_test['date'] = sample_prediction_df['date']\n",
    "    standings_test = standings_test[['date','teamId','wins','losses','pct','xWinLossPct','divisionRank'\n",
    "             ,'leagueRank','wildCardRank','lastTenWins','lastTenLosses']]\n",
    "    \n",
    "    \n",
    "    players_test['date'] = pd.to_datetime(players_test['date'], format='%Y%m%d')\n",
    "    final_test4 = pd.merge(\n",
    "    sample_prediction_df,\n",
    "    players_test.drop_duplicates(subset=['date','playerId']),\n",
    "    on = ['playerId','date'],\n",
    "    how = 'left'\n",
    "    )\n",
    "\n",
    "\n",
    "    games_test['date'] = pd.to_datetime(games_test['date'], format='%Y%m%d')\n",
    "    final_test3 = pd.merge(\n",
    "    final_test4,\n",
    "    games_test,\n",
    "    on = ['date','gamePk'],\n",
    "    how = 'left'\n",
    "    )\n",
    "    \n",
    "    standings_test['date'] = pd.to_datetime(standings_test['date'], format='%Y%m%d')\n",
    "    final_test2 = pd.merge(\n",
    "    final_test3,\n",
    "    standings_test,\n",
    "    on = ['date','teamId'],\n",
    "    how = 'left'\n",
    "    )\n",
    "    \n",
    "    final_test1 = pd.merge(\n",
    "    final_test2,\n",
    "    standings_test[['date','teamId','divisionRank', 'leagueRank','wildCardRank']],\n",
    "    left_on = ['date','homeId'],\n",
    "    right_on= ['date','teamId'],\n",
    "    how = 'left'\n",
    "    )\n",
    "    \n",
    "    final_test = pd.merge(\n",
    "    final_test1,\n",
    "    standings_test[['date','teamId','divisionRank', 'leagueRank','wildCardRank']],\n",
    "    left_on = ['date','awayId'],\n",
    "    right_on= ['date','teamId'],\n",
    "    how = 'left'\n",
    "    )\n",
    "    \n",
    "    final_test = final_test.rename(columns={'divisionRank_x': 'player_divisionRank', 'divisionRank_y': 'home_divisionRank', \n",
    "                                       'divisionRank' : 'away_divisionRank'})\n",
    "    final_test = final_test.rename(columns={'leagueRank_x': 'player_leagueRank', 'leagueRank_y': 'home_leagueRank', \n",
    "                                       'leagueRank' : 'away_leagueRank'})\n",
    "    final_test = final_test.rename(columns={'wildCardRank_x': 'player_wildCardRank', 'wildCardRank_y': 'home_wildCardRank', \n",
    "                                       'wildCardRank' : 'away_wildCardRank'})\n",
    "\n",
    "    final_test['divisionRank_diff'] = (final_test['home_divisionRank'] - final_test['away_divisionRank']).abs()\n",
    "    final_test['leagueRank_diff'] = (final_test['home_leagueRank'] - final_test['away_leagueRank']).abs()\n",
    "    final_test['wildCardRank_diff'] = (final_test['home_wildCardRank'] - final_test['away_wildCardRank']).abs()\n",
    "    final_test['pct_diff'] = (final_test['homeWinPct'] - final_test['awayWinPct']).abs()\n",
    "    \n",
    "    final_test = final_test.drop(['awayId','teamId','homeId','playerId','gamePk'],axis=1)\n",
    "    final_test['numberOfFollowers_x'] = 0\n",
    "    final_test['numberOfFollowers_y'] = 0\n",
    "    final_test['awardName'] = 0\n",
    "    final_test = final_test.rename(columns={'chances' : 'chances_x'})\n",
    "    final_test = final_test.fillna(0)  \n",
    "    \n",
    "    cols = ['atBats',\n",
    " 'homeRuns',\n",
    " 'flyOuts',\n",
    " 'hits',\n",
    " 'strikes',\n",
    " 'balks',\n",
    " 'errors',\n",
    " 'chances_x',\n",
    " 'rbi',\n",
    " 'wins',\n",
    " 'losses',\n",
    " 'pct',\n",
    " 'xWinLossPct',\n",
    " 'player_divisionRank',\n",
    " 'player_leagueRank',\n",
    " 'player_wildCardRank',\n",
    " 'lastTenWins',\n",
    " 'lastTenLosses',\n",
    " 'awardName',\n",
    " 'numberOfFollowers_x',\n",
    " 'numberOfFollowers_y',\n",
    " 'isTie',\n",
    " 'gamesInSeries',\n",
    " 'homeWinPct',\n",
    " 'awayWinPct',\n",
    " 'pct_diff',\n",
    " 'home_divisionRank',\n",
    " 'home_leagueRank',\n",
    " 'home_wildCardRank',\n",
    " 'away_divisionRank',\n",
    " 'away_leagueRank','away_wildCardRank', 'divisionRank_diff','leagueRank_diff','wildCardRank_diff','assists','balls',\n",
    " 'baseOnBalls', 'baseOnBallsPitching','battersFaced','battingOrder','blownSaves',\n",
    " 'catchersInterference','catchersInterferencePitching','caughtStealing','caughtStealingPitching','completeGamesPitching','doubles',\n",
    " 'doublesPitching','earnedRuns','totalBases','triples', 'triplesPitching','wildPitches','winsPitching']\n",
    "    \n",
    "    final_test = final_test[cols]\n",
    "    \n",
    "    sc = StandardScaler()\n",
    "    final_test = sc.fit_transform(final_test)\n",
    "    \n",
    "    final_test = final_test.astype(np.float32)\n",
    "    sample_prediction_df = sample_prediction_df.drop(['playerId'],axis=1)\n",
    "    sample_prediction_df = sample_prediction_df.set_index('date')\n",
    "    sample_prediction_df = sample_prediction_df.rename(columns={'ddate':'date'})\n",
    "    sample_prediction_df = sample_prediction_df[['date','date_playerId','target1', 'target2', 'target3', 'target4']]\n",
    "    sample_prediction_df = sample_prediction_df.drop(['date'],axis=1)\n",
    "    sample_prediction_df['target1'] = np.clip(model.predict(final_test)[:,0], 0, 100)\n",
    "    sample_prediction_df['target2'] = np.clip(model.predict(final_test)[:,1], 0, 100)\n",
    "    sample_prediction_df['target3'] = np.clip(model.predict(final_test)[:,2], 0, 100)\n",
    "    sample_prediction_df['target4'] = np.clip(model.predict(final_test)[:,3], 0, 100)\n",
    "    sample_prediction_df = sample_prediction_df.fillna(0.)\n",
    "    env.predict(sample_prediction_df)"
   ]
  },
  {
   "cell_type": "code",
   "execution_count": null,
   "id": "amber-calgary",
   "metadata": {
    "execution": {
     "iopub.execute_input": "2021-07-16T00:21:46.07697Z",
     "iopub.status.busy": "2021-07-16T00:21:46.076519Z",
     "iopub.status.idle": "2021-07-16T00:21:46.083994Z",
     "shell.execute_reply": "2021-07-16T00:21:46.082632Z",
     "shell.execute_reply.started": "2021-07-16T00:21:46.076925Z"
    },
    "papermill": {
     "duration": 0.364095,
     "end_time": "2021-07-18T16:22:47.105787",
     "exception": false,
     "start_time": "2021-07-18T16:22:46.741692",
     "status": "completed"
    },
    "tags": []
   },
   "outputs": [],
   "source": []
  },
  {
   "cell_type": "code",
   "execution_count": 41,
   "id": "familiar-actress",
   "metadata": {
    "execution": {
     "iopub.execute_input": "2021-07-18T16:22:47.829358Z",
     "iopub.status.busy": "2021-07-18T16:22:47.828601Z",
     "iopub.status.idle": "2021-07-18T16:22:47.833574Z",
     "shell.execute_reply": "2021-07-18T16:22:47.833015Z",
     "shell.execute_reply.started": "2021-07-16T00:21:46.085847Z"
    },
    "papermill": {
     "duration": 0.371779,
     "end_time": "2021-07-18T16:22:47.833774",
     "exception": false,
     "start_time": "2021-07-18T16:22:47.461995",
     "status": "completed"
    },
    "tags": []
   },
   "outputs": [
    {
     "data": {
      "text/plain": [
       "\"sample_prediction_df = sample_prediction_df.drop(['date'],axis=1)\\nsample_prediction_df = sample_prediction_df.rename(columns={'ddate':'date'})\\nsample_prediction_df = sample_prediction_df[['date','date_playerId','target1', 'target2', 'target3', 'target4']]\\nsample_prediction_df = sample_prediction_df.drop(['date'],axis=1)\""
      ]
     },
     "execution_count": 41,
     "metadata": {},
     "output_type": "execute_result"
    }
   ],
   "source": [
    "'''sample_prediction_df = sample_prediction_df.drop(['date'],axis=1)\n",
    "sample_prediction_df = sample_prediction_df.rename(columns={'ddate':'date'})\n",
    "sample_prediction_df = sample_prediction_df[['date','date_playerId','target1', 'target2', 'target3', 'target4']]\n",
    "sample_prediction_df = sample_prediction_df.drop(['date'],axis=1)'''"
   ]
  },
  {
   "cell_type": "code",
   "execution_count": 42,
   "id": "several-miracle",
   "metadata": {
    "execution": {
     "iopub.execute_input": "2021-07-18T16:22:48.570627Z",
     "iopub.status.busy": "2021-07-18T16:22:48.569908Z",
     "iopub.status.idle": "2021-07-18T16:22:48.575270Z",
     "shell.execute_reply": "2021-07-18T16:22:48.574564Z",
     "shell.execute_reply.started": "2021-07-16T00:21:46.105751Z"
    },
    "papermill": {
     "duration": 0.380591,
     "end_time": "2021-07-18T16:22:48.575445",
     "exception": false,
     "start_time": "2021-07-18T16:22:48.194854",
     "status": "completed"
    },
    "tags": []
   },
   "outputs": [
    {
     "data": {
      "text/html": [
       "<div>\n",
       "<style scoped>\n",
       "    .dataframe tbody tr th:only-of-type {\n",
       "        vertical-align: middle;\n",
       "    }\n",
       "\n",
       "    .dataframe tbody tr th {\n",
       "        vertical-align: top;\n",
       "    }\n",
       "\n",
       "    .dataframe thead th {\n",
       "        text-align: right;\n",
       "    }\n",
       "</style>\n",
       "<table border=\"1\" class=\"dataframe\">\n",
       "  <thead>\n",
       "    <tr style=\"text-align: right;\">\n",
       "      <th></th>\n",
       "      <th>date_playerId</th>\n",
       "      <th>target1</th>\n",
       "      <th>target2</th>\n",
       "      <th>target3</th>\n",
       "      <th>target4</th>\n",
       "    </tr>\n",
       "    <tr>\n",
       "      <th>date</th>\n",
       "      <th></th>\n",
       "      <th></th>\n",
       "      <th></th>\n",
       "      <th></th>\n",
       "      <th></th>\n",
       "    </tr>\n",
       "  </thead>\n",
       "  <tbody>\n",
       "    <tr>\n",
       "      <th>2021-04-30</th>\n",
       "      <td>20210501_488726</td>\n",
       "      <td>11.068962</td>\n",
       "      <td>15.308531</td>\n",
       "      <td>3.576935</td>\n",
       "      <td>5.522573</td>\n",
       "    </tr>\n",
       "    <tr>\n",
       "      <th>2021-04-30</th>\n",
       "      <td>20210501_605218</td>\n",
       "      <td>0.031920</td>\n",
       "      <td>1.671512</td>\n",
       "      <td>0.000000</td>\n",
       "      <td>0.545914</td>\n",
       "    </tr>\n",
       "    <tr>\n",
       "      <th>2021-04-30</th>\n",
       "      <td>20210501_621563</td>\n",
       "      <td>1.013779</td>\n",
       "      <td>2.705888</td>\n",
       "      <td>0.000000</td>\n",
       "      <td>0.664881</td>\n",
       "    </tr>\n",
       "    <tr>\n",
       "      <th>2021-04-30</th>\n",
       "      <td>20210501_670084</td>\n",
       "      <td>0.031920</td>\n",
       "      <td>1.671512</td>\n",
       "      <td>0.000000</td>\n",
       "      <td>0.545914</td>\n",
       "    </tr>\n",
       "    <tr>\n",
       "      <th>2021-04-30</th>\n",
       "      <td>20210501_670970</td>\n",
       "      <td>0.031920</td>\n",
       "      <td>1.671512</td>\n",
       "      <td>0.000000</td>\n",
       "      <td>0.545914</td>\n",
       "    </tr>\n",
       "  </tbody>\n",
       "</table>\n",
       "</div>"
      ],
      "text/plain": [
       "              date_playerId    target1    target2   target3   target4\n",
       "date                                                                 \n",
       "2021-04-30  20210501_488726  11.068962  15.308531  3.576935  5.522573\n",
       "2021-04-30  20210501_605218   0.031920   1.671512  0.000000  0.545914\n",
       "2021-04-30  20210501_621563   1.013779   2.705888  0.000000  0.664881\n",
       "2021-04-30  20210501_670084   0.031920   1.671512  0.000000  0.545914\n",
       "2021-04-30  20210501_670970   0.031920   1.671512  0.000000  0.545914"
      ]
     },
     "execution_count": 42,
     "metadata": {},
     "output_type": "execute_result"
    }
   ],
   "source": [
    "sample_prediction_df.head()"
   ]
  },
  {
   "cell_type": "code",
   "execution_count": 43,
   "id": "extreme-cheat",
   "metadata": {
    "execution": {
     "iopub.execute_input": "2021-07-18T16:22:49.301474Z",
     "iopub.status.busy": "2021-07-18T16:22:49.300836Z",
     "iopub.status.idle": "2021-07-18T16:22:49.303636Z",
     "shell.execute_reply": "2021-07-18T16:22:49.304112Z",
     "shell.execute_reply.started": "2021-07-16T00:21:46.127501Z"
    },
    "papermill": {
     "duration": 0.366608,
     "end_time": "2021-07-18T16:22:49.304306",
     "exception": false,
     "start_time": "2021-07-18T16:22:48.937698",
     "status": "completed"
    },
    "tags": []
   },
   "outputs": [],
   "source": [
    "#sample_prediction_df.to_csv('submission.csv',index=False)"
   ]
  },
  {
   "cell_type": "code",
   "execution_count": null,
   "id": "toxic-nightlife",
   "metadata": {
    "papermill": {
     "duration": 0.360763,
     "end_time": "2021-07-18T16:22:50.053775",
     "exception": false,
     "start_time": "2021-07-18T16:22:49.693012",
     "status": "completed"
    },
    "tags": []
   },
   "outputs": [],
   "source": []
  }
 ],
 "metadata": {
  "kernelspec": {
   "display_name": "Python 3",
   "language": "python",
   "name": "python3"
  },
  "language_info": {
   "codemirror_mode": {
    "name": "ipython",
    "version": 3
   },
   "file_extension": ".py",
   "mimetype": "text/x-python",
   "name": "python",
   "nbconvert_exporter": "python",
   "pygments_lexer": "ipython3",
   "version": "3.7.10"
  },
  "papermill": {
   "default_parameters": {},
   "duration": 453.73447,
   "end_time": "2021-07-18T16:22:53.222069",
   "environment_variables": {},
   "exception": null,
   "input_path": "__notebook__.ipynb",
   "output_path": "__notebook__.ipynb",
   "parameters": {},
   "start_time": "2021-07-18T16:15:19.487599",
   "version": "2.3.3"
  },
  "widgets": {
   "application/vnd.jupyter.widget-state+json": {
    "state": {
     "0584c11dec6b45329107fba9407c976f": {
      "model_module": "@jupyter-widgets/base",
      "model_module_version": "1.2.0",
      "model_name": "LayoutModel",
      "state": {
       "_model_module": "@jupyter-widgets/base",
       "_model_module_version": "1.2.0",
       "_model_name": "LayoutModel",
       "_view_count": null,
       "_view_module": "@jupyter-widgets/base",
       "_view_module_version": "1.2.0",
       "_view_name": "LayoutView",
       "align_content": null,
       "align_items": null,
       "align_self": null,
       "border": null,
       "bottom": null,
       "display": null,
       "flex": null,
       "flex_flow": null,
       "grid_area": null,
       "grid_auto_columns": null,
       "grid_auto_flow": null,
       "grid_auto_rows": null,
       "grid_column": null,
       "grid_gap": null,
       "grid_row": null,
       "grid_template_areas": null,
       "grid_template_columns": null,
       "grid_template_rows": null,
       "height": null,
       "justify_content": null,
       "justify_items": null,
       "left": null,
       "margin": null,
       "max_height": null,
       "max_width": null,
       "min_height": null,
       "min_width": null,
       "object_fit": null,
       "object_position": null,
       "order": null,
       "overflow": null,
       "overflow_x": null,
       "overflow_y": null,
       "padding": null,
       "right": null,
       "top": null,
       "visibility": null,
       "width": null
      }
     },
     "0d8a12b9452a42a693d30fbcf14c74ef": {
      "model_module": "@jupyter-widgets/base",
      "model_module_version": "1.2.0",
      "model_name": "LayoutModel",
      "state": {
       "_model_module": "@jupyter-widgets/base",
       "_model_module_version": "1.2.0",
       "_model_name": "LayoutModel",
       "_view_count": null,
       "_view_module": "@jupyter-widgets/base",
       "_view_module_version": "1.2.0",
       "_view_name": "LayoutView",
       "align_content": null,
       "align_items": null,
       "align_self": null,
       "border": null,
       "bottom": null,
       "display": null,
       "flex": null,
       "flex_flow": null,
       "grid_area": null,
       "grid_auto_columns": null,
       "grid_auto_flow": null,
       "grid_auto_rows": null,
       "grid_column": null,
       "grid_gap": null,
       "grid_row": null,
       "grid_template_areas": null,
       "grid_template_columns": null,
       "grid_template_rows": null,
       "height": null,
       "justify_content": null,
       "justify_items": null,
       "left": null,
       "margin": null,
       "max_height": null,
       "max_width": null,
       "min_height": null,
       "min_width": null,
       "object_fit": null,
       "object_position": null,
       "order": null,
       "overflow": null,
       "overflow_x": null,
       "overflow_y": null,
       "padding": null,
       "right": null,
       "top": null,
       "visibility": null,
       "width": null
      }
     },
     "0ee7a378952744f68d86cfdcb878819b": {
      "model_module": "@jupyter-widgets/base",
      "model_module_version": "1.2.0",
      "model_name": "LayoutModel",
      "state": {
       "_model_module": "@jupyter-widgets/base",
       "_model_module_version": "1.2.0",
       "_model_name": "LayoutModel",
       "_view_count": null,
       "_view_module": "@jupyter-widgets/base",
       "_view_module_version": "1.2.0",
       "_view_name": "LayoutView",
       "align_content": null,
       "align_items": null,
       "align_self": null,
       "border": null,
       "bottom": null,
       "display": null,
       "flex": null,
       "flex_flow": null,
       "grid_area": null,
       "grid_auto_columns": null,
       "grid_auto_flow": null,
       "grid_auto_rows": null,
       "grid_column": null,
       "grid_gap": null,
       "grid_row": null,
       "grid_template_areas": null,
       "grid_template_columns": null,
       "grid_template_rows": null,
       "height": null,
       "justify_content": null,
       "justify_items": null,
       "left": null,
       "margin": null,
       "max_height": null,
       "max_width": null,
       "min_height": null,
       "min_width": null,
       "object_fit": null,
       "object_position": null,
       "order": null,
       "overflow": null,
       "overflow_x": null,
       "overflow_y": null,
       "padding": null,
       "right": null,
       "top": null,
       "visibility": null,
       "width": null
      }
     },
     "0fc0419ee02d44c888577b4216e986bb": {
      "model_module": "@jupyter-widgets/controls",
      "model_module_version": "1.5.0",
      "model_name": "TabModel",
      "state": {
       "_dom_classes": [],
       "_model_module": "@jupyter-widgets/controls",
       "_model_module_version": "1.5.0",
       "_model_name": "TabModel",
       "_titles": {
        "0": "nextDayPlayerEngagement",
        "1": "games",
        "10": "teamTwitterFollowers",
        "2": "rosters",
        "3": "playerBoxScores",
        "4": "teamBoxScores",
        "5": "transactions",
        "6": "standings",
        "7": "awards",
        "8": "events",
        "9": "playerTwitterFollowers"
       },
       "_view_count": null,
       "_view_module": "@jupyter-widgets/controls",
       "_view_module_version": "1.5.0",
       "_view_name": "TabView",
       "box_style": "",
       "children": [
        "IPY_MODEL_e7e6bab5b472402384d3ea4e58e7c9ad",
        "IPY_MODEL_6e9858a2338f4adb9c0ca7b8c8599ea1",
        "IPY_MODEL_e6893b90bd8f4620947cb10746d7e1dc",
        "IPY_MODEL_e1a84554e3ec48e4af92b106036c9ccd",
        "IPY_MODEL_cda1e920e1834dd5958df6da4ae4cd5b",
        "IPY_MODEL_4f5830bad17c4cf293853da1b082be34",
        "IPY_MODEL_acc7e42b1e834d5894ab5ea05c7c6bfa",
        "IPY_MODEL_29acd6fa6f94439fbf89dd4acf71b77a",
        "IPY_MODEL_bffe20f891c24148a9addfd54e153fc5",
        "IPY_MODEL_ce79b3ca0579489da9b1a28d42bfbcb9",
        "IPY_MODEL_874a57432d804bdda6b2507cdc937f87"
       ],
       "layout": "IPY_MODEL_47e0b278e7f141f091c69b2c32bd6268",
       "selected_index": 0
      }
     },
     "29acd6fa6f94439fbf89dd4acf71b77a": {
      "model_module": "@jupyter-widgets/output",
      "model_module_version": "1.0.0",
      "model_name": "OutputModel",
      "state": {
       "_dom_classes": [],
       "_model_module": "@jupyter-widgets/output",
       "_model_module_version": "1.0.0",
       "_model_name": "OutputModel",
       "_view_count": null,
       "_view_module": "@jupyter-widgets/output",
       "_view_module_version": "1.0.0",
       "_view_name": "OutputView",
       "layout": "IPY_MODEL_c053b9babe8140fb8af9905638b2903b",
       "msg_id": "",
       "outputs": [
        {
         "data": {
          "text/html": "<div>\n<style scoped>\n    .dataframe tbody tr th:only-of-type {\n        vertical-align: middle;\n    }\n\n    .dataframe tbody tr th {\n        vertical-align: top;\n    }\n\n    .dataframe thead th {\n        text-align: right;\n    }\n</style>\n<table border=\"1\" class=\"dataframe\">\n  <thead>\n    <tr style=\"text-align: right;\">\n      <th></th>\n      <th>dailyDataDate</th>\n      <th>awardId</th>\n      <th>awardName</th>\n      <th>awardDate</th>\n      <th>awardSeason</th>\n      <th>playerId</th>\n      <th>playerName</th>\n      <th>awardPlayerTeamId</th>\n    </tr>\n  </thead>\n  <tbody>\n    <tr>\n      <th>0</th>\n      <td>2018-01-15</td>\n      <td>VWLCPOY</td>\n      <td>VWL Comeback Player of the Year</td>\n      <td>2018-01-15</td>\n      <td>2017</td>\n      <td>150119</td>\n      <td>Freddy Garcia</td>\n      <td>699.0</td>\n    </tr>\n    <tr>\n      <th>1</th>\n      <td>2018-01-15</td>\n      <td>VWLPOY</td>\n      <td>VWL Pitcher of the Year</td>\n      <td>2018-01-15</td>\n      <td>2017</td>\n      <td>446861</td>\n      <td>Guillermo Moscoso</td>\n      <td>699.0</td>\n    </tr>\n    <tr>\n      <th>2</th>\n      <td>2018-01-15</td>\n      <td>VWLMOY</td>\n      <td>VWL Manager of the Year</td>\n      <td>2018-01-15</td>\n      <td>2017</td>\n      <td>492527</td>\n      <td>Mike Rojas</td>\n      <td>695.0</td>\n    </tr>\n    <tr>\n      <th>3</th>\n      <td>2018-01-15</td>\n      <td>VWLRLOY</td>\n      <td>VWL Reliever of the Year</td>\n      <td>2018-01-15</td>\n      <td>2017</td>\n      <td>519246</td>\n      <td>Andres Santiago</td>\n      <td>694.0</td>\n    </tr>\n    <tr>\n      <th>4</th>\n      <td>2018-01-15</td>\n      <td>VWLOPOY</td>\n      <td>VWL Offensive Player of the Year</td>\n      <td>2018-01-15</td>\n      <td>2017</td>\n      <td>543874</td>\n      <td>Jose Vargas</td>\n      <td>699.0</td>\n    </tr>\n    <tr>\n      <th>...</th>\n      <td>...</td>\n      <td>...</td>\n      <td>...</td>\n      <td>...</td>\n      <td>...</td>\n      <td>...</td>\n      <td>...</td>\n      <td>...</td>\n    </tr>\n    <tr>\n      <th>5910</th>\n      <td>2021-04-30</td>\n      <td>NLPOM</td>\n      <td>NL Player of the Month</td>\n      <td>2021-04-30</td>\n      <td>2021</td>\n      <td>660670</td>\n      <td>Ronald Acuna Jr.</td>\n      <td>144.0</td>\n    </tr>\n    <tr>\n      <th>5911</th>\n      <td>2021-04-30</td>\n      <td>ALRRELMON</td>\n      <td>AL Reliever of the Month</td>\n      <td>2021-04-30</td>\n      <td>2021</td>\n      <td>598264</td>\n      <td>Matt Barnes</td>\n      <td>111.0</td>\n    </tr>\n    <tr>\n      <th>5912</th>\n      <td>2021-04-30</td>\n      <td>ALPOM</td>\n      <td>AL Player of the Month</td>\n      <td>2021-04-30</td>\n      <td>2021</td>\n      <td>621439</td>\n      <td>Byron Buxton</td>\n      <td>142.0</td>\n    </tr>\n    <tr>\n      <th>5913</th>\n      <td>2021-04-30</td>\n      <td>ALROM</td>\n      <td>AL Rookie of the Month</td>\n      <td>2021-04-30</td>\n      <td>2021</td>\n      <td>606213</td>\n      <td>Yermin Mercedes</td>\n      <td>145.0</td>\n    </tr>\n    <tr>\n      <th>5914</th>\n      <td>2021-04-30</td>\n      <td>ALPITOM</td>\n      <td>AL Pitcher of the Month</td>\n      <td>2021-04-30</td>\n      <td>2021</td>\n      <td>543037</td>\n      <td>Gerrit Cole</td>\n      <td>147.0</td>\n    </tr>\n  </tbody>\n</table>\n<p>5915 rows × 8 columns</p>\n</div>",
          "text/plain": "     dailyDataDate    awardId                         awardName   awardDate  \\\n0       2018-01-15    VWLCPOY   VWL Comeback Player of the Year  2018-01-15   \n1       2018-01-15     VWLPOY           VWL Pitcher of the Year  2018-01-15   \n2       2018-01-15     VWLMOY           VWL Manager of the Year  2018-01-15   \n3       2018-01-15    VWLRLOY          VWL Reliever of the Year  2018-01-15   \n4       2018-01-15    VWLOPOY  VWL Offensive Player of the Year  2018-01-15   \n...            ...        ...                               ...         ...   \n5910    2021-04-30      NLPOM            NL Player of the Month  2021-04-30   \n5911    2021-04-30  ALRRELMON          AL Reliever of the Month  2021-04-30   \n5912    2021-04-30      ALPOM            AL Player of the Month  2021-04-30   \n5913    2021-04-30      ALROM            AL Rookie of the Month  2021-04-30   \n5914    2021-04-30    ALPITOM           AL Pitcher of the Month  2021-04-30   \n\n      awardSeason  playerId         playerName  awardPlayerTeamId  \n0            2017    150119      Freddy Garcia              699.0  \n1            2017    446861  Guillermo Moscoso              699.0  \n2            2017    492527         Mike Rojas              695.0  \n3            2017    519246    Andres Santiago              694.0  \n4            2017    543874        Jose Vargas              699.0  \n...           ...       ...                ...                ...  \n5910         2021    660670   Ronald Acuna Jr.              144.0  \n5911         2021    598264        Matt Barnes              111.0  \n5912         2021    621439       Byron Buxton              142.0  \n5913         2021    606213    Yermin Mercedes              145.0  \n5914         2021    543037        Gerrit Cole              147.0  \n\n[5915 rows x 8 columns]"
         },
         "metadata": {},
         "output_type": "display_data"
        }
       ]
      }
     },
     "458a2b175aff404d84b08ba4e3f295fd": {
      "model_module": "@jupyter-widgets/base",
      "model_module_version": "1.2.0",
      "model_name": "LayoutModel",
      "state": {
       "_model_module": "@jupyter-widgets/base",
       "_model_module_version": "1.2.0",
       "_model_name": "LayoutModel",
       "_view_count": null,
       "_view_module": "@jupyter-widgets/base",
       "_view_module_version": "1.2.0",
       "_view_name": "LayoutView",
       "align_content": null,
       "align_items": null,
       "align_self": null,
       "border": null,
       "bottom": null,
       "display": null,
       "flex": null,
       "flex_flow": null,
       "grid_area": null,
       "grid_auto_columns": null,
       "grid_auto_flow": null,
       "grid_auto_rows": null,
       "grid_column": null,
       "grid_gap": null,
       "grid_row": null,
       "grid_template_areas": null,
       "grid_template_columns": null,
       "grid_template_rows": null,
       "height": null,
       "justify_content": null,
       "justify_items": null,
       "left": null,
       "margin": null,
       "max_height": null,
       "max_width": null,
       "min_height": null,
       "min_width": null,
       "object_fit": null,
       "object_position": null,
       "order": null,
       "overflow": null,
       "overflow_x": null,
       "overflow_y": null,
       "padding": null,
       "right": null,
       "top": null,
       "visibility": null,
       "width": null
      }
     },
     "47e0b278e7f141f091c69b2c32bd6268": {
      "model_module": "@jupyter-widgets/base",
      "model_module_version": "1.2.0",
      "model_name": "LayoutModel",
      "state": {
       "_model_module": "@jupyter-widgets/base",
       "_model_module_version": "1.2.0",
       "_model_name": "LayoutModel",
       "_view_count": null,
       "_view_module": "@jupyter-widgets/base",
       "_view_module_version": "1.2.0",
       "_view_name": "LayoutView",
       "align_content": null,
       "align_items": null,
       "align_self": null,
       "border": null,
       "bottom": null,
       "display": null,
       "flex": null,
       "flex_flow": null,
       "grid_area": null,
       "grid_auto_columns": null,
       "grid_auto_flow": null,
       "grid_auto_rows": null,
       "grid_column": null,
       "grid_gap": null,
       "grid_row": null,
       "grid_template_areas": null,
       "grid_template_columns": null,
       "grid_template_rows": null,
       "height": null,
       "justify_content": null,
       "justify_items": null,
       "left": null,
       "margin": null,
       "max_height": null,
       "max_width": null,
       "min_height": null,
       "min_width": null,
       "object_fit": null,
       "object_position": null,
       "order": null,
       "overflow": null,
       "overflow_x": null,
       "overflow_y": null,
       "padding": null,
       "right": null,
       "top": null,
       "visibility": null,
       "width": null
      }
     },
     "4be1d98ae46a4b7bafb39e237e6d88ec": {
      "model_module": "@jupyter-widgets/output",
      "model_module_version": "1.0.0",
      "model_name": "OutputModel",
      "state": {
       "_dom_classes": [],
       "_model_module": "@jupyter-widgets/output",
       "_model_module_version": "1.0.0",
       "_model_name": "OutputModel",
       "_view_count": null,
       "_view_module": "@jupyter-widgets/output",
       "_view_module_version": "1.0.0",
       "_view_name": "OutputView",
       "layout": "IPY_MODEL_e3a0029d308046f382b57e4b64509644",
       "msg_id": "",
       "outputs": [
        {
         "data": {
          "text/html": "<div>\n<style scoped>\n    .dataframe tbody tr th:only-of-type {\n        vertical-align: middle;\n    }\n\n    .dataframe tbody tr th {\n        vertical-align: top;\n    }\n\n    .dataframe thead th {\n        text-align: right;\n    }\n</style>\n<table border=\"1\" class=\"dataframe\">\n  <thead>\n    <tr style=\"text-align: right;\">\n      <th></th>\n      <th>awardDate</th>\n      <th>awardSeason</th>\n      <th>awardId</th>\n      <th>awardName</th>\n      <th>playerId</th>\n      <th>playerName</th>\n      <th>awardPlayerTeamId</th>\n    </tr>\n  </thead>\n  <tbody>\n    <tr>\n      <th>0</th>\n      <td>2017-12-21</td>\n      <td>2017</td>\n      <td>WARRENSPAHN</td>\n      <td>Warren Spahn Award</td>\n      <td>477132</td>\n      <td>Clayton Kershaw</td>\n      <td>119.0</td>\n    </tr>\n    <tr>\n      <th>1</th>\n      <td>2017-12-20</td>\n      <td>2017</td>\n      <td>MILBORGAS</td>\n      <td>MiLB.com Organization All-Star</td>\n      <td>474319</td>\n      <td>Brandon Snyder</td>\n      <td>120.0</td>\n    </tr>\n    <tr>\n      <th>2</th>\n      <td>2017-12-20</td>\n      <td>2017</td>\n      <td>MILBORGAS</td>\n      <td>MiLB.com Organization All-Star</td>\n      <td>592530</td>\n      <td>Jose Marmolejos</td>\n      <td>120.0</td>\n    </tr>\n    <tr>\n      <th>3</th>\n      <td>2017-12-20</td>\n      <td>2017</td>\n      <td>MILBORGAS</td>\n      <td>MiLB.com Organization All-Star</td>\n      <td>593833</td>\n      <td>Wander Suero</td>\n      <td>120.0</td>\n    </tr>\n    <tr>\n      <th>4</th>\n      <td>2017-12-20</td>\n      <td>2017</td>\n      <td>MILBORGAS</td>\n      <td>MiLB.com Organization All-Star</td>\n      <td>600466</td>\n      <td>Raudy Read</td>\n      <td>120.0</td>\n    </tr>\n    <tr>\n      <th>...</th>\n      <td>...</td>\n      <td>...</td>\n      <td>...</td>\n      <td>...</td>\n      <td>...</td>\n      <td>...</td>\n      <td>...</td>\n    </tr>\n    <tr>\n      <th>11251</th>\n      <td>2000-08-27</td>\n      <td>2000</td>\n      <td>NLPOW</td>\n      <td>NL Player of the Week</td>\n      <td>134181</td>\n      <td>Adrian Beltre</td>\n      <td>119.0</td>\n    </tr>\n    <tr>\n      <th>11252</th>\n      <td>2000-07-09</td>\n      <td>2000</td>\n      <td>FUTURES</td>\n      <td>Futures Game Selection</td>\n      <td>282332</td>\n      <td>CC Sabathia</td>\n      <td>402.0</td>\n    </tr>\n    <tr>\n      <th>11253</th>\n      <td>1998-09-01</td>\n      <td>1998</td>\n      <td>TLPSAS</td>\n      <td>TEX Post-Season All-Star</td>\n      <td>134181</td>\n      <td>Adrian Beltre</td>\n      <td>510.0</td>\n    </tr>\n    <tr>\n      <th>11254</th>\n      <td>1998-07-07</td>\n      <td>1998</td>\n      <td>ALAS</td>\n      <td>AL All-Star</td>\n      <td>112526</td>\n      <td>Bartolo Colon</td>\n      <td>114.0</td>\n    </tr>\n    <tr>\n      <th>11255</th>\n      <td>1998-06-21</td>\n      <td>1998</td>\n      <td>ALPOW</td>\n      <td>AL Player of the Week</td>\n      <td>112526</td>\n      <td>Bartolo Colon</td>\n      <td>114.0</td>\n    </tr>\n  </tbody>\n</table>\n<p>11256 rows × 7 columns</p>\n</div>",
          "text/plain": "        awardDate  awardSeason      awardId                       awardName  \\\n0      2017-12-21         2017  WARRENSPAHN              Warren Spahn Award   \n1      2017-12-20         2017    MILBORGAS  MiLB.com Organization All-Star   \n2      2017-12-20         2017    MILBORGAS  MiLB.com Organization All-Star   \n3      2017-12-20         2017    MILBORGAS  MiLB.com Organization All-Star   \n4      2017-12-20         2017    MILBORGAS  MiLB.com Organization All-Star   \n...           ...          ...          ...                             ...   \n11251  2000-08-27         2000        NLPOW           NL Player of the Week   \n11252  2000-07-09         2000      FUTURES          Futures Game Selection   \n11253  1998-09-01         1998       TLPSAS        TEX Post-Season All-Star   \n11254  1998-07-07         1998         ALAS                     AL All-Star   \n11255  1998-06-21         1998        ALPOW           AL Player of the Week   \n\n       playerId       playerName  awardPlayerTeamId  \n0        477132  Clayton Kershaw              119.0  \n1        474319   Brandon Snyder              120.0  \n2        592530  Jose Marmolejos              120.0  \n3        593833     Wander Suero              120.0  \n4        600466       Raudy Read              120.0  \n...         ...              ...                ...  \n11251    134181    Adrian Beltre              119.0  \n11252    282332      CC Sabathia              402.0  \n11253    134181    Adrian Beltre              510.0  \n11254    112526    Bartolo Colon              114.0  \n11255    112526    Bartolo Colon              114.0  \n\n[11256 rows x 7 columns]"
         },
         "metadata": {},
         "output_type": "display_data"
        }
       ]
      }
     },
     "4d08760f7db3416da5fb088e9cf9da38": {
      "model_module": "@jupyter-widgets/base",
      "model_module_version": "1.2.0",
      "model_name": "LayoutModel",
      "state": {
       "_model_module": "@jupyter-widgets/base",
       "_model_module_version": "1.2.0",
       "_model_name": "LayoutModel",
       "_view_count": null,
       "_view_module": "@jupyter-widgets/base",
       "_view_module_version": "1.2.0",
       "_view_name": "LayoutView",
       "align_content": null,
       "align_items": null,
       "align_self": null,
       "border": null,
       "bottom": null,
       "display": null,
       "flex": null,
       "flex_flow": null,
       "grid_area": null,
       "grid_auto_columns": null,
       "grid_auto_flow": null,
       "grid_auto_rows": null,
       "grid_column": null,
       "grid_gap": null,
       "grid_row": null,
       "grid_template_areas": null,
       "grid_template_columns": null,
       "grid_template_rows": null,
       "height": null,
       "justify_content": null,
       "justify_items": null,
       "left": null,
       "margin": null,
       "max_height": null,
       "max_width": null,
       "min_height": null,
       "min_width": null,
       "object_fit": null,
       "object_position": null,
       "order": null,
       "overflow": null,
       "overflow_x": null,
       "overflow_y": null,
       "padding": null,
       "right": null,
       "top": null,
       "visibility": null,
       "width": null
      }
     },
     "4f5830bad17c4cf293853da1b082be34": {
      "model_module": "@jupyter-widgets/output",
      "model_module_version": "1.0.0",
      "model_name": "OutputModel",
      "state": {
       "_dom_classes": [],
       "_model_module": "@jupyter-widgets/output",
       "_model_module_version": "1.0.0",
       "_model_name": "OutputModel",
       "_view_count": null,
       "_view_module": "@jupyter-widgets/output",
       "_view_module_version": "1.0.0",
       "_view_name": "OutputView",
       "layout": "IPY_MODEL_a99e747a58ca42b2b0a7c14b68fa99df",
       "msg_id": "",
       "outputs": [
        {
         "data": {
          "text/html": "<div>\n<style scoped>\n    .dataframe tbody tr th:only-of-type {\n        vertical-align: middle;\n    }\n\n    .dataframe tbody tr th {\n        vertical-align: top;\n    }\n\n    .dataframe thead th {\n        text-align: right;\n    }\n</style>\n<table border=\"1\" class=\"dataframe\">\n  <thead>\n    <tr style=\"text-align: right;\">\n      <th></th>\n      <th>dailyDataDate</th>\n      <th>transactionId</th>\n      <th>playerId</th>\n      <th>playerName</th>\n      <th>date</th>\n      <th>fromTeamId</th>\n      <th>fromTeamName</th>\n      <th>toTeamId</th>\n      <th>toTeamName</th>\n      <th>effectiveDate</th>\n      <th>resolutionDate</th>\n      <th>typeCode</th>\n      <th>typeDesc</th>\n      <th>description</th>\n    </tr>\n  </thead>\n  <tbody>\n    <tr>\n      <th>0</th>\n      <td>2018-01-01</td>\n      <td>340732</td>\n      <td>547348.0</td>\n      <td>C.C. Lee</td>\n      <td>2018-01-01</td>\n      <td>NaN</td>\n      <td>NaN</td>\n      <td>119</td>\n      <td>Los Angeles Dodgers</td>\n      <td>2018-01-01</td>\n      <td>2018-01-01</td>\n      <td>SFA</td>\n      <td>Signed as Free Agent</td>\n      <td>Los Angeles Dodgers signed free agent RHP C.C....</td>\n    </tr>\n    <tr>\n      <th>1</th>\n      <td>2018-01-02</td>\n      <td>339458</td>\n      <td>621173.0</td>\n      <td>Dylan Baker</td>\n      <td>2018-01-02</td>\n      <td>158.0</td>\n      <td>Milwaukee Brewers</td>\n      <td>119</td>\n      <td>Los Angeles Dodgers</td>\n      <td>2018-03-20</td>\n      <td>None</td>\n      <td>TR</td>\n      <td>Trade</td>\n      <td>Milwaukee Brewers traded RHP Dylan Baker to Lo...</td>\n    </tr>\n    <tr>\n      <th>2</th>\n      <td>2018-01-02</td>\n      <td>357292</td>\n      <td>678876.0</td>\n      <td>Angel Rojas</td>\n      <td>2018-01-02</td>\n      <td>NaN</td>\n      <td>None</td>\n      <td>147</td>\n      <td>New York Yankees</td>\n      <td>2018-01-02</td>\n      <td>2018-01-02</td>\n      <td>SFA</td>\n      <td>Signed as Free Agent</td>\n      <td>New York Yankees signed free agent SS Angel Ro...</td>\n    </tr>\n    <tr>\n      <th>3</th>\n      <td>2018-01-02</td>\n      <td>341123</td>\n      <td>607054.0</td>\n      <td>Jace Peterson</td>\n      <td>2018-01-02</td>\n      <td>NaN</td>\n      <td>None</td>\n      <td>147</td>\n      <td>New York Yankees</td>\n      <td>2018-01-02</td>\n      <td>2018-01-02</td>\n      <td>SFA</td>\n      <td>Signed as Free Agent</td>\n      <td>New York Yankees signed free agent 2B Jace Pet...</td>\n    </tr>\n    <tr>\n      <th>4</th>\n      <td>2018-01-02</td>\n      <td>339458</td>\n      <td>NaN</td>\n      <td>None</td>\n      <td>2018-01-02</td>\n      <td>119.0</td>\n      <td>Los Angeles Dodgers</td>\n      <td>158</td>\n      <td>Milwaukee Brewers</td>\n      <td>2018-01-02</td>\n      <td>None</td>\n      <td>TR</td>\n      <td>Trade</td>\n      <td>Milwaukee Brewers traded RHP Dylan Baker to Lo...</td>\n    </tr>\n    <tr>\n      <th>...</th>\n      <td>...</td>\n      <td>...</td>\n      <td>...</td>\n      <td>...</td>\n      <td>...</td>\n      <td>...</td>\n      <td>...</td>\n      <td>...</td>\n      <td>...</td>\n      <td>...</td>\n      <td>...</td>\n      <td>...</td>\n      <td>...</td>\n      <td>...</td>\n    </tr>\n    <tr>\n      <th>41025</th>\n      <td>2021-04-29</td>\n      <td>480741</td>\n      <td>545343.0</td>\n      <td>Louis Head</td>\n      <td>2021-04-29</td>\n      <td>139.0</td>\n      <td>Tampa Bay Rays</td>\n      <td>3292</td>\n      <td>Rays Alternate Training Site</td>\n      <td>2021-04-29</td>\n      <td>None</td>\n      <td>OPT</td>\n      <td>Optioned</td>\n      <td>Tampa Bay Rays optioned RHP Louis Head to Rays...</td>\n    </tr>\n    <tr>\n      <th>41026</th>\n      <td>2021-04-29</td>\n      <td>481071</td>\n      <td>656541.0</td>\n      <td>Sam Hilliard</td>\n      <td>2021-04-29</td>\n      <td>115.0</td>\n      <td>Colorado Rockies</td>\n      <td>3298</td>\n      <td>Rockies Alternate Training Site</td>\n      <td>2021-04-29</td>\n      <td>None</td>\n      <td>OPT</td>\n      <td>Optioned</td>\n      <td>Colorado Rockies optioned RF Sam Hilliard to R...</td>\n    </tr>\n    <tr>\n      <th>41027</th>\n      <td>2021-04-29</td>\n      <td>481091</td>\n      <td>667670.0</td>\n      <td>Brent Rooker</td>\n      <td>2021-04-29</td>\n      <td>142.0</td>\n      <td>Minnesota Twins</td>\n      <td>3304</td>\n      <td>Twins Alternate Training Site</td>\n      <td>2021-04-29</td>\n      <td>None</td>\n      <td>OPT</td>\n      <td>Optioned</td>\n      <td>Minnesota Twins optioned OF Brent Rooker to Tw...</td>\n    </tr>\n    <tr>\n      <th>41028</th>\n      <td>2021-04-29</td>\n      <td>481092</td>\n      <td>680777.0</td>\n      <td>Ryan Jeffers</td>\n      <td>2021-04-29</td>\n      <td>142.0</td>\n      <td>Minnesota Twins</td>\n      <td>3304</td>\n      <td>Twins Alternate Training Site</td>\n      <td>2021-04-29</td>\n      <td>None</td>\n      <td>OPT</td>\n      <td>Optioned</td>\n      <td>Minnesota Twins optioned C Ryan Jeffers to Twi...</td>\n    </tr>\n    <tr>\n      <th>41029</th>\n      <td>2021-04-29</td>\n      <td>480748</td>\n      <td>650633.0</td>\n      <td>Michael King</td>\n      <td>2021-04-29</td>\n      <td>147.0</td>\n      <td>New York Yankees</td>\n      <td>3308</td>\n      <td>Yankees Alternate Training Site</td>\n      <td>2021-04-29</td>\n      <td>None</td>\n      <td>OPT</td>\n      <td>Optioned</td>\n      <td>New York Yankees optioned RHP Michael King to ...</td>\n    </tr>\n  </tbody>\n</table>\n<p>41030 rows × 14 columns</p>\n</div>",
          "text/plain": "      dailyDataDate  transactionId  playerId     playerName       date  \\\n0        2018-01-01         340732  547348.0       C.C. Lee 2018-01-01   \n1        2018-01-02         339458  621173.0    Dylan Baker 2018-01-02   \n2        2018-01-02         357292  678876.0    Angel Rojas 2018-01-02   \n3        2018-01-02         341123  607054.0  Jace Peterson 2018-01-02   \n4        2018-01-02         339458       NaN           None 2018-01-02   \n...             ...            ...       ...            ...        ...   \n41025    2021-04-29         480741  545343.0     Louis Head 2021-04-29   \n41026    2021-04-29         481071  656541.0   Sam Hilliard 2021-04-29   \n41027    2021-04-29         481091  667670.0   Brent Rooker 2021-04-29   \n41028    2021-04-29         481092  680777.0   Ryan Jeffers 2021-04-29   \n41029    2021-04-29         480748  650633.0   Michael King 2021-04-29   \n\n       fromTeamId         fromTeamName  toTeamId  \\\n0             NaN                  NaN       119   \n1           158.0    Milwaukee Brewers       119   \n2             NaN                 None       147   \n3             NaN                 None       147   \n4           119.0  Los Angeles Dodgers       158   \n...           ...                  ...       ...   \n41025       139.0       Tampa Bay Rays      3292   \n41026       115.0     Colorado Rockies      3298   \n41027       142.0      Minnesota Twins      3304   \n41028       142.0      Minnesota Twins      3304   \n41029       147.0     New York Yankees      3308   \n\n                            toTeamName effectiveDate resolutionDate typeCode  \\\n0                  Los Angeles Dodgers    2018-01-01     2018-01-01      SFA   \n1                  Los Angeles Dodgers    2018-03-20           None       TR   \n2                     New York Yankees    2018-01-02     2018-01-02      SFA   \n3                     New York Yankees    2018-01-02     2018-01-02      SFA   \n4                    Milwaukee Brewers    2018-01-02           None       TR   \n...                                ...           ...            ...      ...   \n41025     Rays Alternate Training Site    2021-04-29           None      OPT   \n41026  Rockies Alternate Training Site    2021-04-29           None      OPT   \n41027    Twins Alternate Training Site    2021-04-29           None      OPT   \n41028    Twins Alternate Training Site    2021-04-29           None      OPT   \n41029  Yankees Alternate Training Site    2021-04-29           None      OPT   \n\n                   typeDesc                                        description  \n0      Signed as Free Agent  Los Angeles Dodgers signed free agent RHP C.C....  \n1                     Trade  Milwaukee Brewers traded RHP Dylan Baker to Lo...  \n2      Signed as Free Agent  New York Yankees signed free agent SS Angel Ro...  \n3      Signed as Free Agent  New York Yankees signed free agent 2B Jace Pet...  \n4                     Trade  Milwaukee Brewers traded RHP Dylan Baker to Lo...  \n...                     ...                                                ...  \n41025              Optioned  Tampa Bay Rays optioned RHP Louis Head to Rays...  \n41026              Optioned  Colorado Rockies optioned RF Sam Hilliard to R...  \n41027              Optioned  Minnesota Twins optioned OF Brent Rooker to Tw...  \n41028              Optioned  Minnesota Twins optioned C Ryan Jeffers to Twi...  \n41029              Optioned  New York Yankees optioned RHP Michael King to ...  \n\n[41030 rows x 14 columns]"
         },
         "metadata": {},
         "output_type": "display_data"
        }
       ]
      }
     },
     "4f71386897674d09aebee0351f37c644": {
      "model_module": "@jupyter-widgets/base",
      "model_module_version": "1.2.0",
      "model_name": "LayoutModel",
      "state": {
       "_model_module": "@jupyter-widgets/base",
       "_model_module_version": "1.2.0",
       "_model_name": "LayoutModel",
       "_view_count": null,
       "_view_module": "@jupyter-widgets/base",
       "_view_module_version": "1.2.0",
       "_view_name": "LayoutView",
       "align_content": null,
       "align_items": null,
       "align_self": null,
       "border": null,
       "bottom": null,
       "display": null,
       "flex": null,
       "flex_flow": null,
       "grid_area": null,
       "grid_auto_columns": null,
       "grid_auto_flow": null,
       "grid_auto_rows": null,
       "grid_column": null,
       "grid_gap": null,
       "grid_row": null,
       "grid_template_areas": null,
       "grid_template_columns": null,
       "grid_template_rows": null,
       "height": null,
       "justify_content": null,
       "justify_items": null,
       "left": null,
       "margin": null,
       "max_height": null,
       "max_width": null,
       "min_height": null,
       "min_width": null,
       "object_fit": null,
       "object_position": null,
       "order": null,
       "overflow": null,
       "overflow_x": null,
       "overflow_y": null,
       "padding": null,
       "right": null,
       "top": null,
       "visibility": null,
       "width": null
      }
     },
     "50e39d55aaeb4a3992838f3864ec9172": {
      "model_module": "@jupyter-widgets/base",
      "model_module_version": "1.2.0",
      "model_name": "LayoutModel",
      "state": {
       "_model_module": "@jupyter-widgets/base",
       "_model_module_version": "1.2.0",
       "_model_name": "LayoutModel",
       "_view_count": null,
       "_view_module": "@jupyter-widgets/base",
       "_view_module_version": "1.2.0",
       "_view_name": "LayoutView",
       "align_content": null,
       "align_items": null,
       "align_self": null,
       "border": null,
       "bottom": null,
       "display": null,
       "flex": null,
       "flex_flow": null,
       "grid_area": null,
       "grid_auto_columns": null,
       "grid_auto_flow": null,
       "grid_auto_rows": null,
       "grid_column": null,
       "grid_gap": null,
       "grid_row": null,
       "grid_template_areas": null,
       "grid_template_columns": null,
       "grid_template_rows": null,
       "height": null,
       "justify_content": null,
       "justify_items": null,
       "left": null,
       "margin": null,
       "max_height": null,
       "max_width": null,
       "min_height": null,
       "min_width": null,
       "object_fit": null,
       "object_position": null,
       "order": null,
       "overflow": null,
       "overflow_x": null,
       "overflow_y": null,
       "padding": null,
       "right": null,
       "top": null,
       "visibility": null,
       "width": null
      }
     },
     "5246fdfc1ffc4fbeb8046ea546c13856": {
      "model_module": "@jupyter-widgets/output",
      "model_module_version": "1.0.0",
      "model_name": "OutputModel",
      "state": {
       "_dom_classes": [],
       "_model_module": "@jupyter-widgets/output",
       "_model_module_version": "1.0.0",
       "_model_name": "OutputModel",
       "_view_count": null,
       "_view_module": "@jupyter-widgets/output",
       "_view_module_version": "1.0.0",
       "_view_name": "OutputView",
       "layout": "IPY_MODEL_0ee7a378952744f68d86cfdcb878819b",
       "msg_id": "",
       "outputs": [
        {
         "data": {
          "text/html": "<div>\n<style scoped>\n    .dataframe tbody tr th:only-of-type {\n        vertical-align: middle;\n    }\n\n    .dataframe tbody tr th {\n        vertical-align: top;\n    }\n\n    .dataframe thead th {\n        text-align: right;\n    }\n</style>\n<table border=\"1\" class=\"dataframe\">\n  <thead>\n    <tr style=\"text-align: right;\">\n      <th></th>\n      <th>seasonId</th>\n      <th>seasonStartDate</th>\n      <th>seasonEndDate</th>\n      <th>preSeasonStartDate</th>\n      <th>preSeasonEndDate</th>\n      <th>regularSeasonStartDate</th>\n      <th>regularSeasonEndDate</th>\n      <th>lastDate1stHalf</th>\n      <th>allStarDate</th>\n      <th>firstDate2ndHalf</th>\n      <th>postSeasonStartDate</th>\n      <th>postSeasonEndDate</th>\n    </tr>\n  </thead>\n  <tbody>\n    <tr>\n      <th>0</th>\n      <td>2017</td>\n      <td>2017-04-02</td>\n      <td>2017-11-01</td>\n      <td>2017-02-22</td>\n      <td>2017-04-01</td>\n      <td>2017-04-02</td>\n      <td>2017-10-01</td>\n      <td>2017-07-09</td>\n      <td>2017-07-11</td>\n      <td>2017-07-14</td>\n      <td>2017-10-03</td>\n      <td>2017-11-01</td>\n    </tr>\n    <tr>\n      <th>1</th>\n      <td>2018</td>\n      <td>2018-03-29</td>\n      <td>2018-10-28</td>\n      <td>2018-02-21</td>\n      <td>2018-03-27</td>\n      <td>2018-03-29</td>\n      <td>2018-10-01</td>\n      <td>2018-07-15</td>\n      <td>2018-07-17</td>\n      <td>2018-07-19</td>\n      <td>2018-10-02</td>\n      <td>2018-10-28</td>\n    </tr>\n    <tr>\n      <th>2</th>\n      <td>2019</td>\n      <td>2019-03-20</td>\n      <td>2019-10-30</td>\n      <td>2019-02-21</td>\n      <td>2019-03-26</td>\n      <td>2019-03-20</td>\n      <td>2019-09-29</td>\n      <td>2019-07-07</td>\n      <td>2019-07-09</td>\n      <td>2019-07-11</td>\n      <td>2019-10-01</td>\n      <td>2019-10-30</td>\n    </tr>\n    <tr>\n      <th>3</th>\n      <td>2020</td>\n      <td>2020-07-23</td>\n      <td>2020-10-28</td>\n      <td>2020-02-21</td>\n      <td>2020-07-22</td>\n      <td>2020-07-23</td>\n      <td>2020-09-27</td>\n      <td>2020-08-25</td>\n      <td>NaN</td>\n      <td>2020-08-26</td>\n      <td>2020-09-29</td>\n      <td>2020-10-28</td>\n    </tr>\n    <tr>\n      <th>4</th>\n      <td>2021</td>\n      <td>2021-02-28</td>\n      <td>2021-10-31</td>\n      <td>2021-02-28</td>\n      <td>2021-03-30</td>\n      <td>2021-04-01</td>\n      <td>2021-10-03</td>\n      <td>2021-07-11</td>\n      <td>2021-07-13</td>\n      <td>2021-07-15</td>\n      <td>2021-10-04</td>\n      <td>2021-10-31</td>\n    </tr>\n  </tbody>\n</table>\n</div>",
          "text/plain": "   seasonId seasonStartDate seasonEndDate preSeasonStartDate preSeasonEndDate  \\\n0      2017      2017-04-02    2017-11-01         2017-02-22       2017-04-01   \n1      2018      2018-03-29    2018-10-28         2018-02-21       2018-03-27   \n2      2019      2019-03-20    2019-10-30         2019-02-21       2019-03-26   \n3      2020      2020-07-23    2020-10-28         2020-02-21       2020-07-22   \n4      2021      2021-02-28    2021-10-31         2021-02-28       2021-03-30   \n\n  regularSeasonStartDate regularSeasonEndDate lastDate1stHalf allStarDate  \\\n0             2017-04-02           2017-10-01      2017-07-09  2017-07-11   \n1             2018-03-29           2018-10-01      2018-07-15  2018-07-17   \n2             2019-03-20           2019-09-29      2019-07-07  2019-07-09   \n3             2020-07-23           2020-09-27      2020-08-25         NaN   \n4             2021-04-01           2021-10-03      2021-07-11  2021-07-13   \n\n  firstDate2ndHalf postSeasonStartDate postSeasonEndDate  \n0       2017-07-14          2017-10-03        2017-11-01  \n1       2018-07-19          2018-10-02        2018-10-28  \n2       2019-07-11          2019-10-01        2019-10-30  \n3       2020-08-26          2020-09-29        2020-10-28  \n4       2021-07-15          2021-10-04        2021-10-31  "
         },
         "metadata": {},
         "output_type": "display_data"
        }
       ]
      }
     },
     "5ccf3b5d2b22410fbeff8504c947dbab": {
      "model_module": "@jupyter-widgets/base",
      "model_module_version": "1.2.0",
      "model_name": "LayoutModel",
      "state": {
       "_model_module": "@jupyter-widgets/base",
       "_model_module_version": "1.2.0",
       "_model_name": "LayoutModel",
       "_view_count": null,
       "_view_module": "@jupyter-widgets/base",
       "_view_module_version": "1.2.0",
       "_view_name": "LayoutView",
       "align_content": null,
       "align_items": null,
       "align_self": null,
       "border": null,
       "bottom": null,
       "display": null,
       "flex": null,
       "flex_flow": null,
       "grid_area": null,
       "grid_auto_columns": null,
       "grid_auto_flow": null,
       "grid_auto_rows": null,
       "grid_column": null,
       "grid_gap": null,
       "grid_row": null,
       "grid_template_areas": null,
       "grid_template_columns": null,
       "grid_template_rows": null,
       "height": null,
       "justify_content": null,
       "justify_items": null,
       "left": null,
       "margin": null,
       "max_height": null,
       "max_width": null,
       "min_height": null,
       "min_width": null,
       "object_fit": null,
       "object_position": null,
       "order": null,
       "overflow": null,
       "overflow_x": null,
       "overflow_y": null,
       "padding": null,
       "right": null,
       "top": null,
       "visibility": null,
       "width": null
      }
     },
     "64bb3367e2974a11856defb4d77cef63": {
      "model_module": "@jupyter-widgets/output",
      "model_module_version": "1.0.0",
      "model_name": "OutputModel",
      "state": {
       "_dom_classes": [],
       "_model_module": "@jupyter-widgets/output",
       "_model_module_version": "1.0.0",
       "_model_name": "OutputModel",
       "_view_count": null,
       "_view_module": "@jupyter-widgets/output",
       "_view_module_version": "1.0.0",
       "_view_name": "OutputView",
       "layout": "IPY_MODEL_c24ab8a4911846098bfdb53fdda3a88d",
       "msg_id": "",
       "outputs": [
        {
         "data": {
          "text/html": "<div>\n<style scoped>\n    .dataframe tbody tr th:only-of-type {\n        vertical-align: middle;\n    }\n\n    .dataframe tbody tr th {\n        vertical-align: top;\n    }\n\n    .dataframe thead th {\n        text-align: right;\n    }\n</style>\n<table border=\"1\" class=\"dataframe\">\n  <thead>\n    <tr style=\"text-align: right;\">\n      <th></th>\n      <th>playerId</th>\n      <th>playerName</th>\n      <th>DOB</th>\n      <th>mlbDebutDate</th>\n      <th>birthCity</th>\n      <th>birthStateProvince</th>\n      <th>birthCountry</th>\n      <th>heightInches</th>\n      <th>weight</th>\n      <th>primaryPositionCode</th>\n      <th>primaryPositionName</th>\n      <th>playerForTestSetAndFuturePreds</th>\n    </tr>\n  </thead>\n  <tbody>\n    <tr>\n      <th>0</th>\n      <td>665482</td>\n      <td>Gilberto Celestino</td>\n      <td>1999-02-13</td>\n      <td>2021-06-02</td>\n      <td>Santo Domingo</td>\n      <td>NaN</td>\n      <td>Dominican Republic</td>\n      <td>72</td>\n      <td>170</td>\n      <td>8</td>\n      <td>Outfielder</td>\n      <td>False</td>\n    </tr>\n    <tr>\n      <th>1</th>\n      <td>593590</td>\n      <td>Webster Rivas</td>\n      <td>1990-08-08</td>\n      <td>2021-05-28</td>\n      <td>Nagua</td>\n      <td>NaN</td>\n      <td>Dominican Republic</td>\n      <td>73</td>\n      <td>219</td>\n      <td>3</td>\n      <td>First Base</td>\n      <td>True</td>\n    </tr>\n    <tr>\n      <th>2</th>\n      <td>661269</td>\n      <td>Vladimir Gutierrez</td>\n      <td>1995-09-18</td>\n      <td>2021-05-28</td>\n      <td>Havana</td>\n      <td>NaN</td>\n      <td>Cuba</td>\n      <td>73</td>\n      <td>190</td>\n      <td>1</td>\n      <td>Pitcher</td>\n      <td>True</td>\n    </tr>\n    <tr>\n      <th>3</th>\n      <td>669212</td>\n      <td>Eli Morgan</td>\n      <td>1996-05-13</td>\n      <td>2021-05-28</td>\n      <td>Rancho Palos Verdes</td>\n      <td>CA</td>\n      <td>USA</td>\n      <td>70</td>\n      <td>190</td>\n      <td>1</td>\n      <td>Pitcher</td>\n      <td>True</td>\n    </tr>\n    <tr>\n      <th>4</th>\n      <td>666201</td>\n      <td>Alek Manoah</td>\n      <td>1998-01-09</td>\n      <td>2021-05-27</td>\n      <td>Homestead</td>\n      <td>FL</td>\n      <td>USA</td>\n      <td>78</td>\n      <td>260</td>\n      <td>1</td>\n      <td>Pitcher</td>\n      <td>True</td>\n    </tr>\n    <tr>\n      <th>...</th>\n      <td>...</td>\n      <td>...</td>\n      <td>...</td>\n      <td>...</td>\n      <td>...</td>\n      <td>...</td>\n      <td>...</td>\n      <td>...</td>\n      <td>...</td>\n      <td>...</td>\n      <td>...</td>\n      <td>...</td>\n    </tr>\n    <tr>\n      <th>2056</th>\n      <td>672695</td>\n      <td>Geraldo Perdomo</td>\n      <td>1999-10-22</td>\n      <td>NaN</td>\n      <td>Santo Domingo</td>\n      <td>NaN</td>\n      <td>Dominican Republic</td>\n      <td>74</td>\n      <td>203</td>\n      <td>6</td>\n      <td>Shortstop</td>\n      <td>True</td>\n    </tr>\n    <tr>\n      <th>2057</th>\n      <td>672911</td>\n      <td>Jesus Cruz</td>\n      <td>1995-04-15</td>\n      <td>NaN</td>\n      <td>Salinas de Hidalgo</td>\n      <td>San Luis Potosi</td>\n      <td>Mexico</td>\n      <td>73</td>\n      <td>230</td>\n      <td>1</td>\n      <td>Pitcher</td>\n      <td>False</td>\n    </tr>\n    <tr>\n      <th>2058</th>\n      <td>676103</td>\n      <td>Damon Jones</td>\n      <td>1994-09-30</td>\n      <td>NaN</td>\n      <td>Twin Falls</td>\n      <td>ID</td>\n      <td>USA</td>\n      <td>77</td>\n      <td>233</td>\n      <td>1</td>\n      <td>Pitcher</td>\n      <td>True</td>\n    </tr>\n    <tr>\n      <th>2059</th>\n      <td>676755</td>\n      <td>Isaac Mattson</td>\n      <td>1995-07-14</td>\n      <td>NaN</td>\n      <td>Erie</td>\n      <td>PA</td>\n      <td>USA</td>\n      <td>74</td>\n      <td>205</td>\n      <td>1</td>\n      <td>Pitcher</td>\n      <td>True</td>\n    </tr>\n    <tr>\n      <th>2060</th>\n      <td>680430</td>\n      <td>Nick Allgeyer</td>\n      <td>1996-02-03</td>\n      <td>NaN</td>\n      <td>St. Louis</td>\n      <td>MO</td>\n      <td>USA</td>\n      <td>75</td>\n      <td>210</td>\n      <td>1</td>\n      <td>Pitcher</td>\n      <td>True</td>\n    </tr>\n  </tbody>\n</table>\n<p>2061 rows × 12 columns</p>\n</div>",
          "text/plain": "      playerId          playerName         DOB mlbDebutDate  \\\n0       665482  Gilberto Celestino  1999-02-13   2021-06-02   \n1       593590       Webster Rivas  1990-08-08   2021-05-28   \n2       661269  Vladimir Gutierrez  1995-09-18   2021-05-28   \n3       669212          Eli Morgan  1996-05-13   2021-05-28   \n4       666201         Alek Manoah  1998-01-09   2021-05-27   \n...        ...                 ...         ...          ...   \n2056    672695     Geraldo Perdomo  1999-10-22          NaN   \n2057    672911          Jesus Cruz  1995-04-15          NaN   \n2058    676103         Damon Jones  1994-09-30          NaN   \n2059    676755       Isaac Mattson  1995-07-14          NaN   \n2060    680430       Nick Allgeyer  1996-02-03          NaN   \n\n                birthCity birthStateProvince        birthCountry  \\\n0           Santo Domingo                NaN  Dominican Republic   \n1                   Nagua                NaN  Dominican Republic   \n2                  Havana                NaN                Cuba   \n3     Rancho Palos Verdes                 CA                 USA   \n4               Homestead                 FL                 USA   \n...                   ...                ...                 ...   \n2056        Santo Domingo                NaN  Dominican Republic   \n2057   Salinas de Hidalgo    San Luis Potosi              Mexico   \n2058           Twin Falls                 ID                 USA   \n2059                 Erie                 PA                 USA   \n2060            St. Louis                 MO                 USA   \n\n      heightInches  weight primaryPositionCode primaryPositionName  \\\n0               72     170                   8          Outfielder   \n1               73     219                   3          First Base   \n2               73     190                   1             Pitcher   \n3               70     190                   1             Pitcher   \n4               78     260                   1             Pitcher   \n...            ...     ...                 ...                 ...   \n2056            74     203                   6           Shortstop   \n2057            73     230                   1             Pitcher   \n2058            77     233                   1             Pitcher   \n2059            74     205                   1             Pitcher   \n2060            75     210                   1             Pitcher   \n\n     playerForTestSetAndFuturePreds  \n0                             False  \n1                              True  \n2                              True  \n3                              True  \n4                              True  \n...                             ...  \n2056                           True  \n2057                          False  \n2058                           True  \n2059                           True  \n2060                           True  \n\n[2061 rows x 12 columns]"
         },
         "metadata": {},
         "output_type": "display_data"
        }
       ]
      }
     },
     "6e9858a2338f4adb9c0ca7b8c8599ea1": {
      "model_module": "@jupyter-widgets/output",
      "model_module_version": "1.0.0",
      "model_name": "OutputModel",
      "state": {
       "_dom_classes": [],
       "_model_module": "@jupyter-widgets/output",
       "_model_module_version": "1.0.0",
       "_model_name": "OutputModel",
       "_view_count": null,
       "_view_module": "@jupyter-widgets/output",
       "_view_module_version": "1.0.0",
       "_view_name": "OutputView",
       "layout": "IPY_MODEL_93466c00e64e494a8ed18447a85e1319",
       "msg_id": "",
       "outputs": [
        {
         "data": {
          "text/html": "<div>\n<style scoped>\n    .dataframe tbody tr th:only-of-type {\n        vertical-align: middle;\n    }\n\n    .dataframe tbody tr th {\n        vertical-align: top;\n    }\n\n    .dataframe thead th {\n        text-align: right;\n    }\n</style>\n<table border=\"1\" class=\"dataframe\">\n  <thead>\n    <tr style=\"text-align: right;\">\n      <th></th>\n      <th>dailyDataDate</th>\n      <th>gamePk</th>\n      <th>gameType</th>\n      <th>season</th>\n      <th>gameDate</th>\n      <th>gameTimeUTC</th>\n      <th>resumeDate</th>\n      <th>resumedFrom</th>\n      <th>codedGameState</th>\n      <th>detailedGameState</th>\n      <th>...</th>\n      <th>homeWinner</th>\n      <th>homeScore</th>\n      <th>awayId</th>\n      <th>awayName</th>\n      <th>awayAbbrev</th>\n      <th>awayWins</th>\n      <th>awayLosses</th>\n      <th>awayWinPct</th>\n      <th>awayWinner</th>\n      <th>awayScore</th>\n    </tr>\n  </thead>\n  <tbody>\n    <tr>\n      <th>0</th>\n      <td>2018-02-21</td>\n      <td>533782</td>\n      <td>E</td>\n      <td>2018</td>\n      <td>2018-02-21</td>\n      <td>2018-02-21T20:10:00Z</td>\n      <td>NaN</td>\n      <td>NaN</td>\n      <td>F</td>\n      <td>Final</td>\n      <td>...</td>\n      <td>True</td>\n      <td>7.0</td>\n      <td>5035</td>\n      <td>Arizona State Sun Devils</td>\n      <td>ASU</td>\n      <td>0.0</td>\n      <td>1.0</td>\n      <td>0.000</td>\n      <td>False</td>\n      <td>2.0</td>\n    </tr>\n    <tr>\n      <th>1</th>\n      <td>2018-02-22</td>\n      <td>534461</td>\n      <td>E</td>\n      <td>2018</td>\n      <td>2018-02-22</td>\n      <td>2018-02-22T18:05:00Z</td>\n      <td>NaN</td>\n      <td>NaN</td>\n      <td>F</td>\n      <td>Final</td>\n      <td>...</td>\n      <td>True</td>\n      <td>6.0</td>\n      <td>228</td>\n      <td>Florida Southern College Mocs</td>\n      <td>FSC</td>\n      <td>0.0</td>\n      <td>1.0</td>\n      <td>0.000</td>\n      <td>False</td>\n      <td>1.0</td>\n    </tr>\n    <tr>\n      <th>2</th>\n      <td>2018-02-22</td>\n      <td>545334</td>\n      <td>E</td>\n      <td>2018</td>\n      <td>2018-02-22</td>\n      <td>2018-02-22T18:05:00Z</td>\n      <td>NaN</td>\n      <td>NaN</td>\n      <td>F</td>\n      <td>Final</td>\n      <td>...</td>\n      <td>True</td>\n      <td>6.0</td>\n      <td>231</td>\n      <td>University of Tampa Spartans</td>\n      <td>UT</td>\n      <td>0.0</td>\n      <td>1.0</td>\n      <td>0.000</td>\n      <td>False</td>\n      <td>0.0</td>\n    </tr>\n    <tr>\n      <th>3</th>\n      <td>2018-02-22</td>\n      <td>547295</td>\n      <td>E</td>\n      <td>2018</td>\n      <td>2018-02-22</td>\n      <td>2018-02-22T03:33:00Z</td>\n      <td>NaN</td>\n      <td>NaN</td>\n      <td>F</td>\n      <td>Final</td>\n      <td>...</td>\n      <td>True</td>\n      <td>4.0</td>\n      <td>227</td>\n      <td>Boston College Eagles</td>\n      <td>BC</td>\n      <td>0.0</td>\n      <td>1.0</td>\n      <td>0.000</td>\n      <td>False</td>\n      <td>2.0</td>\n    </tr>\n    <tr>\n      <th>4</th>\n      <td>2018-02-22</td>\n      <td>533784</td>\n      <td>E</td>\n      <td>2018</td>\n      <td>2018-02-22</td>\n      <td>2018-02-22T23:05:00Z</td>\n      <td>NaN</td>\n      <td>NaN</td>\n      <td>F</td>\n      <td>Final</td>\n      <td>...</td>\n      <td>True</td>\n      <td>2.0</td>\n      <td>4864</td>\n      <td>Minnesota Gophers</td>\n      <td>UM</td>\n      <td>0.0</td>\n      <td>1.0</td>\n      <td>0.000</td>\n      <td>False</td>\n      <td>1.0</td>\n    </tr>\n    <tr>\n      <th>...</th>\n      <td>...</td>\n      <td>...</td>\n      <td>...</td>\n      <td>...</td>\n      <td>...</td>\n      <td>...</td>\n      <td>...</td>\n      <td>...</td>\n      <td>...</td>\n      <td>...</td>\n      <td>...</td>\n      <td>...</td>\n      <td>...</td>\n      <td>...</td>\n      <td>...</td>\n      <td>...</td>\n      <td>...</td>\n      <td>...</td>\n      <td>...</td>\n      <td>...</td>\n      <td>...</td>\n    </tr>\n    <tr>\n      <th>7855</th>\n      <td>2021-04-30</td>\n      <td>634275</td>\n      <td>R</td>\n      <td>2021</td>\n      <td>2021-04-30</td>\n      <td>2021-04-30T23:10:00Z</td>\n      <td>NaN</td>\n      <td>NaN</td>\n      <td>F</td>\n      <td>Final</td>\n      <td>...</td>\n      <td>False</td>\n      <td>2.0</td>\n      <td>117</td>\n      <td>Houston Astros</td>\n      <td>HOU</td>\n      <td>14.0</td>\n      <td>12.0</td>\n      <td>0.538</td>\n      <td>True</td>\n      <td>9.0</td>\n    </tr>\n    <tr>\n      <th>7856</th>\n      <td>2021-04-30</td>\n      <td>634391</td>\n      <td>R</td>\n      <td>2021</td>\n      <td>2021-04-30</td>\n      <td>2021-05-01T00:10:00Z</td>\n      <td>NaN</td>\n      <td>NaN</td>\n      <td>F</td>\n      <td>Final</td>\n      <td>...</td>\n      <td>True</td>\n      <td>9.0</td>\n      <td>118</td>\n      <td>Kansas City Royals</td>\n      <td>KC</td>\n      <td>15.0</td>\n      <td>9.0</td>\n      <td>0.625</td>\n      <td>False</td>\n      <td>1.0</td>\n    </tr>\n    <tr>\n      <th>7857</th>\n      <td>2021-04-30</td>\n      <td>634305</td>\n      <td>R</td>\n      <td>2021</td>\n      <td>2021-04-30</td>\n      <td>2021-04-30T23:10:00Z</td>\n      <td>NaN</td>\n      <td>NaN</td>\n      <td>F</td>\n      <td>Final</td>\n      <td>...</td>\n      <td>True</td>\n      <td>8.0</td>\n      <td>112</td>\n      <td>Chicago Cubs</td>\n      <td>CHC</td>\n      <td>11.0</td>\n      <td>15.0</td>\n      <td>0.423</td>\n      <td>False</td>\n      <td>6.0</td>\n    </tr>\n    <tr>\n      <th>7858</th>\n      <td>2021-04-30</td>\n      <td>634280</td>\n      <td>R</td>\n      <td>2021</td>\n      <td>2021-04-30</td>\n      <td>2021-04-30T23:37:00Z</td>\n      <td>NaN</td>\n      <td>NaN</td>\n      <td>F</td>\n      <td>Final</td>\n      <td>...</td>\n      <td>True</td>\n      <td>13.0</td>\n      <td>144</td>\n      <td>Atlanta Braves</td>\n      <td>ATL</td>\n      <td>12.0</td>\n      <td>14.0</td>\n      <td>0.462</td>\n      <td>False</td>\n      <td>5.0</td>\n    </tr>\n    <tr>\n      <th>7859</th>\n      <td>2021-04-30</td>\n      <td>634325</td>\n      <td>R</td>\n      <td>2021</td>\n      <td>2021-04-30</td>\n      <td>2021-04-30T22:35:00Z</td>\n      <td>NaN</td>\n      <td>NaN</td>\n      <td>F</td>\n      <td>Final</td>\n      <td>...</td>\n      <td>False</td>\n      <td>3.0</td>\n      <td>138</td>\n      <td>St. Louis Cardinals</td>\n      <td>STL</td>\n      <td>14.0</td>\n      <td>12.0</td>\n      <td>0.538</td>\n      <td>True</td>\n      <td>7.0</td>\n    </tr>\n  </tbody>\n</table>\n<p>7860 rows × 33 columns</p>\n</div>",
          "text/plain": "     dailyDataDate  gamePk gameType  season    gameDate           gameTimeUTC  \\\n0       2018-02-21  533782        E    2018  2018-02-21  2018-02-21T20:10:00Z   \n1       2018-02-22  534461        E    2018  2018-02-22  2018-02-22T18:05:00Z   \n2       2018-02-22  545334        E    2018  2018-02-22  2018-02-22T18:05:00Z   \n3       2018-02-22  547295        E    2018  2018-02-22  2018-02-22T03:33:00Z   \n4       2018-02-22  533784        E    2018  2018-02-22  2018-02-22T23:05:00Z   \n...            ...     ...      ...     ...         ...                   ...   \n7855    2021-04-30  634275        R    2021  2021-04-30  2021-04-30T23:10:00Z   \n7856    2021-04-30  634391        R    2021  2021-04-30  2021-05-01T00:10:00Z   \n7857    2021-04-30  634305        R    2021  2021-04-30  2021-04-30T23:10:00Z   \n7858    2021-04-30  634280        R    2021  2021-04-30  2021-04-30T23:37:00Z   \n7859    2021-04-30  634325        R    2021  2021-04-30  2021-04-30T22:35:00Z   \n\n     resumeDate resumedFrom codedGameState detailedGameState  ...  homeWinner  \\\n0           NaN         NaN              F             Final  ...        True   \n1           NaN         NaN              F             Final  ...        True   \n2           NaN         NaN              F             Final  ...        True   \n3           NaN         NaN              F             Final  ...        True   \n4           NaN         NaN              F             Final  ...        True   \n...         ...         ...            ...               ...  ...         ...   \n7855        NaN         NaN              F             Final  ...       False   \n7856        NaN         NaN              F             Final  ...        True   \n7857        NaN         NaN              F             Final  ...        True   \n7858        NaN         NaN              F             Final  ...        True   \n7859        NaN         NaN              F             Final  ...       False   \n\n      homeScore awayId                       awayName  awayAbbrev  awayWins  \\\n0           7.0   5035       Arizona State Sun Devils         ASU       0.0   \n1           6.0    228  Florida Southern College Mocs         FSC       0.0   \n2           6.0    231   University of Tampa Spartans          UT       0.0   \n3           4.0    227          Boston College Eagles          BC       0.0   \n4           2.0   4864              Minnesota Gophers          UM       0.0   \n...         ...    ...                            ...         ...       ...   \n7855        2.0    117                 Houston Astros         HOU      14.0   \n7856        9.0    118             Kansas City Royals          KC      15.0   \n7857        8.0    112                   Chicago Cubs         CHC      11.0   \n7858       13.0    144                 Atlanta Braves         ATL      12.0   \n7859        3.0    138            St. Louis Cardinals         STL      14.0   \n\n     awayLosses  awayWinPct awayWinner awayScore  \n0           1.0       0.000      False       2.0  \n1           1.0       0.000      False       1.0  \n2           1.0       0.000      False       0.0  \n3           1.0       0.000      False       2.0  \n4           1.0       0.000      False       1.0  \n...         ...         ...        ...       ...  \n7855       12.0       0.538       True       9.0  \n7856        9.0       0.625      False       1.0  \n7857       15.0       0.423      False       6.0  \n7858       14.0       0.462      False       5.0  \n7859       12.0       0.538       True       7.0  \n\n[7860 rows x 33 columns]"
         },
         "metadata": {},
         "output_type": "display_data"
        }
       ]
      }
     },
     "7335144eee7b4ebebec2223c0ac3259d": {
      "model_module": "@jupyter-widgets/base",
      "model_module_version": "1.2.0",
      "model_name": "LayoutModel",
      "state": {
       "_model_module": "@jupyter-widgets/base",
       "_model_module_version": "1.2.0",
       "_model_name": "LayoutModel",
       "_view_count": null,
       "_view_module": "@jupyter-widgets/base",
       "_view_module_version": "1.2.0",
       "_view_name": "LayoutView",
       "align_content": null,
       "align_items": null,
       "align_self": null,
       "border": null,
       "bottom": null,
       "display": null,
       "flex": null,
       "flex_flow": null,
       "grid_area": null,
       "grid_auto_columns": null,
       "grid_auto_flow": null,
       "grid_auto_rows": null,
       "grid_column": null,
       "grid_gap": null,
       "grid_row": null,
       "grid_template_areas": null,
       "grid_template_columns": null,
       "grid_template_rows": null,
       "height": null,
       "justify_content": null,
       "justify_items": null,
       "left": null,
       "margin": null,
       "max_height": null,
       "max_width": null,
       "min_height": null,
       "min_width": null,
       "object_fit": null,
       "object_position": null,
       "order": null,
       "overflow": null,
       "overflow_x": null,
       "overflow_y": null,
       "padding": null,
       "right": null,
       "top": null,
       "visibility": null,
       "width": null
      }
     },
     "874a57432d804bdda6b2507cdc937f87": {
      "model_module": "@jupyter-widgets/output",
      "model_module_version": "1.0.0",
      "model_name": "OutputModel",
      "state": {
       "_dom_classes": [],
       "_model_module": "@jupyter-widgets/output",
       "_model_module_version": "1.0.0",
       "_model_name": "OutputModel",
       "_view_count": null,
       "_view_module": "@jupyter-widgets/output",
       "_view_module_version": "1.0.0",
       "_view_name": "OutputView",
       "layout": "IPY_MODEL_a045dd12e7dd4d449fcf2e3e6f2ae38f",
       "msg_id": "",
       "outputs": [
        {
         "data": {
          "text/html": "<div>\n<style scoped>\n    .dataframe tbody tr th:only-of-type {\n        vertical-align: middle;\n    }\n\n    .dataframe tbody tr th {\n        vertical-align: top;\n    }\n\n    .dataframe thead th {\n        text-align: right;\n    }\n</style>\n<table border=\"1\" class=\"dataframe\">\n  <thead>\n    <tr style=\"text-align: right;\">\n      <th></th>\n      <th>dailyDataDate</th>\n      <th>date</th>\n      <th>teamId</th>\n      <th>teamName</th>\n      <th>accountName</th>\n      <th>twitterHandle</th>\n      <th>numberOfFollowers</th>\n    </tr>\n  </thead>\n  <tbody>\n    <tr>\n      <th>0</th>\n      <td>2018-01-01</td>\n      <td>2018-01-01</td>\n      <td>147</td>\n      <td>New York Yankees</td>\n      <td>New York Yankees</td>\n      <td>@Yankees</td>\n      <td>3130482</td>\n    </tr>\n    <tr>\n      <th>1</th>\n      <td>2018-01-01</td>\n      <td>2018-01-01</td>\n      <td>112</td>\n      <td>Chicago Cubs</td>\n      <td>Chicago Cubs</td>\n      <td>@Cubs</td>\n      <td>2373710</td>\n    </tr>\n    <tr>\n      <th>2</th>\n      <td>2018-01-01</td>\n      <td>2018-01-01</td>\n      <td>141</td>\n      <td>Toronto Blue Jays</td>\n      <td>Toronto Blue Jays</td>\n      <td>@BlueJays</td>\n      <td>2196352</td>\n    </tr>\n    <tr>\n      <th>3</th>\n      <td>2018-01-01</td>\n      <td>2018-01-01</td>\n      <td>111</td>\n      <td>Boston Red Sox</td>\n      <td>Boston Red Sox</td>\n      <td>@RedSox</td>\n      <td>1950737</td>\n    </tr>\n    <tr>\n      <th>4</th>\n      <td>2018-01-01</td>\n      <td>2018-01-01</td>\n      <td>119</td>\n      <td>Los Angeles Dodgers</td>\n      <td>Los Angeles Dodgers</td>\n      <td>@Dodgers</td>\n      <td>1949542</td>\n    </tr>\n    <tr>\n      <th>...</th>\n      <td>...</td>\n      <td>...</td>\n      <td>...</td>\n      <td>...</td>\n      <td>...</td>\n      <td>...</td>\n      <td>...</td>\n    </tr>\n    <tr>\n      <th>1195</th>\n      <td>2021-04-01</td>\n      <td>2021-04-01</td>\n      <td>115</td>\n      <td>Colorado Rockies</td>\n      <td>Colorado Rockies</td>\n      <td>@Rockies</td>\n      <td>585102</td>\n    </tr>\n    <tr>\n      <th>1196</th>\n      <td>2021-04-01</td>\n      <td>2021-04-01</td>\n      <td>133</td>\n      <td>Oakland Athletics</td>\n      <td>Oakland Athletics</td>\n      <td>@Athletics</td>\n      <td>572565</td>\n    </tr>\n    <tr>\n      <th>1197</th>\n      <td>2021-04-01</td>\n      <td>2021-04-01</td>\n      <td>136</td>\n      <td>Seattle Mariners</td>\n      <td>Seattle Mariners</td>\n      <td>@Mariners</td>\n      <td>571143</td>\n    </tr>\n    <tr>\n      <th>1198</th>\n      <td>2021-04-01</td>\n      <td>2021-04-01</td>\n      <td>135</td>\n      <td>San Diego Padres</td>\n      <td>San Diego Padres</td>\n      <td>@Padres</td>\n      <td>466044</td>\n    </tr>\n    <tr>\n      <th>1199</th>\n      <td>2021-04-01</td>\n      <td>2021-04-01</td>\n      <td>146</td>\n      <td>Miami Marlins</td>\n      <td>Miami Marlins</td>\n      <td>@Marlins</td>\n      <td>365089</td>\n    </tr>\n  </tbody>\n</table>\n<p>1200 rows × 7 columns</p>\n</div>",
          "text/plain": "     dailyDataDate       date  teamId             teamName  \\\n0       2018-01-01 2018-01-01     147     New York Yankees   \n1       2018-01-01 2018-01-01     112         Chicago Cubs   \n2       2018-01-01 2018-01-01     141    Toronto Blue Jays   \n3       2018-01-01 2018-01-01     111       Boston Red Sox   \n4       2018-01-01 2018-01-01     119  Los Angeles Dodgers   \n...            ...        ...     ...                  ...   \n1195    2021-04-01 2021-04-01     115     Colorado Rockies   \n1196    2021-04-01 2021-04-01     133    Oakland Athletics   \n1197    2021-04-01 2021-04-01     136     Seattle Mariners   \n1198    2021-04-01 2021-04-01     135     San Diego Padres   \n1199    2021-04-01 2021-04-01     146        Miami Marlins   \n\n              accountName twitterHandle  numberOfFollowers  \n0        New York Yankees      @Yankees            3130482  \n1            Chicago Cubs         @Cubs            2373710  \n2       Toronto Blue Jays     @BlueJays            2196352  \n3          Boston Red Sox       @RedSox            1950737  \n4     Los Angeles Dodgers      @Dodgers            1949542  \n...                   ...           ...                ...  \n1195     Colorado Rockies      @Rockies             585102  \n1196    Oakland Athletics    @Athletics             572565  \n1197     Seattle Mariners     @Mariners             571143  \n1198     San Diego Padres       @Padres             466044  \n1199        Miami Marlins      @Marlins             365089  \n\n[1200 rows x 7 columns]"
         },
         "metadata": {},
         "output_type": "display_data"
        }
       ]
      }
     },
     "899bb11a6089453d9c45b2bb1fd52c18": {
      "model_module": "@jupyter-widgets/base",
      "model_module_version": "1.2.0",
      "model_name": "LayoutModel",
      "state": {
       "_model_module": "@jupyter-widgets/base",
       "_model_module_version": "1.2.0",
       "_model_name": "LayoutModel",
       "_view_count": null,
       "_view_module": "@jupyter-widgets/base",
       "_view_module_version": "1.2.0",
       "_view_name": "LayoutView",
       "align_content": null,
       "align_items": null,
       "align_self": null,
       "border": null,
       "bottom": null,
       "display": null,
       "flex": null,
       "flex_flow": null,
       "grid_area": null,
       "grid_auto_columns": null,
       "grid_auto_flow": null,
       "grid_auto_rows": null,
       "grid_column": null,
       "grid_gap": null,
       "grid_row": null,
       "grid_template_areas": null,
       "grid_template_columns": null,
       "grid_template_rows": null,
       "height": null,
       "justify_content": null,
       "justify_items": null,
       "left": null,
       "margin": null,
       "max_height": null,
       "max_width": null,
       "min_height": null,
       "min_width": null,
       "object_fit": null,
       "object_position": null,
       "order": null,
       "overflow": null,
       "overflow_x": null,
       "overflow_y": null,
       "padding": null,
       "right": null,
       "top": null,
       "visibility": null,
       "width": null
      }
     },
     "93466c00e64e494a8ed18447a85e1319": {
      "model_module": "@jupyter-widgets/base",
      "model_module_version": "1.2.0",
      "model_name": "LayoutModel",
      "state": {
       "_model_module": "@jupyter-widgets/base",
       "_model_module_version": "1.2.0",
       "_model_name": "LayoutModel",
       "_view_count": null,
       "_view_module": "@jupyter-widgets/base",
       "_view_module_version": "1.2.0",
       "_view_name": "LayoutView",
       "align_content": null,
       "align_items": null,
       "align_self": null,
       "border": null,
       "bottom": null,
       "display": null,
       "flex": null,
       "flex_flow": null,
       "grid_area": null,
       "grid_auto_columns": null,
       "grid_auto_flow": null,
       "grid_auto_rows": null,
       "grid_column": null,
       "grid_gap": null,
       "grid_row": null,
       "grid_template_areas": null,
       "grid_template_columns": null,
       "grid_template_rows": null,
       "height": null,
       "justify_content": null,
       "justify_items": null,
       "left": null,
       "margin": null,
       "max_height": null,
       "max_width": null,
       "min_height": null,
       "min_width": null,
       "object_fit": null,
       "object_position": null,
       "order": null,
       "overflow": null,
       "overflow_x": null,
       "overflow_y": null,
       "padding": null,
       "right": null,
       "top": null,
       "visibility": null,
       "width": null
      }
     },
     "9c0dbfc50dbc488f9f612e6f95d8bd26": {
      "model_module": "@jupyter-widgets/controls",
      "model_module_version": "1.5.0",
      "model_name": "TabModel",
      "state": {
       "_dom_classes": [],
       "_model_module": "@jupyter-widgets/controls",
       "_model_module_version": "1.5.0",
       "_model_name": "TabModel",
       "_titles": {
        "0": "seasons",
        "1": "teams",
        "2": "players",
        "3": "awards_pre2018"
       },
       "_view_count": null,
       "_view_module": "@jupyter-widgets/controls",
       "_view_module_version": "1.5.0",
       "_view_name": "TabView",
       "box_style": "",
       "children": [
        "IPY_MODEL_5246fdfc1ffc4fbeb8046ea546c13856",
        "IPY_MODEL_a7fe718c33604c579584e424d3461d03",
        "IPY_MODEL_64bb3367e2974a11856defb4d77cef63",
        "IPY_MODEL_4be1d98ae46a4b7bafb39e237e6d88ec"
       ],
       "layout": "IPY_MODEL_4f71386897674d09aebee0351f37c644",
       "selected_index": 0
      }
     },
     "a045dd12e7dd4d449fcf2e3e6f2ae38f": {
      "model_module": "@jupyter-widgets/base",
      "model_module_version": "1.2.0",
      "model_name": "LayoutModel",
      "state": {
       "_model_module": "@jupyter-widgets/base",
       "_model_module_version": "1.2.0",
       "_model_name": "LayoutModel",
       "_view_count": null,
       "_view_module": "@jupyter-widgets/base",
       "_view_module_version": "1.2.0",
       "_view_name": "LayoutView",
       "align_content": null,
       "align_items": null,
       "align_self": null,
       "border": null,
       "bottom": null,
       "display": null,
       "flex": null,
       "flex_flow": null,
       "grid_area": null,
       "grid_auto_columns": null,
       "grid_auto_flow": null,
       "grid_auto_rows": null,
       "grid_column": null,
       "grid_gap": null,
       "grid_row": null,
       "grid_template_areas": null,
       "grid_template_columns": null,
       "grid_template_rows": null,
       "height": null,
       "justify_content": null,
       "justify_items": null,
       "left": null,
       "margin": null,
       "max_height": null,
       "max_width": null,
       "min_height": null,
       "min_width": null,
       "object_fit": null,
       "object_position": null,
       "order": null,
       "overflow": null,
       "overflow_x": null,
       "overflow_y": null,
       "padding": null,
       "right": null,
       "top": null,
       "visibility": null,
       "width": null
      }
     },
     "a7fe718c33604c579584e424d3461d03": {
      "model_module": "@jupyter-widgets/output",
      "model_module_version": "1.0.0",
      "model_name": "OutputModel",
      "state": {
       "_dom_classes": [],
       "_model_module": "@jupyter-widgets/output",
       "_model_module_version": "1.0.0",
       "_model_name": "OutputModel",
       "_view_count": null,
       "_view_module": "@jupyter-widgets/output",
       "_view_module_version": "1.0.0",
       "_view_name": "OutputView",
       "layout": "IPY_MODEL_50e39d55aaeb4a3992838f3864ec9172",
       "msg_id": "",
       "outputs": [
        {
         "data": {
          "text/html": "<div>\n<style scoped>\n    .dataframe tbody tr th:only-of-type {\n        vertical-align: middle;\n    }\n\n    .dataframe tbody tr th {\n        vertical-align: top;\n    }\n\n    .dataframe thead th {\n        text-align: right;\n    }\n</style>\n<table border=\"1\" class=\"dataframe\">\n  <thead>\n    <tr style=\"text-align: right;\">\n      <th></th>\n      <th>id</th>\n      <th>name</th>\n      <th>teamName</th>\n      <th>teamCode</th>\n      <th>shortName</th>\n      <th>abbreviation</th>\n      <th>locationName</th>\n      <th>leagueId</th>\n      <th>leagueName</th>\n      <th>divisionId</th>\n      <th>divisionName</th>\n      <th>venueId</th>\n      <th>venueName</th>\n    </tr>\n  </thead>\n  <tbody>\n    <tr>\n      <th>0</th>\n      <td>108</td>\n      <td>Los Angeles Angels</td>\n      <td>Angels</td>\n      <td>ana</td>\n      <td>LA Angels</td>\n      <td>LAA</td>\n      <td>Anaheim</td>\n      <td>103</td>\n      <td>American League</td>\n      <td>200</td>\n      <td>American League West</td>\n      <td>1</td>\n      <td>Angel Stadium</td>\n    </tr>\n    <tr>\n      <th>1</th>\n      <td>109</td>\n      <td>Arizona Diamondbacks</td>\n      <td>D-backs</td>\n      <td>ari</td>\n      <td>Arizona</td>\n      <td>ARI</td>\n      <td>Phoenix</td>\n      <td>104</td>\n      <td>National League</td>\n      <td>203</td>\n      <td>National League West</td>\n      <td>15</td>\n      <td>Chase Field</td>\n    </tr>\n    <tr>\n      <th>2</th>\n      <td>110</td>\n      <td>Baltimore Orioles</td>\n      <td>Orioles</td>\n      <td>bal</td>\n      <td>Baltimore</td>\n      <td>BAL</td>\n      <td>Baltimore</td>\n      <td>103</td>\n      <td>American League</td>\n      <td>201</td>\n      <td>American League East</td>\n      <td>2</td>\n      <td>Oriole Park at Camden Yards</td>\n    </tr>\n    <tr>\n      <th>3</th>\n      <td>111</td>\n      <td>Boston Red Sox</td>\n      <td>Red Sox</td>\n      <td>bos</td>\n      <td>Boston</td>\n      <td>BOS</td>\n      <td>Boston</td>\n      <td>103</td>\n      <td>American League</td>\n      <td>201</td>\n      <td>American League East</td>\n      <td>3</td>\n      <td>Fenway Park</td>\n    </tr>\n    <tr>\n      <th>4</th>\n      <td>112</td>\n      <td>Chicago Cubs</td>\n      <td>Cubs</td>\n      <td>chn</td>\n      <td>Chi Cubs</td>\n      <td>CHC</td>\n      <td>Chicago</td>\n      <td>104</td>\n      <td>National League</td>\n      <td>205</td>\n      <td>National League Central</td>\n      <td>17</td>\n      <td>Wrigley Field</td>\n    </tr>\n    <tr>\n      <th>5</th>\n      <td>113</td>\n      <td>Cincinnati Reds</td>\n      <td>Reds</td>\n      <td>cin</td>\n      <td>Cincinnati</td>\n      <td>CIN</td>\n      <td>Cincinnati</td>\n      <td>104</td>\n      <td>National League</td>\n      <td>205</td>\n      <td>National League Central</td>\n      <td>2602</td>\n      <td>Great American Ball Park</td>\n    </tr>\n    <tr>\n      <th>6</th>\n      <td>114</td>\n      <td>Cleveland Indians</td>\n      <td>Indians</td>\n      <td>cle</td>\n      <td>Cleveland</td>\n      <td>CLE</td>\n      <td>Cleveland</td>\n      <td>103</td>\n      <td>American League</td>\n      <td>202</td>\n      <td>American League Central</td>\n      <td>5</td>\n      <td>Progressive Field</td>\n    </tr>\n    <tr>\n      <th>7</th>\n      <td>115</td>\n      <td>Colorado Rockies</td>\n      <td>Rockies</td>\n      <td>col</td>\n      <td>Colorado</td>\n      <td>COL</td>\n      <td>Denver</td>\n      <td>104</td>\n      <td>National League</td>\n      <td>203</td>\n      <td>National League West</td>\n      <td>19</td>\n      <td>Coors Field</td>\n    </tr>\n    <tr>\n      <th>8</th>\n      <td>116</td>\n      <td>Detroit Tigers</td>\n      <td>Tigers</td>\n      <td>det</td>\n      <td>Detroit</td>\n      <td>DET</td>\n      <td>Detroit</td>\n      <td>103</td>\n      <td>American League</td>\n      <td>202</td>\n      <td>American League Central</td>\n      <td>2394</td>\n      <td>Comerica Park</td>\n    </tr>\n    <tr>\n      <th>9</th>\n      <td>117</td>\n      <td>Houston Astros</td>\n      <td>Astros</td>\n      <td>hou</td>\n      <td>Houston</td>\n      <td>HOU</td>\n      <td>Houston</td>\n      <td>103</td>\n      <td>American League</td>\n      <td>200</td>\n      <td>American League West</td>\n      <td>2392</td>\n      <td>Minute Maid Park</td>\n    </tr>\n    <tr>\n      <th>10</th>\n      <td>118</td>\n      <td>Kansas City Royals</td>\n      <td>Royals</td>\n      <td>kca</td>\n      <td>Kansas City</td>\n      <td>KC</td>\n      <td>Kansas City</td>\n      <td>103</td>\n      <td>American League</td>\n      <td>202</td>\n      <td>American League Central</td>\n      <td>7</td>\n      <td>Kauffman Stadium</td>\n    </tr>\n    <tr>\n      <th>11</th>\n      <td>119</td>\n      <td>Los Angeles Dodgers</td>\n      <td>Dodgers</td>\n      <td>lan</td>\n      <td>LA Dodgers</td>\n      <td>LAD</td>\n      <td>Los Angeles</td>\n      <td>104</td>\n      <td>National League</td>\n      <td>203</td>\n      <td>National League West</td>\n      <td>22</td>\n      <td>Dodger Stadium</td>\n    </tr>\n    <tr>\n      <th>12</th>\n      <td>120</td>\n      <td>Washington Nationals</td>\n      <td>Nationals</td>\n      <td>was</td>\n      <td>Washington</td>\n      <td>WSH</td>\n      <td>Washington</td>\n      <td>104</td>\n      <td>National League</td>\n      <td>204</td>\n      <td>National League East</td>\n      <td>3309</td>\n      <td>Nationals Park</td>\n    </tr>\n    <tr>\n      <th>13</th>\n      <td>121</td>\n      <td>New York Mets</td>\n      <td>Mets</td>\n      <td>nyn</td>\n      <td>NY Mets</td>\n      <td>NYM</td>\n      <td>Flushing</td>\n      <td>104</td>\n      <td>National League</td>\n      <td>204</td>\n      <td>National League East</td>\n      <td>3289</td>\n      <td>Citi Field</td>\n    </tr>\n    <tr>\n      <th>14</th>\n      <td>133</td>\n      <td>Oakland Athletics</td>\n      <td>Athletics</td>\n      <td>oak</td>\n      <td>Oakland</td>\n      <td>OAK</td>\n      <td>Oakland</td>\n      <td>103</td>\n      <td>American League</td>\n      <td>200</td>\n      <td>American League West</td>\n      <td>10</td>\n      <td>Oakland Coliseum</td>\n    </tr>\n    <tr>\n      <th>15</th>\n      <td>134</td>\n      <td>Pittsburgh Pirates</td>\n      <td>Pirates</td>\n      <td>pit</td>\n      <td>Pittsburgh</td>\n      <td>PIT</td>\n      <td>Pittsburgh</td>\n      <td>104</td>\n      <td>National League</td>\n      <td>205</td>\n      <td>National League Central</td>\n      <td>31</td>\n      <td>PNC Park</td>\n    </tr>\n    <tr>\n      <th>16</th>\n      <td>135</td>\n      <td>San Diego Padres</td>\n      <td>Padres</td>\n      <td>sdn</td>\n      <td>San Diego</td>\n      <td>SD</td>\n      <td>San Diego</td>\n      <td>104</td>\n      <td>National League</td>\n      <td>203</td>\n      <td>National League West</td>\n      <td>2680</td>\n      <td>Petco Park</td>\n    </tr>\n    <tr>\n      <th>17</th>\n      <td>136</td>\n      <td>Seattle Mariners</td>\n      <td>Mariners</td>\n      <td>sea</td>\n      <td>Seattle</td>\n      <td>SEA</td>\n      <td>Seattle</td>\n      <td>103</td>\n      <td>American League</td>\n      <td>200</td>\n      <td>American League West</td>\n      <td>680</td>\n      <td>T-Mobile Park</td>\n    </tr>\n    <tr>\n      <th>18</th>\n      <td>137</td>\n      <td>San Francisco Giants</td>\n      <td>Giants</td>\n      <td>sfn</td>\n      <td>San Francisco</td>\n      <td>SF</td>\n      <td>San Francisco</td>\n      <td>104</td>\n      <td>National League</td>\n      <td>203</td>\n      <td>National League West</td>\n      <td>2395</td>\n      <td>Oracle Park</td>\n    </tr>\n    <tr>\n      <th>19</th>\n      <td>138</td>\n      <td>St. Louis Cardinals</td>\n      <td>Cardinals</td>\n      <td>sln</td>\n      <td>St. Louis</td>\n      <td>STL</td>\n      <td>St. Louis</td>\n      <td>104</td>\n      <td>National League</td>\n      <td>205</td>\n      <td>National League Central</td>\n      <td>2889</td>\n      <td>Busch Stadium</td>\n    </tr>\n    <tr>\n      <th>20</th>\n      <td>139</td>\n      <td>Tampa Bay Rays</td>\n      <td>Rays</td>\n      <td>tba</td>\n      <td>Tampa Bay</td>\n      <td>TB</td>\n      <td>St. Petersburg</td>\n      <td>103</td>\n      <td>American League</td>\n      <td>201</td>\n      <td>American League East</td>\n      <td>12</td>\n      <td>Tropicana Field</td>\n    </tr>\n    <tr>\n      <th>21</th>\n      <td>140</td>\n      <td>Texas Rangers</td>\n      <td>Rangers</td>\n      <td>tex</td>\n      <td>Texas</td>\n      <td>TEX</td>\n      <td>Arlington</td>\n      <td>103</td>\n      <td>American League</td>\n      <td>200</td>\n      <td>American League West</td>\n      <td>5325</td>\n      <td>Globe Life Field</td>\n    </tr>\n    <tr>\n      <th>22</th>\n      <td>141</td>\n      <td>Toronto Blue Jays</td>\n      <td>Blue Jays</td>\n      <td>tor</td>\n      <td>Toronto</td>\n      <td>TOR</td>\n      <td>Toronto</td>\n      <td>103</td>\n      <td>American League</td>\n      <td>201</td>\n      <td>American League East</td>\n      <td>14</td>\n      <td>Rogers Centre</td>\n    </tr>\n    <tr>\n      <th>23</th>\n      <td>142</td>\n      <td>Minnesota Twins</td>\n      <td>Twins</td>\n      <td>min</td>\n      <td>Minnesota</td>\n      <td>MIN</td>\n      <td>Minneapolis</td>\n      <td>103</td>\n      <td>American League</td>\n      <td>202</td>\n      <td>American League Central</td>\n      <td>3312</td>\n      <td>Target Field</td>\n    </tr>\n    <tr>\n      <th>24</th>\n      <td>143</td>\n      <td>Philadelphia Phillies</td>\n      <td>Phillies</td>\n      <td>phi</td>\n      <td>Philadelphia</td>\n      <td>PHI</td>\n      <td>Philadelphia</td>\n      <td>104</td>\n      <td>National League</td>\n      <td>204</td>\n      <td>National League East</td>\n      <td>2681</td>\n      <td>Citizens Bank Park</td>\n    </tr>\n    <tr>\n      <th>25</th>\n      <td>144</td>\n      <td>Atlanta Braves</td>\n      <td>Braves</td>\n      <td>atl</td>\n      <td>Atlanta</td>\n      <td>ATL</td>\n      <td>Atlanta</td>\n      <td>104</td>\n      <td>National League</td>\n      <td>204</td>\n      <td>National League East</td>\n      <td>4705</td>\n      <td>Truist Park</td>\n    </tr>\n    <tr>\n      <th>26</th>\n      <td>145</td>\n      <td>Chicago White Sox</td>\n      <td>White Sox</td>\n      <td>cha</td>\n      <td>Chi White Sox</td>\n      <td>CWS</td>\n      <td>Chicago</td>\n      <td>103</td>\n      <td>American League</td>\n      <td>202</td>\n      <td>American League Central</td>\n      <td>4</td>\n      <td>Guaranteed Rate Field</td>\n    </tr>\n    <tr>\n      <th>27</th>\n      <td>146</td>\n      <td>Miami Marlins</td>\n      <td>Marlins</td>\n      <td>mia</td>\n      <td>Miami</td>\n      <td>MIA</td>\n      <td>Miami</td>\n      <td>104</td>\n      <td>National League</td>\n      <td>204</td>\n      <td>National League East</td>\n      <td>4169</td>\n      <td>loanDepot park</td>\n    </tr>\n    <tr>\n      <th>28</th>\n      <td>147</td>\n      <td>New York Yankees</td>\n      <td>Yankees</td>\n      <td>nya</td>\n      <td>NY Yankees</td>\n      <td>NYY</td>\n      <td>Bronx</td>\n      <td>103</td>\n      <td>American League</td>\n      <td>201</td>\n      <td>American League East</td>\n      <td>3313</td>\n      <td>Yankee Stadium</td>\n    </tr>\n    <tr>\n      <th>29</th>\n      <td>158</td>\n      <td>Milwaukee Brewers</td>\n      <td>Brewers</td>\n      <td>mil</td>\n      <td>Milwaukee</td>\n      <td>MIL</td>\n      <td>Milwaukee</td>\n      <td>104</td>\n      <td>National League</td>\n      <td>205</td>\n      <td>National League Central</td>\n      <td>32</td>\n      <td>American Family Field</td>\n    </tr>\n  </tbody>\n</table>\n</div>",
          "text/plain": "     id                   name   teamName teamCode      shortName  \\\n0   108     Los Angeles Angels     Angels      ana      LA Angels   \n1   109   Arizona Diamondbacks    D-backs      ari        Arizona   \n2   110      Baltimore Orioles    Orioles      bal      Baltimore   \n3   111         Boston Red Sox    Red Sox      bos         Boston   \n4   112           Chicago Cubs       Cubs      chn       Chi Cubs   \n5   113        Cincinnati Reds       Reds      cin     Cincinnati   \n6   114      Cleveland Indians    Indians      cle      Cleveland   \n7   115       Colorado Rockies    Rockies      col       Colorado   \n8   116         Detroit Tigers     Tigers      det        Detroit   \n9   117         Houston Astros     Astros      hou        Houston   \n10  118     Kansas City Royals     Royals      kca    Kansas City   \n11  119    Los Angeles Dodgers    Dodgers      lan     LA Dodgers   \n12  120   Washington Nationals  Nationals      was     Washington   \n13  121          New York Mets       Mets      nyn        NY Mets   \n14  133      Oakland Athletics  Athletics      oak        Oakland   \n15  134     Pittsburgh Pirates    Pirates      pit     Pittsburgh   \n16  135       San Diego Padres     Padres      sdn      San Diego   \n17  136       Seattle Mariners   Mariners      sea        Seattle   \n18  137   San Francisco Giants     Giants      sfn  San Francisco   \n19  138    St. Louis Cardinals  Cardinals      sln      St. Louis   \n20  139         Tampa Bay Rays       Rays      tba      Tampa Bay   \n21  140          Texas Rangers    Rangers      tex          Texas   \n22  141      Toronto Blue Jays  Blue Jays      tor        Toronto   \n23  142        Minnesota Twins      Twins      min      Minnesota   \n24  143  Philadelphia Phillies   Phillies      phi   Philadelphia   \n25  144         Atlanta Braves     Braves      atl        Atlanta   \n26  145      Chicago White Sox  White Sox      cha  Chi White Sox   \n27  146          Miami Marlins    Marlins      mia          Miami   \n28  147       New York Yankees    Yankees      nya     NY Yankees   \n29  158      Milwaukee Brewers    Brewers      mil      Milwaukee   \n\n   abbreviation    locationName  leagueId       leagueName  divisionId  \\\n0           LAA         Anaheim       103  American League         200   \n1           ARI         Phoenix       104  National League         203   \n2           BAL       Baltimore       103  American League         201   \n3           BOS          Boston       103  American League         201   \n4           CHC         Chicago       104  National League         205   \n5           CIN      Cincinnati       104  National League         205   \n6           CLE       Cleveland       103  American League         202   \n7           COL          Denver       104  National League         203   \n8           DET         Detroit       103  American League         202   \n9           HOU         Houston       103  American League         200   \n10           KC     Kansas City       103  American League         202   \n11          LAD     Los Angeles       104  National League         203   \n12          WSH      Washington       104  National League         204   \n13          NYM        Flushing       104  National League         204   \n14          OAK         Oakland       103  American League         200   \n15          PIT      Pittsburgh       104  National League         205   \n16           SD       San Diego       104  National League         203   \n17          SEA         Seattle       103  American League         200   \n18           SF   San Francisco       104  National League         203   \n19          STL       St. Louis       104  National League         205   \n20           TB  St. Petersburg       103  American League         201   \n21          TEX       Arlington       103  American League         200   \n22          TOR         Toronto       103  American League         201   \n23          MIN     Minneapolis       103  American League         202   \n24          PHI    Philadelphia       104  National League         204   \n25          ATL         Atlanta       104  National League         204   \n26          CWS         Chicago       103  American League         202   \n27          MIA           Miami       104  National League         204   \n28          NYY           Bronx       103  American League         201   \n29          MIL       Milwaukee       104  National League         205   \n\n               divisionName  venueId                    venueName  \n0      American League West        1                Angel Stadium  \n1      National League West       15                  Chase Field  \n2      American League East        2  Oriole Park at Camden Yards  \n3      American League East        3                  Fenway Park  \n4   National League Central       17                Wrigley Field  \n5   National League Central     2602     Great American Ball Park  \n6   American League Central        5            Progressive Field  \n7      National League West       19                  Coors Field  \n8   American League Central     2394                Comerica Park  \n9      American League West     2392             Minute Maid Park  \n10  American League Central        7             Kauffman Stadium  \n11     National League West       22               Dodger Stadium  \n12     National League East     3309               Nationals Park  \n13     National League East     3289                   Citi Field  \n14     American League West       10             Oakland Coliseum  \n15  National League Central       31                     PNC Park  \n16     National League West     2680                   Petco Park  \n17     American League West      680                T-Mobile Park  \n18     National League West     2395                  Oracle Park  \n19  National League Central     2889                Busch Stadium  \n20     American League East       12              Tropicana Field  \n21     American League West     5325             Globe Life Field  \n22     American League East       14                Rogers Centre  \n23  American League Central     3312                 Target Field  \n24     National League East     2681           Citizens Bank Park  \n25     National League East     4705                  Truist Park  \n26  American League Central        4        Guaranteed Rate Field  \n27     National League East     4169               loanDepot park  \n28     American League East     3313               Yankee Stadium  \n29  National League Central       32        American Family Field  "
         },
         "metadata": {},
         "output_type": "display_data"
        }
       ]
      }
     },
     "a99e747a58ca42b2b0a7c14b68fa99df": {
      "model_module": "@jupyter-widgets/base",
      "model_module_version": "1.2.0",
      "model_name": "LayoutModel",
      "state": {
       "_model_module": "@jupyter-widgets/base",
       "_model_module_version": "1.2.0",
       "_model_name": "LayoutModel",
       "_view_count": null,
       "_view_module": "@jupyter-widgets/base",
       "_view_module_version": "1.2.0",
       "_view_name": "LayoutView",
       "align_content": null,
       "align_items": null,
       "align_self": null,
       "border": null,
       "bottom": null,
       "display": null,
       "flex": null,
       "flex_flow": null,
       "grid_area": null,
       "grid_auto_columns": null,
       "grid_auto_flow": null,
       "grid_auto_rows": null,
       "grid_column": null,
       "grid_gap": null,
       "grid_row": null,
       "grid_template_areas": null,
       "grid_template_columns": null,
       "grid_template_rows": null,
       "height": null,
       "justify_content": null,
       "justify_items": null,
       "left": null,
       "margin": null,
       "max_height": null,
       "max_width": null,
       "min_height": null,
       "min_width": null,
       "object_fit": null,
       "object_position": null,
       "order": null,
       "overflow": null,
       "overflow_x": null,
       "overflow_y": null,
       "padding": null,
       "right": null,
       "top": null,
       "visibility": null,
       "width": null
      }
     },
     "acc7e42b1e834d5894ab5ea05c7c6bfa": {
      "model_module": "@jupyter-widgets/output",
      "model_module_version": "1.0.0",
      "model_name": "OutputModel",
      "state": {
       "_dom_classes": [],
       "_model_module": "@jupyter-widgets/output",
       "_model_module_version": "1.0.0",
       "_model_name": "OutputModel",
       "_view_count": null,
       "_view_module": "@jupyter-widgets/output",
       "_view_module_version": "1.0.0",
       "_view_name": "OutputView",
       "layout": "IPY_MODEL_0584c11dec6b45329107fba9407c976f",
       "msg_id": "",
       "outputs": [
        {
         "data": {
          "text/html": "<div>\n<style scoped>\n    .dataframe tbody tr th:only-of-type {\n        vertical-align: middle;\n    }\n\n    .dataframe tbody tr th {\n        vertical-align: top;\n    }\n\n    .dataframe thead th {\n        text-align: right;\n    }\n</style>\n<table border=\"1\" class=\"dataframe\">\n  <thead>\n    <tr style=\"text-align: right;\">\n      <th></th>\n      <th>dailyDataDate</th>\n      <th>season</th>\n      <th>gameDate</th>\n      <th>divisionId</th>\n      <th>teamId</th>\n      <th>teamName</th>\n      <th>streakCode</th>\n      <th>divisionRank</th>\n      <th>leagueRank</th>\n      <th>wildCardRank</th>\n      <th>...</th>\n      <th>grassLosses</th>\n      <th>turfWins</th>\n      <th>turfLosses</th>\n      <th>divWins</th>\n      <th>divLosses</th>\n      <th>alWins</th>\n      <th>alLosses</th>\n      <th>nlWins</th>\n      <th>nlLosses</th>\n      <th>xWinLossPct</th>\n    </tr>\n  </thead>\n  <tbody>\n    <tr>\n      <th>0</th>\n      <td>2018-03-29</td>\n      <td>2018</td>\n      <td>2018-03-29</td>\n      <td>205</td>\n      <td>112</td>\n      <td>Chicago Cubs</td>\n      <td>W1</td>\n      <td>1</td>\n      <td>3</td>\n      <td>3.0</td>\n      <td>...</td>\n      <td>0</td>\n      <td>0</td>\n      <td>0</td>\n      <td>0</td>\n      <td>0</td>\n      <td>0.0</td>\n      <td>0.0</td>\n      <td>0.0</td>\n      <td>0.0</td>\n      <td>0.000</td>\n    </tr>\n    <tr>\n      <th>1</th>\n      <td>2018-03-29</td>\n      <td>2018</td>\n      <td>2018-03-29</td>\n      <td>204</td>\n      <td>146</td>\n      <td>Miami Marlins</td>\n      <td>L1</td>\n      <td>4</td>\n      <td>12</td>\n      <td>12.0</td>\n      <td>...</td>\n      <td>1</td>\n      <td>0</td>\n      <td>0</td>\n      <td>0</td>\n      <td>0</td>\n      <td>0.0</td>\n      <td>1.0</td>\n      <td>0.0</td>\n      <td>1.0</td>\n      <td>0.000</td>\n    </tr>\n    <tr>\n      <th>2</th>\n      <td>2018-03-29</td>\n      <td>2018</td>\n      <td>2018-03-29</td>\n      <td>204</td>\n      <td>121</td>\n      <td>New York Mets</td>\n      <td>W1</td>\n      <td>2</td>\n      <td>5</td>\n      <td>5.0</td>\n      <td>...</td>\n      <td>0</td>\n      <td>0</td>\n      <td>0</td>\n      <td>0</td>\n      <td>0</td>\n      <td>1.0</td>\n      <td>0.0</td>\n      <td>1.0</td>\n      <td>0.0</td>\n      <td>1.000</td>\n    </tr>\n    <tr>\n      <th>3</th>\n      <td>2018-03-29</td>\n      <td>2018</td>\n      <td>2018-03-29</td>\n      <td>200</td>\n      <td>140</td>\n      <td>Texas Rangers</td>\n      <td>L1</td>\n      <td>5</td>\n      <td>14</td>\n      <td>13.0</td>\n      <td>...</td>\n      <td>1</td>\n      <td>0</td>\n      <td>0</td>\n      <td>0</td>\n      <td>1</td>\n      <td>0.0</td>\n      <td>0.0</td>\n      <td>0.0</td>\n      <td>0.0</td>\n      <td>0.000</td>\n    </tr>\n    <tr>\n      <th>4</th>\n      <td>2018-03-29</td>\n      <td>2018</td>\n      <td>2018-03-29</td>\n      <td>204</td>\n      <td>144</td>\n      <td>Atlanta Braves</td>\n      <td>W1</td>\n      <td>1</td>\n      <td>2</td>\n      <td>2.0</td>\n      <td>...</td>\n      <td>0</td>\n      <td>0</td>\n      <td>0</td>\n      <td>1</td>\n      <td>0</td>\n      <td>0.0</td>\n      <td>0.0</td>\n      <td>0.0</td>\n      <td>0.0</td>\n      <td>0.000</td>\n    </tr>\n    <tr>\n      <th>...</th>\n      <td>...</td>\n      <td>...</td>\n      <td>...</td>\n      <td>...</td>\n      <td>...</td>\n      <td>...</td>\n      <td>...</td>\n      <td>...</td>\n      <td>...</td>\n      <td>...</td>\n      <td>...</td>\n      <td>...</td>\n      <td>...</td>\n      <td>...</td>\n      <td>...</td>\n      <td>...</td>\n      <td>...</td>\n      <td>...</td>\n      <td>...</td>\n      <td>...</td>\n      <td>...</td>\n    </tr>\n    <tr>\n      <th>15925</th>\n      <td>2021-04-30</td>\n      <td>2021</td>\n      <td>2021-04-30</td>\n      <td>205</td>\n      <td>138</td>\n      <td>St. Louis Cardinals</td>\n      <td>W2</td>\n      <td>2</td>\n      <td>6</td>\n      <td>4.0</td>\n      <td>...</td>\n      <td>12</td>\n      <td>0</td>\n      <td>0</td>\n      <td>6</td>\n      <td>4</td>\n      <td>NaN</td>\n      <td>NaN</td>\n      <td>6.0</td>\n      <td>4.0</td>\n      <td>0.600</td>\n    </tr>\n    <tr>\n      <th>15926</th>\n      <td>2021-04-30</td>\n      <td>2021</td>\n      <td>2021-04-30</td>\n      <td>203</td>\n      <td>109</td>\n      <td>Arizona Diamondbacks</td>\n      <td>W2</td>\n      <td>4</td>\n      <td>5</td>\n      <td>3.0</td>\n      <td>...</td>\n      <td>8</td>\n      <td>5</td>\n      <td>4</td>\n      <td>5</td>\n      <td>6</td>\n      <td>5.0</td>\n      <td>1.0</td>\n      <td>5.0</td>\n      <td>1.0</td>\n      <td>0.833</td>\n    </tr>\n    <tr>\n      <th>15927</th>\n      <td>2021-04-30</td>\n      <td>2021</td>\n      <td>2021-04-30</td>\n      <td>203</td>\n      <td>137</td>\n      <td>San Francisco Giants</td>\n      <td>L1</td>\n      <td>1</td>\n      <td>2</td>\n      <td>NaN</td>\n      <td>...</td>\n      <td>10</td>\n      <td>0</td>\n      <td>0</td>\n      <td>7</td>\n      <td>3</td>\n      <td>2.0</td>\n      <td>1.0</td>\n      <td>2.0</td>\n      <td>1.0</td>\n      <td>0.667</td>\n    </tr>\n    <tr>\n      <th>15928</th>\n      <td>2021-04-30</td>\n      <td>2021</td>\n      <td>2021-04-30</td>\n      <td>204</td>\n      <td>120</td>\n      <td>Washington Nationals</td>\n      <td>W2</td>\n      <td>3</td>\n      <td>11</td>\n      <td>8.0</td>\n      <td>...</td>\n      <td>12</td>\n      <td>0</td>\n      <td>0</td>\n      <td>3</td>\n      <td>4</td>\n      <td>4.0</td>\n      <td>2.0</td>\n      <td>4.0</td>\n      <td>2.0</td>\n      <td>0.667</td>\n    </tr>\n    <tr>\n      <th>15929</th>\n      <td>2021-04-30</td>\n      <td>2021</td>\n      <td>2021-04-30</td>\n      <td>204</td>\n      <td>143</td>\n      <td>Philadelphia Phillies</td>\n      <td>W1</td>\n      <td>1</td>\n      <td>7</td>\n      <td>NaN</td>\n      <td>...</td>\n      <td>13</td>\n      <td>0</td>\n      <td>0</td>\n      <td>7</td>\n      <td>6</td>\n      <td>NaN</td>\n      <td>NaN</td>\n      <td>4.0</td>\n      <td>3.0</td>\n      <td>0.571</td>\n    </tr>\n  </tbody>\n</table>\n<p>15930 rows × 48 columns</p>\n</div>",
          "text/plain": "      dailyDataDate  season    gameDate  divisionId  teamId  \\\n0        2018-03-29    2018  2018-03-29         205     112   \n1        2018-03-29    2018  2018-03-29         204     146   \n2        2018-03-29    2018  2018-03-29         204     121   \n3        2018-03-29    2018  2018-03-29         200     140   \n4        2018-03-29    2018  2018-03-29         204     144   \n...             ...     ...         ...         ...     ...   \n15925    2021-04-30    2021  2021-04-30         205     138   \n15926    2021-04-30    2021  2021-04-30         203     109   \n15927    2021-04-30    2021  2021-04-30         203     137   \n15928    2021-04-30    2021  2021-04-30         204     120   \n15929    2021-04-30    2021  2021-04-30         204     143   \n\n                    teamName streakCode  divisionRank  leagueRank  \\\n0               Chicago Cubs         W1             1           3   \n1              Miami Marlins         L1             4          12   \n2              New York Mets         W1             2           5   \n3              Texas Rangers         L1             5          14   \n4             Atlanta Braves         W1             1           2   \n...                      ...        ...           ...         ...   \n15925    St. Louis Cardinals         W2             2           6   \n15926   Arizona Diamondbacks         W2             4           5   \n15927   San Francisco Giants         L1             1           2   \n15928   Washington Nationals         W2             3          11   \n15929  Philadelphia Phillies         W1             1           7   \n\n       wildCardRank  ... grassLosses turfWins turfLosses  divWins  divLosses  \\\n0               3.0  ...           0        0          0        0          0   \n1              12.0  ...           1        0          0        0          0   \n2               5.0  ...           0        0          0        0          0   \n3              13.0  ...           1        0          0        0          1   \n4               2.0  ...           0        0          0        1          0   \n...             ...  ...         ...      ...        ...      ...        ...   \n15925           4.0  ...          12        0          0        6          4   \n15926           3.0  ...           8        5          4        5          6   \n15927           NaN  ...          10        0          0        7          3   \n15928           8.0  ...          12        0          0        3          4   \n15929           NaN  ...          13        0          0        7          6   \n\n       alWins  alLosses  nlWins  nlLosses  xWinLossPct  \n0         0.0       0.0     0.0       0.0        0.000  \n1         0.0       1.0     0.0       1.0        0.000  \n2         1.0       0.0     1.0       0.0        1.000  \n3         0.0       0.0     0.0       0.0        0.000  \n4         0.0       0.0     0.0       0.0        0.000  \n...       ...       ...     ...       ...          ...  \n15925     NaN       NaN     6.0       4.0        0.600  \n15926     5.0       1.0     5.0       1.0        0.833  \n15927     2.0       1.0     2.0       1.0        0.667  \n15928     4.0       2.0     4.0       2.0        0.667  \n15929     NaN       NaN     4.0       3.0        0.571  \n\n[15930 rows x 48 columns]"
         },
         "metadata": {},
         "output_type": "display_data"
        }
       ]
      }
     },
     "bffe20f891c24148a9addfd54e153fc5": {
      "model_module": "@jupyter-widgets/output",
      "model_module_version": "1.0.0",
      "model_name": "OutputModel",
      "state": {
       "_dom_classes": [],
       "_model_module": "@jupyter-widgets/output",
       "_model_module_version": "1.0.0",
       "_model_name": "OutputModel",
       "_view_count": null,
       "_view_module": "@jupyter-widgets/output",
       "_view_module_version": "1.0.0",
       "_view_name": "OutputView",
       "layout": "IPY_MODEL_0d8a12b9452a42a693d30fbcf14c74ef",
       "msg_id": "",
       "outputs": [
        {
         "data": {
          "text/html": "<div>\n<style scoped>\n    .dataframe tbody tr th:only-of-type {\n        vertical-align: middle;\n    }\n\n    .dataframe tbody tr th {\n        vertical-align: top;\n    }\n\n    .dataframe thead th {\n        text-align: right;\n    }\n</style>\n<table border=\"1\" class=\"dataframe\">\n  <thead>\n    <tr style=\"text-align: right;\">\n      <th></th>\n      <th>dailyDataDate</th>\n      <th>gamePk</th>\n      <th>gameDate</th>\n      <th>gameTimeUTC</th>\n      <th>season</th>\n      <th>gameType</th>\n      <th>playId</th>\n      <th>eventId</th>\n      <th>inning</th>\n      <th>halfInning</th>\n      <th>...</th>\n      <th>vX0</th>\n      <th>vY0</th>\n      <th>vZ0</th>\n      <th>x</th>\n      <th>y</th>\n      <th>x0</th>\n      <th>y0</th>\n      <th>z0</th>\n      <th>type</th>\n      <th>zone</th>\n    </tr>\n  </thead>\n  <tbody>\n    <tr>\n      <th>0</th>\n      <td>2018-03-29</td>\n      <td>529409</td>\n      <td>2018-03-29</td>\n      <td>2018-03-30T02:10:00Z</td>\n      <td>2018</td>\n      <td>R</td>\n      <td>None</td>\n      <td>5</td>\n      <td>9</td>\n      <td>top</td>\n      <td>...</td>\n      <td>NaN</td>\n      <td>NaN</td>\n      <td>NaN</td>\n      <td>NaN</td>\n      <td>NaN</td>\n      <td>NaN</td>\n      <td>NaN</td>\n      <td>NaN</td>\n      <td>action</td>\n      <td>NaN</td>\n    </tr>\n    <tr>\n      <th>1</th>\n      <td>2018-03-29</td>\n      <td>529416</td>\n      <td>2018-03-29</td>\n      <td>2018-03-29T20:10:00Z</td>\n      <td>2018</td>\n      <td>R</td>\n      <td>None</td>\n      <td>0</td>\n      <td>3</td>\n      <td>bottom</td>\n      <td>...</td>\n      <td>NaN</td>\n      <td>NaN</td>\n      <td>NaN</td>\n      <td>NaN</td>\n      <td>NaN</td>\n      <td>NaN</td>\n      <td>NaN</td>\n      <td>NaN</td>\n      <td>action</td>\n      <td>NaN</td>\n    </tr>\n    <tr>\n      <th>2</th>\n      <td>2018-03-29</td>\n      <td>529416</td>\n      <td>2018-03-29</td>\n      <td>2018-03-29T20:10:00Z</td>\n      <td>2018</td>\n      <td>R</td>\n      <td>None</td>\n      <td>4</td>\n      <td>9</td>\n      <td>top</td>\n      <td>...</td>\n      <td>NaN</td>\n      <td>NaN</td>\n      <td>NaN</td>\n      <td>NaN</td>\n      <td>NaN</td>\n      <td>NaN</td>\n      <td>NaN</td>\n      <td>NaN</td>\n      <td>action</td>\n      <td>NaN</td>\n    </tr>\n    <tr>\n      <th>3</th>\n      <td>2018-03-29</td>\n      <td>529411</td>\n      <td>2018-03-29</td>\n      <td>2018-03-29T19:35:00Z</td>\n      <td>2018</td>\n      <td>R</td>\n      <td>None</td>\n      <td>4</td>\n      <td>3</td>\n      <td>bottom</td>\n      <td>...</td>\n      <td>NaN</td>\n      <td>NaN</td>\n      <td>NaN</td>\n      <td>NaN</td>\n      <td>NaN</td>\n      <td>NaN</td>\n      <td>NaN</td>\n      <td>NaN</td>\n      <td>action</td>\n      <td>NaN</td>\n    </tr>\n    <tr>\n      <th>4</th>\n      <td>2018-03-29</td>\n      <td>529406</td>\n      <td>2018-03-29</td>\n      <td>2018-03-29T20:00:00Z</td>\n      <td>2018</td>\n      <td>R</td>\n      <td>None</td>\n      <td>5</td>\n      <td>8</td>\n      <td>top</td>\n      <td>...</td>\n      <td>NaN</td>\n      <td>NaN</td>\n      <td>NaN</td>\n      <td>NaN</td>\n      <td>NaN</td>\n      <td>NaN</td>\n      <td>NaN</td>\n      <td>NaN</td>\n      <td>action</td>\n      <td>NaN</td>\n    </tr>\n    <tr>\n      <th>...</th>\n      <td>...</td>\n      <td>...</td>\n      <td>...</td>\n      <td>...</td>\n      <td>...</td>\n      <td>...</td>\n      <td>...</td>\n      <td>...</td>\n      <td>...</td>\n      <td>...</td>\n      <td>...</td>\n      <td>...</td>\n      <td>...</td>\n      <td>...</td>\n      <td>...</td>\n      <td>...</td>\n      <td>...</td>\n      <td>...</td>\n      <td>...</td>\n      <td>...</td>\n      <td>...</td>\n    </tr>\n    <tr>\n      <th>2017649</th>\n      <td>2021-04-30</td>\n      <td>634327</td>\n      <td>2021-04-30</td>\n      <td>2021-04-30T23:05:00Z</td>\n      <td>2021</td>\n      <td>R</td>\n      <td>fbf14c5b-6e3e-4ccc-b8f9-98a41f81fd1d</td>\n      <td>6</td>\n      <td>1</td>\n      <td>bottom</td>\n      <td>...</td>\n      <td>-8.45</td>\n      <td>-138.96</td>\n      <td>-9.82</td>\n      <td>117.56</td>\n      <td>189.87</td>\n      <td>2.56</td>\n      <td>50.00</td>\n      <td>6.10</td>\n      <td>pitch</td>\n      <td>8.0</td>\n    </tr>\n    <tr>\n      <th>2017650</th>\n      <td>2021-04-30</td>\n      <td>634328</td>\n      <td>2021-04-30</td>\n      <td>2021-05-01T01:40:00Z</td>\n      <td>2021</td>\n      <td>R</td>\n      <td>def99581-1dde-40fd-9d7a-5811f6f90df5</td>\n      <td>2</td>\n      <td>8</td>\n      <td>top</td>\n      <td>...</td>\n      <td>-7.01</td>\n      <td>-134.88</td>\n      <td>-4.72</td>\n      <td>135.16</td>\n      <td>160.67</td>\n      <td>1.57</td>\n      <td>50.01</td>\n      <td>5.90</td>\n      <td>pitch</td>\n      <td>1.0</td>\n    </tr>\n    <tr>\n      <th>2017651</th>\n      <td>2021-04-30</td>\n      <td>634327</td>\n      <td>2021-04-30</td>\n      <td>2021-04-30T23:05:00Z</td>\n      <td>2021</td>\n      <td>R</td>\n      <td>d817bc95-8d95-4f34-a42a-e755945c3dc4</td>\n      <td>2</td>\n      <td>2</td>\n      <td>bottom</td>\n      <td>...</td>\n      <td>-10.57</td>\n      <td>-135.83</td>\n      <td>-6.81</td>\n      <td>139.16</td>\n      <td>168.43</td>\n      <td>2.80</td>\n      <td>50.00</td>\n      <td>6.11</td>\n      <td>pitch</td>\n      <td>4.0</td>\n    </tr>\n    <tr>\n      <th>2017652</th>\n      <td>2021-04-30</td>\n      <td>634391</td>\n      <td>2021-04-30</td>\n      <td>2021-05-01T00:10:00Z</td>\n      <td>2021</td>\n      <td>R</td>\n      <td>85cc8c60-6ef3-4ed0-aef1-b24cf2ec91ad</td>\n      <td>6</td>\n      <td>6</td>\n      <td>top</td>\n      <td>...</td>\n      <td>7.39</td>\n      <td>-137.85</td>\n      <td>-7.87</td>\n      <td>85.71</td>\n      <td>186.97</td>\n      <td>-1.52</td>\n      <td>50.01</td>\n      <td>5.66</td>\n      <td>pitch</td>\n      <td>14.0</td>\n    </tr>\n    <tr>\n      <th>2017653</th>\n      <td>2021-04-30</td>\n      <td>634337</td>\n      <td>2021-04-30</td>\n      <td>2021-05-01T00:05:00Z</td>\n      <td>2021</td>\n      <td>R</td>\n      <td>bc133ccd-ab0c-4203-8c4d-169168cd7116</td>\n      <td>2</td>\n      <td>7</td>\n      <td>top</td>\n      <td>...</td>\n      <td>-8.79</td>\n      <td>-131.09</td>\n      <td>-5.08</td>\n      <td>175.10</td>\n      <td>169.62</td>\n      <td>1.68</td>\n      <td>50.01</td>\n      <td>5.74</td>\n      <td>pitch</td>\n      <td>11.0</td>\n    </tr>\n  </tbody>\n</table>\n<p>2017654 rows × 72 columns</p>\n</div>",
          "text/plain": "        dailyDataDate  gamePk    gameDate           gameTimeUTC  season  \\\n0          2018-03-29  529409  2018-03-29  2018-03-30T02:10:00Z    2018   \n1          2018-03-29  529416  2018-03-29  2018-03-29T20:10:00Z    2018   \n2          2018-03-29  529416  2018-03-29  2018-03-29T20:10:00Z    2018   \n3          2018-03-29  529411  2018-03-29  2018-03-29T19:35:00Z    2018   \n4          2018-03-29  529406  2018-03-29  2018-03-29T20:00:00Z    2018   \n...               ...     ...         ...                   ...     ...   \n2017649    2021-04-30  634327  2021-04-30  2021-04-30T23:05:00Z    2021   \n2017650    2021-04-30  634328  2021-04-30  2021-05-01T01:40:00Z    2021   \n2017651    2021-04-30  634327  2021-04-30  2021-04-30T23:05:00Z    2021   \n2017652    2021-04-30  634391  2021-04-30  2021-05-01T00:10:00Z    2021   \n2017653    2021-04-30  634337  2021-04-30  2021-05-01T00:05:00Z    2021   \n\n        gameType                                playId  eventId  inning  \\\n0              R                                  None        5       9   \n1              R                                  None        0       3   \n2              R                                  None        4       9   \n3              R                                  None        4       3   \n4              R                                  None        5       8   \n...          ...                                   ...      ...     ...   \n2017649        R  fbf14c5b-6e3e-4ccc-b8f9-98a41f81fd1d        6       1   \n2017650        R  def99581-1dde-40fd-9d7a-5811f6f90df5        2       8   \n2017651        R  d817bc95-8d95-4f34-a42a-e755945c3dc4        2       2   \n2017652        R  85cc8c60-6ef3-4ed0-aef1-b24cf2ec91ad        6       6   \n2017653        R  bc133ccd-ab0c-4203-8c4d-169168cd7116        2       7   \n\n        halfInning  ...    vX0     vY0   vZ0       x       y    x0     y0  \\\n0              top  ...    NaN     NaN   NaN     NaN     NaN   NaN    NaN   \n1           bottom  ...    NaN     NaN   NaN     NaN     NaN   NaN    NaN   \n2              top  ...    NaN     NaN   NaN     NaN     NaN   NaN    NaN   \n3           bottom  ...    NaN     NaN   NaN     NaN     NaN   NaN    NaN   \n4              top  ...    NaN     NaN   NaN     NaN     NaN   NaN    NaN   \n...            ...  ...    ...     ...   ...     ...     ...   ...    ...   \n2017649     bottom  ...  -8.45 -138.96 -9.82  117.56  189.87  2.56  50.00   \n2017650        top  ...  -7.01 -134.88 -4.72  135.16  160.67  1.57  50.01   \n2017651     bottom  ... -10.57 -135.83 -6.81  139.16  168.43  2.80  50.00   \n2017652        top  ...   7.39 -137.85 -7.87   85.71  186.97 -1.52  50.01   \n2017653        top  ...  -8.79 -131.09 -5.08  175.10  169.62  1.68  50.01   \n\n           z0    type  zone  \n0         NaN  action   NaN  \n1         NaN  action   NaN  \n2         NaN  action   NaN  \n3         NaN  action   NaN  \n4         NaN  action   NaN  \n...       ...     ...   ...  \n2017649  6.10   pitch   8.0  \n2017650  5.90   pitch   1.0  \n2017651  6.11   pitch   4.0  \n2017652  5.66   pitch  14.0  \n2017653  5.74   pitch  11.0  \n\n[2017654 rows x 72 columns]"
         },
         "metadata": {},
         "output_type": "display_data"
        }
       ]
      }
     },
     "c053b9babe8140fb8af9905638b2903b": {
      "model_module": "@jupyter-widgets/base",
      "model_module_version": "1.2.0",
      "model_name": "LayoutModel",
      "state": {
       "_model_module": "@jupyter-widgets/base",
       "_model_module_version": "1.2.0",
       "_model_name": "LayoutModel",
       "_view_count": null,
       "_view_module": "@jupyter-widgets/base",
       "_view_module_version": "1.2.0",
       "_view_name": "LayoutView",
       "align_content": null,
       "align_items": null,
       "align_self": null,
       "border": null,
       "bottom": null,
       "display": null,
       "flex": null,
       "flex_flow": null,
       "grid_area": null,
       "grid_auto_columns": null,
       "grid_auto_flow": null,
       "grid_auto_rows": null,
       "grid_column": null,
       "grid_gap": null,
       "grid_row": null,
       "grid_template_areas": null,
       "grid_template_columns": null,
       "grid_template_rows": null,
       "height": null,
       "justify_content": null,
       "justify_items": null,
       "left": null,
       "margin": null,
       "max_height": null,
       "max_width": null,
       "min_height": null,
       "min_width": null,
       "object_fit": null,
       "object_position": null,
       "order": null,
       "overflow": null,
       "overflow_x": null,
       "overflow_y": null,
       "padding": null,
       "right": null,
       "top": null,
       "visibility": null,
       "width": null
      }
     },
     "c24ab8a4911846098bfdb53fdda3a88d": {
      "model_module": "@jupyter-widgets/base",
      "model_module_version": "1.2.0",
      "model_name": "LayoutModel",
      "state": {
       "_model_module": "@jupyter-widgets/base",
       "_model_module_version": "1.2.0",
       "_model_name": "LayoutModel",
       "_view_count": null,
       "_view_module": "@jupyter-widgets/base",
       "_view_module_version": "1.2.0",
       "_view_name": "LayoutView",
       "align_content": null,
       "align_items": null,
       "align_self": null,
       "border": null,
       "bottom": null,
       "display": null,
       "flex": null,
       "flex_flow": null,
       "grid_area": null,
       "grid_auto_columns": null,
       "grid_auto_flow": null,
       "grid_auto_rows": null,
       "grid_column": null,
       "grid_gap": null,
       "grid_row": null,
       "grid_template_areas": null,
       "grid_template_columns": null,
       "grid_template_rows": null,
       "height": null,
       "justify_content": null,
       "justify_items": null,
       "left": null,
       "margin": null,
       "max_height": null,
       "max_width": null,
       "min_height": null,
       "min_width": null,
       "object_fit": null,
       "object_position": null,
       "order": null,
       "overflow": null,
       "overflow_x": null,
       "overflow_y": null,
       "padding": null,
       "right": null,
       "top": null,
       "visibility": null,
       "width": null
      }
     },
     "cda1e920e1834dd5958df6da4ae4cd5b": {
      "model_module": "@jupyter-widgets/output",
      "model_module_version": "1.0.0",
      "model_name": "OutputModel",
      "state": {
       "_dom_classes": [],
       "_model_module": "@jupyter-widgets/output",
       "_model_module_version": "1.0.0",
       "_model_name": "OutputModel",
       "_view_count": null,
       "_view_module": "@jupyter-widgets/output",
       "_view_module_version": "1.0.0",
       "_view_name": "OutputView",
       "layout": "IPY_MODEL_7335144eee7b4ebebec2223c0ac3259d",
       "msg_id": "",
       "outputs": [
        {
         "data": {
          "text/html": "<div>\n<style scoped>\n    .dataframe tbody tr th:only-of-type {\n        vertical-align: middle;\n    }\n\n    .dataframe tbody tr th {\n        vertical-align: top;\n    }\n\n    .dataframe thead th {\n        text-align: right;\n    }\n</style>\n<table border=\"1\" class=\"dataframe\">\n  <thead>\n    <tr style=\"text-align: right;\">\n      <th></th>\n      <th>dailyDataDate</th>\n      <th>home</th>\n      <th>teamId</th>\n      <th>gamePk</th>\n      <th>gameDate</th>\n      <th>gameTimeUTC</th>\n      <th>flyOuts</th>\n      <th>groundOuts</th>\n      <th>runsScored</th>\n      <th>doubles</th>\n      <th>...</th>\n      <th>hitBatsmen</th>\n      <th>balks</th>\n      <th>wildPitches</th>\n      <th>pickoffsPitching</th>\n      <th>rbiPitching</th>\n      <th>inheritedRunners</th>\n      <th>inheritedRunnersScored</th>\n      <th>catchersInterferencePitching</th>\n      <th>sacBuntsPitching</th>\n      <th>sacFliesPitching</th>\n    </tr>\n  </thead>\n  <tbody>\n    <tr>\n      <th>0</th>\n      <td>2018-03-29</td>\n      <td>1</td>\n      <td>109</td>\n      <td>529410</td>\n      <td>2018-03-29</td>\n      <td>2018-03-30T02:10:00Z</td>\n      <td>4</td>\n      <td>9</td>\n      <td>8</td>\n      <td>2</td>\n      <td>...</td>\n      <td>0</td>\n      <td>0</td>\n      <td>0</td>\n      <td>0</td>\n      <td>2</td>\n      <td>0</td>\n      <td>0</td>\n      <td>0</td>\n      <td>1</td>\n      <td>0</td>\n    </tr>\n    <tr>\n      <th>1</th>\n      <td>2018-03-29</td>\n      <td>0</td>\n      <td>114</td>\n      <td>529409</td>\n      <td>2018-03-29</td>\n      <td>2018-03-30T02:10:00Z</td>\n      <td>4</td>\n      <td>9</td>\n      <td>1</td>\n      <td>1</td>\n      <td>...</td>\n      <td>0</td>\n      <td>0</td>\n      <td>0</td>\n      <td>0</td>\n      <td>2</td>\n      <td>0</td>\n      <td>0</td>\n      <td>0</td>\n      <td>0</td>\n      <td>0</td>\n    </tr>\n    <tr>\n      <th>2</th>\n      <td>2018-03-29</td>\n      <td>1</td>\n      <td>121</td>\n      <td>529419</td>\n      <td>2018-03-29</td>\n      <td>2018-03-29T17:10:00Z</td>\n      <td>2</td>\n      <td>10</td>\n      <td>9</td>\n      <td>2</td>\n      <td>...</td>\n      <td>0</td>\n      <td>0</td>\n      <td>0</td>\n      <td>0</td>\n      <td>4</td>\n      <td>0</td>\n      <td>0</td>\n      <td>0</td>\n      <td>0</td>\n      <td>0</td>\n    </tr>\n    <tr>\n      <th>3</th>\n      <td>2018-03-29</td>\n      <td>1</td>\n      <td>139</td>\n      <td>529406</td>\n      <td>2018-03-29</td>\n      <td>2018-03-29T20:00:00Z</td>\n      <td>2</td>\n      <td>6</td>\n      <td>6</td>\n      <td>1</td>\n      <td>...</td>\n      <td>0</td>\n      <td>0</td>\n      <td>0</td>\n      <td>0</td>\n      <td>4</td>\n      <td>0</td>\n      <td>0</td>\n      <td>0</td>\n      <td>0</td>\n      <td>0</td>\n    </tr>\n    <tr>\n      <th>4</th>\n      <td>2018-03-29</td>\n      <td>1</td>\n      <td>140</td>\n      <td>529411</td>\n      <td>2018-03-29</td>\n      <td>2018-03-29T19:35:00Z</td>\n      <td>9</td>\n      <td>4</td>\n      <td>1</td>\n      <td>1</td>\n      <td>...</td>\n      <td>0</td>\n      <td>0</td>\n      <td>0</td>\n      <td>0</td>\n      <td>4</td>\n      <td>0</td>\n      <td>0</td>\n      <td>0</td>\n      <td>0</td>\n      <td>1</td>\n    </tr>\n    <tr>\n      <th>...</th>\n      <td>...</td>\n      <td>...</td>\n      <td>...</td>\n      <td>...</td>\n      <td>...</td>\n      <td>...</td>\n      <td>...</td>\n      <td>...</td>\n      <td>...</td>\n      <td>...</td>\n      <td>...</td>\n      <td>...</td>\n      <td>...</td>\n      <td>...</td>\n      <td>...</td>\n      <td>...</td>\n      <td>...</td>\n      <td>...</td>\n      <td>...</td>\n      <td>...</td>\n      <td>...</td>\n    </tr>\n    <tr>\n      <th>12523</th>\n      <td>2021-04-30</td>\n      <td>0</td>\n      <td>117</td>\n      <td>634275</td>\n      <td>2021-04-30</td>\n      <td>2021-04-30T23:10:00Z</td>\n      <td>5</td>\n      <td>6</td>\n      <td>9</td>\n      <td>3</td>\n      <td>...</td>\n      <td>0</td>\n      <td>0</td>\n      <td>0</td>\n      <td>0</td>\n      <td>2</td>\n      <td>0</td>\n      <td>0</td>\n      <td>0</td>\n      <td>0</td>\n      <td>0</td>\n    </tr>\n    <tr>\n      <th>12524</th>\n      <td>2021-04-30</td>\n      <td>1</td>\n      <td>141</td>\n      <td>634280</td>\n      <td>2021-04-30</td>\n      <td>2021-04-30T23:37:00Z</td>\n      <td>5</td>\n      <td>7</td>\n      <td>13</td>\n      <td>1</td>\n      <td>...</td>\n      <td>0</td>\n      <td>0</td>\n      <td>0</td>\n      <td>0</td>\n      <td>5</td>\n      <td>0</td>\n      <td>0</td>\n      <td>0</td>\n      <td>0</td>\n      <td>0</td>\n    </tr>\n    <tr>\n      <th>12525</th>\n      <td>2021-04-30</td>\n      <td>1</td>\n      <td>147</td>\n      <td>634327</td>\n      <td>2021-04-30</td>\n      <td>2021-04-30T23:05:00Z</td>\n      <td>6</td>\n      <td>7</td>\n      <td>10</td>\n      <td>2</td>\n      <td>...</td>\n      <td>0</td>\n      <td>0</td>\n      <td>0</td>\n      <td>0</td>\n      <td>0</td>\n      <td>0</td>\n      <td>0</td>\n      <td>0</td>\n      <td>0</td>\n      <td>0</td>\n    </tr>\n    <tr>\n      <th>12526</th>\n      <td>2021-04-30</td>\n      <td>1</td>\n      <td>136</td>\n      <td>634287</td>\n      <td>2021-04-30</td>\n      <td>2021-05-01T02:10:00Z</td>\n      <td>5</td>\n      <td>4</td>\n      <td>7</td>\n      <td>2</td>\n      <td>...</td>\n      <td>0</td>\n      <td>0</td>\n      <td>0</td>\n      <td>0</td>\n      <td>4</td>\n      <td>0</td>\n      <td>0</td>\n      <td>0</td>\n      <td>0</td>\n      <td>1</td>\n    </tr>\n    <tr>\n      <th>12527</th>\n      <td>2021-04-30</td>\n      <td>1</td>\n      <td>113</td>\n      <td>634305</td>\n      <td>2021-04-30</td>\n      <td>2021-04-30T23:10:00Z</td>\n      <td>5</td>\n      <td>7</td>\n      <td>8</td>\n      <td>2</td>\n      <td>...</td>\n      <td>0</td>\n      <td>0</td>\n      <td>0</td>\n      <td>0</td>\n      <td>6</td>\n      <td>0</td>\n      <td>0</td>\n      <td>0</td>\n      <td>0</td>\n      <td>1</td>\n    </tr>\n  </tbody>\n</table>\n<p>12528 rows × 58 columns</p>\n</div>",
          "text/plain": "      dailyDataDate  home  teamId  gamePk    gameDate           gameTimeUTC  \\\n0        2018-03-29     1     109  529410  2018-03-29  2018-03-30T02:10:00Z   \n1        2018-03-29     0     114  529409  2018-03-29  2018-03-30T02:10:00Z   \n2        2018-03-29     1     121  529419  2018-03-29  2018-03-29T17:10:00Z   \n3        2018-03-29     1     139  529406  2018-03-29  2018-03-29T20:00:00Z   \n4        2018-03-29     1     140  529411  2018-03-29  2018-03-29T19:35:00Z   \n...             ...   ...     ...     ...         ...                   ...   \n12523    2021-04-30     0     117  634275  2021-04-30  2021-04-30T23:10:00Z   \n12524    2021-04-30     1     141  634280  2021-04-30  2021-04-30T23:37:00Z   \n12525    2021-04-30     1     147  634327  2021-04-30  2021-04-30T23:05:00Z   \n12526    2021-04-30     1     136  634287  2021-04-30  2021-05-01T02:10:00Z   \n12527    2021-04-30     1     113  634305  2021-04-30  2021-04-30T23:10:00Z   \n\n       flyOuts  groundOuts  runsScored  doubles  ...  hitBatsmen  balks  \\\n0            4           9           8        2  ...           0      0   \n1            4           9           1        1  ...           0      0   \n2            2          10           9        2  ...           0      0   \n3            2           6           6        1  ...           0      0   \n4            9           4           1        1  ...           0      0   \n...        ...         ...         ...      ...  ...         ...    ...   \n12523        5           6           9        3  ...           0      0   \n12524        5           7          13        1  ...           0      0   \n12525        6           7          10        2  ...           0      0   \n12526        5           4           7        2  ...           0      0   \n12527        5           7           8        2  ...           0      0   \n\n       wildPitches  pickoffsPitching  rbiPitching  inheritedRunners  \\\n0                0                 0            2                 0   \n1                0                 0            2                 0   \n2                0                 0            4                 0   \n3                0                 0            4                 0   \n4                0                 0            4                 0   \n...            ...               ...          ...               ...   \n12523            0                 0            2                 0   \n12524            0                 0            5                 0   \n12525            0                 0            0                 0   \n12526            0                 0            4                 0   \n12527            0                 0            6                 0   \n\n       inheritedRunnersScored  catchersInterferencePitching  sacBuntsPitching  \\\n0                           0                             0                 1   \n1                           0                             0                 0   \n2                           0                             0                 0   \n3                           0                             0                 0   \n4                           0                             0                 0   \n...                       ...                           ...               ...   \n12523                       0                             0                 0   \n12524                       0                             0                 0   \n12525                       0                             0                 0   \n12526                       0                             0                 0   \n12527                       0                             0                 0   \n\n       sacFliesPitching  \n0                     0  \n1                     0  \n2                     0  \n3                     0  \n4                     1  \n...                 ...  \n12523                 0  \n12524                 0  \n12525                 0  \n12526                 1  \n12527                 1  \n\n[12528 rows x 58 columns]"
         },
         "metadata": {},
         "output_type": "display_data"
        }
       ]
      }
     },
     "ce79b3ca0579489da9b1a28d42bfbcb9": {
      "model_module": "@jupyter-widgets/output",
      "model_module_version": "1.0.0",
      "model_name": "OutputModel",
      "state": {
       "_dom_classes": [],
       "_model_module": "@jupyter-widgets/output",
       "_model_module_version": "1.0.0",
       "_model_name": "OutputModel",
       "_view_count": null,
       "_view_module": "@jupyter-widgets/output",
       "_view_module_version": "1.0.0",
       "_view_name": "OutputView",
       "layout": "IPY_MODEL_899bb11a6089453d9c45b2bb1fd52c18",
       "msg_id": "",
       "outputs": [
        {
         "data": {
          "text/html": "<div>\n<style scoped>\n    .dataframe tbody tr th:only-of-type {\n        vertical-align: middle;\n    }\n\n    .dataframe tbody tr th {\n        vertical-align: top;\n    }\n\n    .dataframe thead th {\n        text-align: right;\n    }\n</style>\n<table border=\"1\" class=\"dataframe\">\n  <thead>\n    <tr style=\"text-align: right;\">\n      <th></th>\n      <th>dailyDataDate</th>\n      <th>date</th>\n      <th>playerId</th>\n      <th>playerName</th>\n      <th>accountName</th>\n      <th>twitterHandle</th>\n      <th>numberOfFollowers</th>\n    </tr>\n  </thead>\n  <tbody>\n    <tr>\n      <th>0</th>\n      <td>2018-01-01</td>\n      <td>2018-01-01</td>\n      <td>545361</td>\n      <td>Mike Trout</td>\n      <td>Mike Trout</td>\n      <td>@miketrout</td>\n      <td>2452409</td>\n    </tr>\n    <tr>\n      <th>1</th>\n      <td>2018-01-01</td>\n      <td>2018-01-01</td>\n      <td>506433</td>\n      <td>Yu Darvish</td>\n      <td>Yu Darvish</td>\n      <td>@faridyu</td>\n      <td>1945081</td>\n    </tr>\n    <tr>\n      <th>2</th>\n      <td>2018-01-01</td>\n      <td>2018-01-01</td>\n      <td>434378</td>\n      <td>Justin Verlander</td>\n      <td>Justin Verlander</td>\n      <td>@justinverlander</td>\n      <td>1795985</td>\n    </tr>\n    <tr>\n      <th>3</th>\n      <td>2018-01-01</td>\n      <td>2018-01-01</td>\n      <td>430897</td>\n      <td>Nick Swisher</td>\n      <td>Nick Swisher</td>\n      <td>@nickswisher</td>\n      <td>1711807</td>\n    </tr>\n    <tr>\n      <th>4</th>\n      <td>2018-01-01</td>\n      <td>2018-01-01</td>\n      <td>120074</td>\n      <td>David Ortiz</td>\n      <td>David Ortiz</td>\n      <td>@davidortiz</td>\n      <td>1515463</td>\n    </tr>\n    <tr>\n      <th>...</th>\n      <td>...</td>\n      <td>...</td>\n      <td>...</td>\n      <td>...</td>\n      <td>...</td>\n      <td>...</td>\n      <td>...</td>\n    </tr>\n    <tr>\n      <th>39584</th>\n      <td>2021-04-01</td>\n      <td>2021-04-01</td>\n      <td>605125</td>\n      <td>Cody Asche</td>\n      <td>Cody Asche</td>\n      <td>@aschecody</td>\n      <td>11</td>\n    </tr>\n    <tr>\n      <th>39585</th>\n      <td>2021-04-01</td>\n      <td>2021-04-01</td>\n      <td>542953</td>\n      <td>Buddy Boshers</td>\n      <td>Buddy Boshers</td>\n      <td>@buddy4023</td>\n      <td>9</td>\n    </tr>\n    <tr>\n      <th>39586</th>\n      <td>2021-04-01</td>\n      <td>2021-04-01</td>\n      <td>425766</td>\n      <td>James Loney</td>\n      <td>James Loney</td>\n      <td>@james_loney</td>\n      <td>5</td>\n    </tr>\n    <tr>\n      <th>39587</th>\n      <td>2021-04-01</td>\n      <td>2021-04-01</td>\n      <td>605233</td>\n      <td>Derek Fisher</td>\n      <td>Derek Fisher</td>\n      <td>@defish23</td>\n      <td>5</td>\n    </tr>\n    <tr>\n      <th>39588</th>\n      <td>2021-04-01</td>\n      <td>2021-04-01</td>\n      <td>502260</td>\n      <td>Vinnie Pestano</td>\n      <td>Vinnie Pestano</td>\n      <td>@vinniep52</td>\n      <td>4</td>\n    </tr>\n  </tbody>\n</table>\n<p>39589 rows × 7 columns</p>\n</div>",
          "text/plain": "      dailyDataDate       date  playerId        playerName       accountName  \\\n0        2018-01-01 2018-01-01    545361        Mike Trout        Mike Trout   \n1        2018-01-01 2018-01-01    506433        Yu Darvish        Yu Darvish   \n2        2018-01-01 2018-01-01    434378  Justin Verlander  Justin Verlander   \n3        2018-01-01 2018-01-01    430897      Nick Swisher      Nick Swisher   \n4        2018-01-01 2018-01-01    120074       David Ortiz       David Ortiz   \n...             ...        ...       ...               ...               ...   \n39584    2021-04-01 2021-04-01    605125        Cody Asche        Cody Asche   \n39585    2021-04-01 2021-04-01    542953     Buddy Boshers     Buddy Boshers   \n39586    2021-04-01 2021-04-01    425766       James Loney       James Loney   \n39587    2021-04-01 2021-04-01    605233      Derek Fisher      Derek Fisher   \n39588    2021-04-01 2021-04-01    502260    Vinnie Pestano    Vinnie Pestano   \n\n          twitterHandle  numberOfFollowers  \n0            @miketrout            2452409  \n1              @faridyu            1945081  \n2      @justinverlander            1795985  \n3          @nickswisher            1711807  \n4           @davidortiz            1515463  \n...                 ...                ...  \n39584        @aschecody                 11  \n39585        @buddy4023                  9  \n39586      @james_loney                  5  \n39587         @defish23                  5  \n39588        @vinniep52                  4  \n\n[39589 rows x 7 columns]"
         },
         "metadata": {},
         "output_type": "display_data"
        }
       ]
      }
     },
     "e1a84554e3ec48e4af92b106036c9ccd": {
      "model_module": "@jupyter-widgets/output",
      "model_module_version": "1.0.0",
      "model_name": "OutputModel",
      "state": {
       "_dom_classes": [],
       "_model_module": "@jupyter-widgets/output",
       "_model_module_version": "1.0.0",
       "_model_name": "OutputModel",
       "_view_count": null,
       "_view_module": "@jupyter-widgets/output",
       "_view_module_version": "1.0.0",
       "_view_name": "OutputView",
       "layout": "IPY_MODEL_458a2b175aff404d84b08ba4e3f295fd",
       "msg_id": "",
       "outputs": [
        {
         "data": {
          "text/html": "<div>\n<style scoped>\n    .dataframe tbody tr th:only-of-type {\n        vertical-align: middle;\n    }\n\n    .dataframe tbody tr th {\n        vertical-align: top;\n    }\n\n    .dataframe thead th {\n        text-align: right;\n    }\n</style>\n<table border=\"1\" class=\"dataframe\">\n  <thead>\n    <tr style=\"text-align: right;\">\n      <th></th>\n      <th>dailyDataDate</th>\n      <th>home</th>\n      <th>gamePk</th>\n      <th>gameDate</th>\n      <th>gameTimeUTC</th>\n      <th>teamId</th>\n      <th>teamName</th>\n      <th>playerId</th>\n      <th>playerName</th>\n      <th>jerseyNum</th>\n      <th>...</th>\n      <th>catchersInterferencePitching</th>\n      <th>sacBuntsPitching</th>\n      <th>sacFliesPitching</th>\n      <th>saves</th>\n      <th>holds</th>\n      <th>blownSaves</th>\n      <th>assists</th>\n      <th>putOuts</th>\n      <th>errors</th>\n      <th>chances</th>\n    </tr>\n  </thead>\n  <tbody>\n    <tr>\n      <th>0</th>\n      <td>2018-03-29</td>\n      <td>1</td>\n      <td>529418</td>\n      <td>2018-03-29</td>\n      <td>2018-03-29T23:08:00Z</td>\n      <td>119</td>\n      <td>Los Angeles Dodgers</td>\n      <td>605131</td>\n      <td>Austin Barnes</td>\n      <td>15</td>\n      <td>...</td>\n      <td>NaN</td>\n      <td>NaN</td>\n      <td>NaN</td>\n      <td>NaN</td>\n      <td>NaN</td>\n      <td>NaN</td>\n      <td>NaN</td>\n      <td>NaN</td>\n      <td>NaN</td>\n      <td>NaN</td>\n    </tr>\n    <tr>\n      <th>1</th>\n      <td>2018-03-29</td>\n      <td>1</td>\n      <td>529406</td>\n      <td>2018-03-29</td>\n      <td>2018-03-29T20:00:00Z</td>\n      <td>139</td>\n      <td>Tampa Bay Rays</td>\n      <td>605480</td>\n      <td>Mallex Smith</td>\n      <td>0</td>\n      <td>...</td>\n      <td>NaN</td>\n      <td>NaN</td>\n      <td>NaN</td>\n      <td>NaN</td>\n      <td>NaN</td>\n      <td>NaN</td>\n      <td>0.0</td>\n      <td>0.0</td>\n      <td>0.0</td>\n      <td>0.0</td>\n    </tr>\n    <tr>\n      <th>2</th>\n      <td>2018-03-29</td>\n      <td>0</td>\n      <td>529416</td>\n      <td>2018-03-29</td>\n      <td>2018-03-29T20:10:00Z</td>\n      <td>143</td>\n      <td>Philadelphia Phillies</td>\n      <td>546318</td>\n      <td>Odubel Herrera</td>\n      <td>37</td>\n      <td>...</td>\n      <td>NaN</td>\n      <td>NaN</td>\n      <td>NaN</td>\n      <td>NaN</td>\n      <td>NaN</td>\n      <td>NaN</td>\n      <td>0.0</td>\n      <td>0.0</td>\n      <td>0.0</td>\n      <td>0.0</td>\n    </tr>\n    <tr>\n      <th>3</th>\n      <td>2018-03-29</td>\n      <td>0</td>\n      <td>529412</td>\n      <td>2018-03-29</td>\n      <td>2018-03-29T20:05:00Z</td>\n      <td>108</td>\n      <td>Los Angeles Angels</td>\n      <td>527043</td>\n      <td>Jefry Marte</td>\n      <td>19</td>\n      <td>...</td>\n      <td>NaN</td>\n      <td>NaN</td>\n      <td>NaN</td>\n      <td>NaN</td>\n      <td>NaN</td>\n      <td>NaN</td>\n      <td>0.0</td>\n      <td>1.0</td>\n      <td>0.0</td>\n      <td>1.0</td>\n    </tr>\n    <tr>\n      <th>4</th>\n      <td>2018-03-29</td>\n      <td>1</td>\n      <td>529408</td>\n      <td>2018-03-29</td>\n      <td>2018-03-29T20:15:00Z</td>\n      <td>118</td>\n      <td>Kansas City Royals</td>\n      <td>449181</td>\n      <td>Paulo Orlando</td>\n      <td>16</td>\n      <td>...</td>\n      <td>NaN</td>\n      <td>NaN</td>\n      <td>NaN</td>\n      <td>NaN</td>\n      <td>NaN</td>\n      <td>NaN</td>\n      <td>0.0</td>\n      <td>2.0</td>\n      <td>0.0</td>\n      <td>2.0</td>\n    </tr>\n    <tr>\n      <th>...</th>\n      <td>...</td>\n      <td>...</td>\n      <td>...</td>\n      <td>...</td>\n      <td>...</td>\n      <td>...</td>\n      <td>...</td>\n      <td>...</td>\n      <td>...</td>\n      <td>...</td>\n      <td>...</td>\n      <td>...</td>\n      <td>...</td>\n      <td>...</td>\n      <td>...</td>\n      <td>...</td>\n      <td>...</td>\n      <td>...</td>\n      <td>...</td>\n      <td>...</td>\n      <td>...</td>\n    </tr>\n    <tr>\n      <th>185139</th>\n      <td>2021-04-30</td>\n      <td>1</td>\n      <td>634303</td>\n      <td>2021-04-30</td>\n      <td>2021-05-01T02:10:00Z</td>\n      <td>135</td>\n      <td>San Diego Padres</td>\n      <td>506433</td>\n      <td>Yu Darvish</td>\n      <td>11</td>\n      <td>...</td>\n      <td>0.0</td>\n      <td>0.0</td>\n      <td>0.0</td>\n      <td>0.0</td>\n      <td>0.0</td>\n      <td>0.0</td>\n      <td>0.0</td>\n      <td>1.0</td>\n      <td>0.0</td>\n      <td>1.0</td>\n    </tr>\n    <tr>\n      <th>185140</th>\n      <td>2021-04-30</td>\n      <td>1</td>\n      <td>634280</td>\n      <td>2021-04-30</td>\n      <td>2021-04-30T23:37:00Z</td>\n      <td>141</td>\n      <td>Toronto Blue Jays</td>\n      <td>592662</td>\n      <td>Robbie Ray</td>\n      <td>38</td>\n      <td>...</td>\n      <td>0.0</td>\n      <td>0.0</td>\n      <td>0.0</td>\n      <td>0.0</td>\n      <td>0.0</td>\n      <td>0.0</td>\n      <td>0.0</td>\n      <td>0.0</td>\n      <td>0.0</td>\n      <td>0.0</td>\n    </tr>\n    <tr>\n      <th>185141</th>\n      <td>2021-04-30</td>\n      <td>0</td>\n      <td>634381</td>\n      <td>2021-04-30</td>\n      <td>2021-05-01T01:40:00Z</td>\n      <td>110</td>\n      <td>Baltimore Orioles</td>\n      <td>607644</td>\n      <td>John Means</td>\n      <td>47</td>\n      <td>...</td>\n      <td>0.0</td>\n      <td>0.0</td>\n      <td>0.0</td>\n      <td>0.0</td>\n      <td>0.0</td>\n      <td>0.0</td>\n      <td>0.0</td>\n      <td>0.0</td>\n      <td>0.0</td>\n      <td>0.0</td>\n    </tr>\n    <tr>\n      <th>185142</th>\n      <td>2021-04-30</td>\n      <td>0</td>\n      <td>634275</td>\n      <td>2021-04-30</td>\n      <td>2021-04-30T23:10:00Z</td>\n      <td>117</td>\n      <td>Houston Astros</td>\n      <td>621121</td>\n      <td>Lance McCullers Jr.</td>\n      <td>43</td>\n      <td>...</td>\n      <td>0.0</td>\n      <td>0.0</td>\n      <td>0.0</td>\n      <td>0.0</td>\n      <td>0.0</td>\n      <td>0.0</td>\n      <td>0.0</td>\n      <td>0.0</td>\n      <td>0.0</td>\n      <td>0.0</td>\n    </tr>\n    <tr>\n      <th>185143</th>\n      <td>2021-04-30</td>\n      <td>0</td>\n      <td>634274</td>\n      <td>2021-04-30</td>\n      <td>2021-04-30T23:05:00Z</td>\n      <td>146</td>\n      <td>Miami Marlins</td>\n      <td>641154</td>\n      <td>Pablo Lopez</td>\n      <td>49</td>\n      <td>...</td>\n      <td>0.0</td>\n      <td>0.0</td>\n      <td>0.0</td>\n      <td>0.0</td>\n      <td>0.0</td>\n      <td>0.0</td>\n      <td>1.0</td>\n      <td>1.0</td>\n      <td>0.0</td>\n      <td>2.0</td>\n    </tr>\n  </tbody>\n</table>\n<p>185144 rows × 86 columns</p>\n</div>",
          "text/plain": "       dailyDataDate  home  gamePk    gameDate           gameTimeUTC  teamId  \\\n0         2018-03-29     1  529418  2018-03-29  2018-03-29T23:08:00Z     119   \n1         2018-03-29     1  529406  2018-03-29  2018-03-29T20:00:00Z     139   \n2         2018-03-29     0  529416  2018-03-29  2018-03-29T20:10:00Z     143   \n3         2018-03-29     0  529412  2018-03-29  2018-03-29T20:05:00Z     108   \n4         2018-03-29     1  529408  2018-03-29  2018-03-29T20:15:00Z     118   \n...              ...   ...     ...         ...                   ...     ...   \n185139    2021-04-30     1  634303  2021-04-30  2021-05-01T02:10:00Z     135   \n185140    2021-04-30     1  634280  2021-04-30  2021-04-30T23:37:00Z     141   \n185141    2021-04-30     0  634381  2021-04-30  2021-05-01T01:40:00Z     110   \n185142    2021-04-30     0  634275  2021-04-30  2021-04-30T23:10:00Z     117   \n185143    2021-04-30     0  634274  2021-04-30  2021-04-30T23:05:00Z     146   \n\n                     teamName  playerId           playerName jerseyNum  ...  \\\n0         Los Angeles Dodgers    605131        Austin Barnes        15  ...   \n1              Tampa Bay Rays    605480         Mallex Smith         0  ...   \n2       Philadelphia Phillies    546318       Odubel Herrera        37  ...   \n3          Los Angeles Angels    527043          Jefry Marte        19  ...   \n4          Kansas City Royals    449181        Paulo Orlando        16  ...   \n...                       ...       ...                  ...       ...  ...   \n185139       San Diego Padres    506433           Yu Darvish        11  ...   \n185140      Toronto Blue Jays    592662           Robbie Ray        38  ...   \n185141      Baltimore Orioles    607644           John Means        47  ...   \n185142         Houston Astros    621121  Lance McCullers Jr.        43  ...   \n185143          Miami Marlins    641154          Pablo Lopez        49  ...   \n\n        catchersInterferencePitching sacBuntsPitching sacFliesPitching  saves  \\\n0                                NaN              NaN              NaN    NaN   \n1                                NaN              NaN              NaN    NaN   \n2                                NaN              NaN              NaN    NaN   \n3                                NaN              NaN              NaN    NaN   \n4                                NaN              NaN              NaN    NaN   \n...                              ...              ...              ...    ...   \n185139                           0.0              0.0              0.0    0.0   \n185140                           0.0              0.0              0.0    0.0   \n185141                           0.0              0.0              0.0    0.0   \n185142                           0.0              0.0              0.0    0.0   \n185143                           0.0              0.0              0.0    0.0   \n\n        holds  blownSaves  assists  putOuts  errors  chances  \n0         NaN         NaN      NaN      NaN     NaN      NaN  \n1         NaN         NaN      0.0      0.0     0.0      0.0  \n2         NaN         NaN      0.0      0.0     0.0      0.0  \n3         NaN         NaN      0.0      1.0     0.0      1.0  \n4         NaN         NaN      0.0      2.0     0.0      2.0  \n...       ...         ...      ...      ...     ...      ...  \n185139    0.0         0.0      0.0      1.0     0.0      1.0  \n185140    0.0         0.0      0.0      0.0     0.0      0.0  \n185141    0.0         0.0      0.0      0.0     0.0      0.0  \n185142    0.0         0.0      0.0      0.0     0.0      0.0  \n185143    0.0         0.0      1.0      1.0     0.0      2.0  \n\n[185144 rows x 86 columns]"
         },
         "metadata": {},
         "output_type": "display_data"
        }
       ]
      }
     },
     "e3a0029d308046f382b57e4b64509644": {
      "model_module": "@jupyter-widgets/base",
      "model_module_version": "1.2.0",
      "model_name": "LayoutModel",
      "state": {
       "_model_module": "@jupyter-widgets/base",
       "_model_module_version": "1.2.0",
       "_model_name": "LayoutModel",
       "_view_count": null,
       "_view_module": "@jupyter-widgets/base",
       "_view_module_version": "1.2.0",
       "_view_name": "LayoutView",
       "align_content": null,
       "align_items": null,
       "align_self": null,
       "border": null,
       "bottom": null,
       "display": null,
       "flex": null,
       "flex_flow": null,
       "grid_area": null,
       "grid_auto_columns": null,
       "grid_auto_flow": null,
       "grid_auto_rows": null,
       "grid_column": null,
       "grid_gap": null,
       "grid_row": null,
       "grid_template_areas": null,
       "grid_template_columns": null,
       "grid_template_rows": null,
       "height": null,
       "justify_content": null,
       "justify_items": null,
       "left": null,
       "margin": null,
       "max_height": null,
       "max_width": null,
       "min_height": null,
       "min_width": null,
       "object_fit": null,
       "object_position": null,
       "order": null,
       "overflow": null,
       "overflow_x": null,
       "overflow_y": null,
       "padding": null,
       "right": null,
       "top": null,
       "visibility": null,
       "width": null
      }
     },
     "e6893b90bd8f4620947cb10746d7e1dc": {
      "model_module": "@jupyter-widgets/output",
      "model_module_version": "1.0.0",
      "model_name": "OutputModel",
      "state": {
       "_dom_classes": [],
       "_model_module": "@jupyter-widgets/output",
       "_model_module_version": "1.0.0",
       "_model_name": "OutputModel",
       "_view_count": null,
       "_view_module": "@jupyter-widgets/output",
       "_view_module_version": "1.0.0",
       "_view_name": "OutputView",
       "layout": "IPY_MODEL_4d08760f7db3416da5fb088e9cf9da38",
       "msg_id": "",
       "outputs": [
        {
         "data": {
          "text/html": "<div>\n<style scoped>\n    .dataframe tbody tr th:only-of-type {\n        vertical-align: middle;\n    }\n\n    .dataframe tbody tr th {\n        vertical-align: top;\n    }\n\n    .dataframe thead th {\n        text-align: right;\n    }\n</style>\n<table border=\"1\" class=\"dataframe\">\n  <thead>\n    <tr style=\"text-align: right;\">\n      <th></th>\n      <th>dailyDataDate</th>\n      <th>playerId</th>\n      <th>gameDate</th>\n      <th>teamId</th>\n      <th>statusCode</th>\n      <th>status</th>\n    </tr>\n  </thead>\n  <tbody>\n    <tr>\n      <th>0</th>\n      <td>2018-01-01</td>\n      <td>400121</td>\n      <td>2018-01-01</td>\n      <td>116</td>\n      <td>A</td>\n      <td>Active</td>\n    </tr>\n    <tr>\n      <th>1</th>\n      <td>2018-01-01</td>\n      <td>408045</td>\n      <td>2018-01-01</td>\n      <td>142</td>\n      <td>A</td>\n      <td>Active</td>\n    </tr>\n    <tr>\n      <th>2</th>\n      <td>2018-01-01</td>\n      <td>425492</td>\n      <td>2018-01-01</td>\n      <td>120</td>\n      <td>A</td>\n      <td>Active</td>\n    </tr>\n    <tr>\n      <th>3</th>\n      <td>2018-01-01</td>\n      <td>429664</td>\n      <td>2018-01-01</td>\n      <td>136</td>\n      <td>A</td>\n      <td>Active</td>\n    </tr>\n    <tr>\n      <th>4</th>\n      <td>2018-01-01</td>\n      <td>431151</td>\n      <td>2018-01-01</td>\n      <td>121</td>\n      <td>A</td>\n      <td>Active</td>\n    </tr>\n    <tr>\n      <th>...</th>\n      <td>...</td>\n      <td>...</td>\n      <td>...</td>\n      <td>...</td>\n      <td>...</td>\n      <td>...</td>\n    </tr>\n    <tr>\n      <th>1489655</th>\n      <td>2021-04-30</td>\n      <td>676969</td>\n      <td>2021-04-30</td>\n      <td>140</td>\n      <td>A</td>\n      <td>Active</td>\n    </tr>\n    <tr>\n      <th>1489656</th>\n      <td>2021-04-30</td>\n      <td>677960</td>\n      <td>2021-04-30</td>\n      <td>135</td>\n      <td>A</td>\n      <td>Active</td>\n    </tr>\n    <tr>\n      <th>1489657</th>\n      <td>2021-04-30</td>\n      <td>680692</td>\n      <td>2021-04-30</td>\n      <td>145</td>\n      <td>RM</td>\n      <td>Reassigned to Minors</td>\n    </tr>\n    <tr>\n      <th>1489658</th>\n      <td>2021-04-30</td>\n      <td>680702</td>\n      <td>2021-04-30</td>\n      <td>136</td>\n      <td>RM</td>\n      <td>Reassigned to Minors</td>\n    </tr>\n    <tr>\n      <th>1489659</th>\n      <td>2021-04-30</td>\n      <td>685503</td>\n      <td>2021-04-30</td>\n      <td>140</td>\n      <td>A</td>\n      <td>Active</td>\n    </tr>\n  </tbody>\n</table>\n<p>1489660 rows × 6 columns</p>\n</div>",
          "text/plain": "        dailyDataDate  playerId    gameDate  teamId statusCode  \\\n0          2018-01-01    400121  2018-01-01     116          A   \n1          2018-01-01    408045  2018-01-01     142          A   \n2          2018-01-01    425492  2018-01-01     120          A   \n3          2018-01-01    429664  2018-01-01     136          A   \n4          2018-01-01    431151  2018-01-01     121          A   \n...               ...       ...         ...     ...        ...   \n1489655    2021-04-30    676969  2021-04-30     140          A   \n1489656    2021-04-30    677960  2021-04-30     135          A   \n1489657    2021-04-30    680692  2021-04-30     145         RM   \n1489658    2021-04-30    680702  2021-04-30     136         RM   \n1489659    2021-04-30    685503  2021-04-30     140          A   \n\n                       status  \n0                      Active  \n1                      Active  \n2                      Active  \n3                      Active  \n4                      Active  \n...                       ...  \n1489655                Active  \n1489656                Active  \n1489657  Reassigned to Minors  \n1489658  Reassigned to Minors  \n1489659                Active  \n\n[1489660 rows x 6 columns]"
         },
         "metadata": {},
         "output_type": "display_data"
        }
       ]
      }
     },
     "e7e6bab5b472402384d3ea4e58e7c9ad": {
      "model_module": "@jupyter-widgets/output",
      "model_module_version": "1.0.0",
      "model_name": "OutputModel",
      "state": {
       "_dom_classes": [],
       "_model_module": "@jupyter-widgets/output",
       "_model_module_version": "1.0.0",
       "_model_name": "OutputModel",
       "_view_count": null,
       "_view_module": "@jupyter-widgets/output",
       "_view_module_version": "1.0.0",
       "_view_name": "OutputView",
       "layout": "IPY_MODEL_5ccf3b5d2b22410fbeff8504c947dbab",
       "msg_id": "",
       "outputs": [
        {
         "data": {
          "text/html": "<div>\n<style scoped>\n    .dataframe tbody tr th:only-of-type {\n        vertical-align: middle;\n    }\n\n    .dataframe tbody tr th {\n        vertical-align: top;\n    }\n\n    .dataframe thead th {\n        text-align: right;\n    }\n</style>\n<table border=\"1\" class=\"dataframe\">\n  <thead>\n    <tr style=\"text-align: right;\">\n      <th></th>\n      <th>dailyDataDate</th>\n      <th>engagementMetricsDate</th>\n      <th>playerId</th>\n      <th>target1</th>\n      <th>target2</th>\n      <th>target3</th>\n      <th>target4</th>\n    </tr>\n  </thead>\n  <tbody>\n    <tr>\n      <th>0</th>\n      <td>2018-01-01</td>\n      <td>2018-01-02</td>\n      <td>628317</td>\n      <td>0.011167</td>\n      <td>4.474708</td>\n      <td>0.005168</td>\n      <td>5.735294</td>\n    </tr>\n    <tr>\n      <th>1</th>\n      <td>2018-01-01</td>\n      <td>2018-01-02</td>\n      <td>547989</td>\n      <td>0.042993</td>\n      <td>5.593385</td>\n      <td>0.045033</td>\n      <td>2.794118</td>\n    </tr>\n    <tr>\n      <th>2</th>\n      <td>2018-01-01</td>\n      <td>2018-01-02</td>\n      <td>519317</td>\n      <td>0.974327</td>\n      <td>56.177043</td>\n      <td>13.693746</td>\n      <td>64.166667</td>\n    </tr>\n    <tr>\n      <th>3</th>\n      <td>2018-01-01</td>\n      <td>2018-01-02</td>\n      <td>607625</td>\n      <td>0.006700</td>\n      <td>2.675097</td>\n      <td>0.005168</td>\n      <td>1.862745</td>\n    </tr>\n    <tr>\n      <th>4</th>\n      <td>2018-01-01</td>\n      <td>2018-01-02</td>\n      <td>592547</td>\n      <td>0.001117</td>\n      <td>0.632296</td>\n      <td>0.002953</td>\n      <td>0.931373</td>\n    </tr>\n    <tr>\n      <th>...</th>\n      <td>...</td>\n      <td>...</td>\n      <td>...</td>\n      <td>...</td>\n      <td>...</td>\n      <td>...</td>\n      <td>...</td>\n    </tr>\n    <tr>\n      <th>2506171</th>\n      <td>2021-04-30</td>\n      <td>2021-05-01</td>\n      <td>451661</td>\n      <td>0.000000</td>\n      <td>0.013314</td>\n      <td>0.000000</td>\n      <td>0.625925</td>\n    </tr>\n    <tr>\n      <th>2506172</th>\n      <td>2021-04-30</td>\n      <td>2021-05-01</td>\n      <td>519301</td>\n      <td>0.000131</td>\n      <td>0.003329</td>\n      <td>0.000000</td>\n      <td>0.216229</td>\n    </tr>\n    <tr>\n      <th>2506173</th>\n      <td>2021-04-30</td>\n      <td>2021-05-01</td>\n      <td>527055</td>\n      <td>0.000000</td>\n      <td>0.019971</td>\n      <td>0.000000</td>\n      <td>0.273131</td>\n    </tr>\n    <tr>\n      <th>2506174</th>\n      <td>2021-04-30</td>\n      <td>2021-05-01</td>\n      <td>543484</td>\n      <td>0.000131</td>\n      <td>0.056586</td>\n      <td>0.000000</td>\n      <td>1.024240</td>\n    </tr>\n    <tr>\n      <th>2506175</th>\n      <td>2021-04-30</td>\n      <td>2021-05-01</td>\n      <td>605525</td>\n      <td>0.000131</td>\n      <td>0.499284</td>\n      <td>0.000000</td>\n      <td>0.386935</td>\n    </tr>\n  </tbody>\n</table>\n<p>2506176 rows × 7 columns</p>\n</div>",
          "text/plain": "        dailyDataDate engagementMetricsDate  playerId   target1    target2  \\\n0          2018-01-01            2018-01-02    628317  0.011167   4.474708   \n1          2018-01-01            2018-01-02    547989  0.042993   5.593385   \n2          2018-01-01            2018-01-02    519317  0.974327  56.177043   \n3          2018-01-01            2018-01-02    607625  0.006700   2.675097   \n4          2018-01-01            2018-01-02    592547  0.001117   0.632296   \n...               ...                   ...       ...       ...        ...   \n2506171    2021-04-30            2021-05-01    451661  0.000000   0.013314   \n2506172    2021-04-30            2021-05-01    519301  0.000131   0.003329   \n2506173    2021-04-30            2021-05-01    527055  0.000000   0.019971   \n2506174    2021-04-30            2021-05-01    543484  0.000131   0.056586   \n2506175    2021-04-30            2021-05-01    605525  0.000131   0.499284   \n\n           target3    target4  \n0         0.005168   5.735294  \n1         0.045033   2.794118  \n2        13.693746  64.166667  \n3         0.005168   1.862745  \n4         0.002953   0.931373  \n...            ...        ...  \n2506171   0.000000   0.625925  \n2506172   0.000000   0.216229  \n2506173   0.000000   0.273131  \n2506174   0.000000   1.024240  \n2506175   0.000000   0.386935  \n\n[2506176 rows x 7 columns]"
         },
         "metadata": {},
         "output_type": "display_data"
        }
       ]
      }
     }
    },
    "version_major": 2,
    "version_minor": 0
   }
  }
 },
 "nbformat": 4,
 "nbformat_minor": 5
}
